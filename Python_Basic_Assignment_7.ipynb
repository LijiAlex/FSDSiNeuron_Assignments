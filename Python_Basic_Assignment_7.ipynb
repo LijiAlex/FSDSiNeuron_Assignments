{
 "cells": [
  {
   "cell_type": "markdown",
   "id": "138aa9db",
   "metadata": {},
   "source": [
    "1. What is the name of the feature responsible for generating Regex objects?\n",
    "\n",
    "The re. compile() function returns Regex objects."
   ]
  },
  {
   "cell_type": "markdown",
   "id": "a561415d",
   "metadata": {},
   "source": [
    "2. Why do raw strings often appear in Regex objects?\n",
    "\n",
    "Raw strings are used so that backslashes do not have to be escaped."
   ]
  },
  {
   "cell_type": "markdown",
   "id": "c2d1e6c3",
   "metadata": {},
   "source": [
    "3. What is the return value of the search() method?\n",
    "\n",
    "Search() results matching object and if search did not succeed, and there is no matching text."
   ]
  },
  {
   "cell_type": "markdown",
   "id": "291c2e6f",
   "metadata": {},
   "source": [
    "4. From a Match item, how do you get the actual strings that match the pattern?\n",
    "\n",
    "group() function returns the matched string."
   ]
  },
  {
   "cell_type": "markdown",
   "id": "eb0a5943",
   "metadata": {},
   "source": [
    "5. In the regex which created from the r&#39;(\\d\\d\\d)-(\\d\\d\\d-\\d\\d\\d\\d)&#39;, what does group zero cover?\n",
    "Group 2? Group 1?\n",
    "\n",
    "Group 0 is the entire match, group 1 covers the first set of parentheses, and group 2 covers the second set of parentheses."
   ]
  },
  {
   "cell_type": "markdown",
   "id": "2d3df60f",
   "metadata": {},
   "source": [
    "6. In standard expression syntax, parentheses and intervals have distinct meanings. How can you tell\n",
    "a regex that you want it to fit real parentheses and periods?\n",
    "\n",
    "Periods and parentheses can be escaped with a backslash: \\., \\(, and \\)."
   ]
  },
  {
   "cell_type": "markdown",
   "id": "6fec174a",
   "metadata": {},
   "source": [
    "7. The findall() method returns a string list or a list of string tuples. What causes it to return one of\n",
    "the two options?\n",
    "\n",
    "If the regex has no groups, a list of strings is returned. If the regex has groups, a list of tuples of strings is returned."
   ]
  },
  {
   "cell_type": "markdown",
   "id": "1cab1f58",
   "metadata": {},
   "source": [
    "8. In standard expressions, what does the | character mean?\n",
    "\n",
    "or symbol"
   ]
  },
  {
   "cell_type": "markdown",
   "id": "a8006e99",
   "metadata": {},
   "source": [
    "9. In regular expressions, what does the character stand for?\n",
    "\n",
    "Match either of the two groups."
   ]
  },
  {
   "cell_type": "markdown",
   "id": "873a1bf2",
   "metadata": {},
   "source": [
    "10.In regular expressions, what is the difference between the + and * characters?\n",
    "\n",
    "+ indicates one or more occurence.\n",
    "* inducates zero or more occurence."
   ]
  },
  {
   "cell_type": "markdown",
   "id": "ef877e2a",
   "metadata": {},
   "source": [
    "11. What is the difference between {4} and {4,5} in regular expression?\n",
    "\n",
    "{4} matches exactly 4 instances of preceding group, {4,5} matches 4 to 5 instances of preceding group."
   ]
  },
  {
   "cell_type": "markdown",
   "id": "bd50f5fd",
   "metadata": {},
   "source": [
    "12. What do you mean by the \\d, \\w, and \\s shorthand character classes signify in regular expressions?\n",
    "* \\d matches a single digit\n",
    "* \\w matches a letter or digit or underbar [a-zA-Z0-9_]\n",
    "* \\s matches a space charcter"
   ]
  },
  {
   "cell_type": "markdown",
   "id": "088c72f7",
   "metadata": {},
   "source": [
    "13. What do means by \\D, \\W, and \\S shorthand character classes signify in regular expressions?\n",
    "\n",
    "* \\D matches a single character that is not a digit\n",
    "* \\W matches a single character that is not a letter or digit or underbar.\n",
    "* \\s matches a charcter that is not space.\n"
   ]
  },
  {
   "cell_type": "markdown",
   "id": "f5b37382",
   "metadata": {},
   "source": [
    "14. What is the difference between (.\\*?) and (.\\*)?\n",
    "\n",
    "* (.\\*)? is greedy. It tries to match as much .* as possible.\n",
    "* (.\\*?) is non greedy. It matches .* only once."
   ]
  },
  {
   "cell_type": "markdown",
   "id": "0597df90",
   "metadata": {},
   "source": [
    "15. What is the syntax for matching both numbers and lowercase letters with a character class?\n",
    "\n",
    "[a-z0-9]"
   ]
  },
  {
   "cell_type": "markdown",
   "id": "b1b017b3",
   "metadata": {},
   "source": [
    "16. What is the procedure for making a normal expression in regax case insensitive?\n",
    "\n",
    "We can pass re.IGNORECASE as a flag to make a normal expression case insensitive."
   ]
  },
  {
   "cell_type": "markdown",
   "id": "5250ba4c",
   "metadata": {},
   "source": [
    "17. What does the . character normally match? What does it match if re.DOTALL is passed as 2nd\n",
    "argument in re.compile()?\n",
    "\n",
    "Dot . character matches any character except newline character .By passing re.DOTALL as a flag to re.compile(), you can make the dot character match all characters, including the newline character."
   ]
  },
  {
   "cell_type": "markdown",
   "id": "2e14d2c7",
   "metadata": {},
   "source": [
    "18. If numReg = re.compile(r&#39;\\d+&#39;), what will numRegex.sub(&#39;X&#39;, &#39;11 drummers, 10 pipers, five rings, 4\n",
    "hen&#39;) return?\n",
    "\n",
    "'X drummers, X pipers, five rings, X hen'"
   ]
  },
  {
   "cell_type": "markdown",
   "id": "e4faf121",
   "metadata": {},
   "source": [
    "19. What does passing re.VERBOSE as the 2nd argument to re.compile() allow to do?\n",
    "\n",
    "re.VERBOSE will allow to add whitespace and comments to string passed to re.compile()."
   ]
  },
  {
   "cell_type": "markdown",
   "id": "720302a2",
   "metadata": {},
   "source": [
    "20. How would you write a regex that match a number with comma for every three digits? \n",
    "\n",
    "It must match the given following:\n",
    "* '42',\n",
    "* '1,234', \n",
    "* '6,368,745'\n",
    "\n",
    "but not the following: \n",
    "* '12,34,567' (which has only two digits between the commas) \n",
    "* '1234' (which lacks commas)"
   ]
  },
  {
   "cell_type": "code",
   "execution_count": 4,
   "id": "4a102583",
   "metadata": {},
   "outputs": [
    {
     "name": "stdout",
     "output_type": "stream",
     "text": [
      "Output: 42 -> 42\n",
      "Output: 1,234 -> 1,234\n",
      "Output: 6,368,745 -> 6,368,745\n",
      "Output: 12,34,567 -> None\n",
      "Output: 1234 -> None\n"
     ]
    }
   ],
   "source": [
    "import re\n",
    "pattern = r'^\\d{1,3}(,\\d{3})*$'\n",
    "match = re.compile(pattern)\n",
    "for ele in ['42','1,234', '6,368,745','12,34,567','1234']:\n",
    "    try:\n",
    "        print('Output:',ele, '->', match.search(ele).group())\n",
    "    except:\n",
    "        print('Output:',ele, '->', 'None')\n",
    "        continue"
   ]
  },
  {
   "cell_type": "markdown",
   "id": "ac71b236",
   "metadata": {},
   "source": [
    "21. How would you write a regex that matches the full name of someone whose last name is Watanabe? You can assume that the first name that comes before it will always be one word that begins with a capital letter. \n",
    "\n",
    "The regex must match the following:\n",
    "* &#39;Haruto Watanabe&#39;\n",
    "* &#39;Alice Watanabe&#39;\n",
    "* &#39;RoboCop Watanabe&#39;\n",
    "\n",
    "but not the following:\n",
    "\n",
    "* &#39;haruto Watanabe&#39; (where the first name is not capitalized)\n",
    "* &#39;Mr. Watanabe&#39; (where the preceding word has a nonletter character)\n",
    "* &#39;Watanabe&#39; (which has no first name)\n",
    "* &#39;Haruto watanabe&#39; (where Watanabe is not capitalized)"
   ]
  },
  {
   "cell_type": "code",
   "execution_count": 15,
   "id": "5263f0de",
   "metadata": {},
   "outputs": [
    {
     "name": "stdout",
     "output_type": "stream",
     "text": [
      "Output: Haruto Watanabe -> Haruto Watanabe\n",
      "Output: Alice Watanabe -> Alice Watanabe\n",
      "Output: RoboCop Watanabe -> RoboCop Watanabe\n",
      "Output: haruto Watanabe -> None\n",
      "Output: Mr. Watanabe -> None\n",
      "Output: Watanabe -> None\n",
      "Output: Haruto watanabe -> None\n"
     ]
    }
   ],
   "source": [
    "import re\n",
    "pattern = r'^[A-Z][A-Za-z]*(\\sWatanabe$)'\n",
    "match = re.compile(pattern)\n",
    "for name in ['Haruto Watanabe','Alice Watanabe','RoboCop Watanabe','haruto Watanabe','Mr. Watanabe','Watanabe','Haruto watanabe']:\n",
    "    try:\n",
    "        print('Output:',name, '->', match.search(name).group())\n",
    "    except:\n",
    "        print('Output:',name, '->', 'None')\n",
    "        continue"
   ]
  },
  {
   "cell_type": "markdown",
   "id": "41789819",
   "metadata": {},
   "source": [
    "22. How would you write a regex that matches a sentence where the first word is either Alice, Bob, or Carol; the second word is either eats, pets, or throws; the third word is apples, cats, or baseballs;and the sentence ends with a period? This regex should be case-insensitive. It must match the following:\n",
    "* &#39;Alice eats apples.&#39;\n",
    "* &#39;Bob pets cats.&#39;\n",
    "* &#39;Carol throws baseballs.&#39;\n",
    "* &#39;Alice throws Apples.&#39;\n",
    "* &#39;BOB EATS CATS.&#39;\n",
    "\n",
    "but not the following:\n",
    "* &#39;RoboCop eats apples.&#39;\n",
    "* &#39;ALICE THROWS FOOTBALLS.&#39;\n",
    "* &#39;Carol eats 7 cats.&#39;"
   ]
  },
  {
   "cell_type": "code",
   "execution_count": 11,
   "id": "fad70d6d",
   "metadata": {},
   "outputs": [
    {
     "name": "stdout",
     "output_type": "stream",
     "text": [
      "Output: Alice eats apples. -> Alice eats apples.\n",
      "Output: Bob pets cats. -> Bob pets cats.\n",
      "Output: Carol throws baseballs. -> Carol throws baseballs.\n",
      "Output: Alice throws Apples. -> Alice throws Apples.\n",
      "Output: BOB EATS CATS. -> BOB EATS CATS.\n",
      "Output: RoboCop eats apples. -> None\n",
      "Output: ALICE THROWS FOOTBALLS. -> None\n",
      "Output: Carol eats 7 cats. -> None\n"
     ]
    }
   ],
   "source": [
    "import re\n",
    "pattern = r'^(Alice|Bob|Carol){1}\\s(eats|pets|throws){1}\\s(apples|cats|baseballs){1}\\.$'\n",
    "match = re.compile(pattern, re.IGNORECASE)\n",
    "for statement in ['Alice eats apples.','Bob pets cats.','Carol throws baseballs.','Alice throws Apples.','BOB EATS CATS.','RoboCop eats apples.','ALICE THROWS FOOTBALLS.', 'Carol eats 7 cats.']:\n",
    "    try:\n",
    "        print('Output:',statement, '->', match.search(statement).group())\n",
    "    except:\n",
    "        print('Output:',statement, '->', 'None')\n",
    "        continue"
   ]
  },
  {
   "cell_type": "code",
   "execution_count": null,
   "id": "cddd4644",
   "metadata": {},
   "outputs": [],
   "source": []
  }
 ],
 "metadata": {
  "kernelspec": {
   "display_name": "Python 3 (ipykernel)",
   "language": "python",
   "name": "python3"
  },
  "language_info": {
   "codemirror_mode": {
    "name": "ipython",
    "version": 3
   },
   "file_extension": ".py",
   "mimetype": "text/x-python",
   "name": "python",
   "nbconvert_exporter": "python",
   "pygments_lexer": "ipython3",
   "version": "3.9.12"
  }
 },
 "nbformat": 4,
 "nbformat_minor": 5
}
