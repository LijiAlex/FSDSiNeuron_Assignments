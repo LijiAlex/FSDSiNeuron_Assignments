{
 "cells": [
  {
   "cell_type": "markdown",
   "id": "ad9299e2",
   "metadata": {},
   "source": [
    "### What is the meaning of multiple inheritance?"
   ]
  },
  {
   "cell_type": "markdown",
   "id": "ee91d566",
   "metadata": {},
   "source": [
    "When a class is derived from more than one base class it is called multiple Inheritance. The derived class inherits all the features of the base classes."
   ]
  },
  {
   "cell_type": "markdown",
   "id": "b5428e44",
   "metadata": {},
   "source": [
    "### What is the concept of delegation?"
   ]
  },
  {
   "cell_type": "markdown",
   "id": "a02e8c1d",
   "metadata": {},
   "source": [
    "Delegation is an alternative to inheritance for reusing code among multiple classes. Inheritance uses the IS-A relationship for re-use; delegation uses the HAS-A reference relationship to do the same."
   ]
  },
  {
   "cell_type": "markdown",
   "id": "eb1933e7",
   "metadata": {},
   "source": [
    "### What is the concept of composition?"
   ]
  },
  {
   "cell_type": "markdown",
   "id": "e537d51e",
   "metadata": {},
   "source": [
    "Composition is a concept that enables creating complex types by combining objects of other types. This means that a class Composite can contain an object of another class Component . "
   ]
  },
  {
   "cell_type": "markdown",
   "id": "107caa96",
   "metadata": {},
   "source": [
    "### What are bound methods and how do we use them?"
   ]
  },
  {
   "cell_type": "markdown",
   "id": "6a47eca4",
   "metadata": {},
   "source": [
    "If a function is an attribute of class and it is accessed via the instances, they are called bound methods. A bound method is one that has an instance passed(usually as 'self') as its first argument."
   ]
  },
  {
   "cell_type": "markdown",
   "id": "9b93978e",
   "metadata": {},
   "source": [
    "### What is the purpose of pseudoprivate attributes?"
   ]
  },
  {
   "cell_type": "markdown",
   "id": "a06c67d5",
   "metadata": {},
   "source": [
    "To avoid namespace collisions in instances and not to restrict access to names in general."
   ]
  },
  {
   "cell_type": "code",
   "execution_count": null,
   "id": "e180b9a8",
   "metadata": {},
   "outputs": [],
   "source": []
  }
 ],
 "metadata": {
  "kernelspec": {
   "display_name": "Python 3",
   "language": "python",
   "name": "python3"
  },
  "language_info": {
   "codemirror_mode": {
    "name": "ipython",
    "version": 3
   },
   "file_extension": ".py",
   "mimetype": "text/x-python",
   "name": "python",
   "nbconvert_exporter": "python",
   "pygments_lexer": "ipython3",
   "version": "3.8.8"
  }
 },
 "nbformat": 4,
 "nbformat_minor": 5
}
