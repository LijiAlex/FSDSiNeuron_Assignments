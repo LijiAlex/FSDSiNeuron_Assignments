{
 "cells": [
  {
   "cell_type": "markdown",
   "id": "6cd1b819",
   "metadata": {},
   "source": [
    "### 1.What are the two values of the Boolean data type? How do you write them?\n"
   ]
  },
  {
   "cell_type": "markdown",
   "id": "aab29a49",
   "metadata": {},
   "source": [
    "The two value of Boolean datatype are 1 and 0. They are written as True and False respectively."
   ]
  },
  {
   "cell_type": "markdown",
   "id": "12819b88",
   "metadata": {},
   "source": [
    "### 2. What are the three different types of Boolean operators?"
   ]
  },
  {
   "cell_type": "markdown",
   "id": "89653bcd",
   "metadata": {},
   "source": [
    "The three different types of Boolean/ logical opeartors are and, or and not."
   ]
  },
  {
   "cell_type": "markdown",
   "id": "ae3c9333",
   "metadata": {},
   "source": [
    "### 3. Make a list of each Boolean operator's truth tables <br>(i.e. every possible combination of Boolean values for the operator and what it evaluate )."
   ]
  },
  {
   "cell_type": "markdown",
   "id": "c2da2d92",
   "metadata": {},
   "source": [
    "<u> AND"
   ]
  },
  {
   "cell_type": "markdown",
   "id": "00500603",
   "metadata": {},
   "source": [
    "| A | B | A and B |\n",
    "| :-: | :-: | :-: |\n",
    "| True | False | False\n",
    "| False | True | False\n",
    "| False | False | False\n",
    "| True | True | True"
   ]
  },
  {
   "cell_type": "markdown",
   "id": "b204432c",
   "metadata": {},
   "source": [
    "<u> OR"
   ]
  },
  {
   "cell_type": "markdown",
   "id": "0bc97541",
   "metadata": {},
   "source": [
    "| A | B | A or B |\n",
    "| :-: | :-: | :-: |\n",
    "| True | False | True\n",
    "| False | True | True\n",
    "| False | False | False\n",
    "| True | True | True"
   ]
  },
  {
   "cell_type": "markdown",
   "id": "d978fcad",
   "metadata": {},
   "source": [
    "<u> NOT"
   ]
  },
  {
   "cell_type": "markdown",
   "id": "d691ee24",
   "metadata": {},
   "source": [
    "| A | not A |\n",
    "| :-: | :-: |\n",
    "| True | False | \n",
    "| False | True |"
   ]
  },
  {
   "cell_type": "markdown",
   "id": "2c943354",
   "metadata": {},
   "source": [
    "### 4. What are the values of the following expressions?"
   ]
  },
  {
   "cell_type": "markdown",
   "id": "75ee3a7e",
   "metadata": {},
   "source": [
    "| Expression | Value |\n",
    "| :- | :-: |\n",
    "| (5 > 4) and (3 == 5) | False |\n",
    "| not (5 > 4) | False |\n",
    "| (5 > 4) or (3 == 5) | True |\n",
    "| not ((5 > 4) or (3 == 5)) | False |\n",
    "| (True and True) and (True == False) | False |\n",
    "| (not False) or (not True) | True|\n"
   ]
  },
  {
   "cell_type": "markdown",
   "id": "082b7195",
   "metadata": {},
   "source": [
    "### 5. What are the six comparison operators?"
   ]
  },
  {
   "cell_type": "markdown",
   "id": "ae7eb2c6",
   "metadata": {},
   "source": [
    "The six comparison operators are \n",
    "* \\>\n",
    "* <\n",
    "* \\>=\n",
    "* <=\n",
    "* ==\n",
    "* !="
   ]
  },
  {
   "cell_type": "markdown",
   "id": "d6705e32",
   "metadata": {},
   "source": [
    "### 6. How do you tell the difference between the equal to and assignment operators?Describe a condition and when you would use one.\n"
   ]
  },
  {
   "cell_type": "markdown",
   "id": "8cff5af2",
   "metadata": {},
   "source": [
    "An equal to operator is == and assignment operator is =. When you want to compare two values for equality we use equal to(==) operator where as to assign some values to a variable we use assignment operator(=)."
   ]
  },
  {
   "cell_type": "markdown",
   "id": "14ec6498",
   "metadata": {},
   "source": [
    "### 7. Identify the three blocks in this code:"
   ]
  },
  {
   "cell_type": "code",
   "execution_count": 12,
   "id": "3b9d8e0b",
   "metadata": {},
   "outputs": [
    {
     "name": "stdout",
     "output_type": "stream",
     "text": [
      "ham\n",
      "spam\n",
      "spam\n"
     ]
    }
   ],
   "source": [
    "spam = 0\n",
    "if spam == 10: \n",
    "    print('eggs') # block 1\n",
    "if spam > 5:   \n",
    "    print('bacon') #block 2\n",
    "else:\n",
    "    print('ham') # block 3\n",
    "    print('spam')\n",
    "    print('spam')"
   ]
  },
  {
   "cell_type": "markdown",
   "id": "7f85d4d8",
   "metadata": {},
   "source": [
    "### 8. Write code that prints Hello if 1 is stored in spam, prints Howdy if 2 is stored in spam, and prints Greetings! if anything else is stored in spam."
   ]
  },
  {
   "cell_type": "code",
   "execution_count": 15,
   "id": "d9c4382d",
   "metadata": {},
   "outputs": [
    {
     "name": "stdout",
     "output_type": "stream",
     "text": [
      "1\n",
      "Hello\n"
     ]
    }
   ],
   "source": [
    "spam = int(input())\n",
    "if spam == 1:\n",
    "    print(\"Hello\")\n",
    "elif spam == 2:\n",
    "    print(\"Howdy\")\n",
    "else:\n",
    "    print(\"Greetings!\")"
   ]
  },
  {
   "cell_type": "markdown",
   "id": "6abcb156",
   "metadata": {},
   "source": [
    "### 9.If your programme is stuck in an endless loop, what keys you’ll press?"
   ]
  },
  {
   "cell_type": "markdown",
   "id": "bbe9775e",
   "metadata": {},
   "source": [
    "ctrl + C can interrupt an infinite loop in Python shell."
   ]
  },
  {
   "cell_type": "markdown",
   "id": "d64a2aca",
   "metadata": {},
   "source": [
    "### 10. How can you tell the difference between break and continue?"
   ]
  },
  {
   "cell_type": "markdown",
   "id": "fab20fdf",
   "metadata": {},
   "source": [
    "'break' ends the current loop while 'continue' skips the remaining lines of the loop and continues with the next iteration."
   ]
  },
  {
   "cell_type": "markdown",
   "id": "3d7b752e",
   "metadata": {},
   "source": [
    "### 11. In a for loop, what is the difference between range(10), range(0, 10), and range(0, 10, 1)?"
   ]
  },
  {
   "cell_type": "markdown",
   "id": "b599532d",
   "metadata": {},
   "source": [
    "All the three expresssions generate the same set of numbers .i.e. 0, 1, 2, 3, 4, 5, 6, 7, 8, 9."
   ]
  },
  {
   "cell_type": "markdown",
   "id": "b4cb52ac",
   "metadata": {},
   "source": [
    "### 12. Write a short program that prints the numbers 1 to 10 using a for loop. Then write an equivalent program that prints the numbers 1 to 10 using a while loop"
   ]
  },
  {
   "cell_type": "markdown",
   "id": "a4249af4",
   "metadata": {},
   "source": [
    "<u> for"
   ]
  },
  {
   "cell_type": "code",
   "execution_count": 20,
   "id": "a513d336",
   "metadata": {},
   "outputs": [
    {
     "name": "stdout",
     "output_type": "stream",
     "text": [
      "1 2 3 4 5 6 7 8 9 10 "
     ]
    }
   ],
   "source": [
    "for i in range(1,11):\n",
    "    print(i, end=\" \")"
   ]
  },
  {
   "cell_type": "markdown",
   "id": "07bb1675",
   "metadata": {},
   "source": [
    "<u> while"
   ]
  },
  {
   "cell_type": "code",
   "execution_count": 21,
   "id": "94dbb616",
   "metadata": {},
   "outputs": [
    {
     "name": "stdout",
     "output_type": "stream",
     "text": [
      "1 2 3 4 5 6 7 8 9 10 "
     ]
    }
   ],
   "source": [
    "i = 1\n",
    "while i <= 10:\n",
    "    print(i, end=\" \")\n",
    "    i += 1"
   ]
  },
  {
   "cell_type": "markdown",
   "id": "ba8943d3",
   "metadata": {},
   "source": [
    "### 13. If you had a function named bacon() inside a module named spam, how would you call it after importing spam?"
   ]
  },
  {
   "cell_type": "markdown",
   "id": "98d673b1",
   "metadata": {},
   "source": [
    "spam.bacon()"
   ]
  },
  {
   "cell_type": "code",
   "execution_count": null,
   "id": "e3ddaaed",
   "metadata": {},
   "outputs": [],
   "source": []
  }
 ],
 "metadata": {
  "kernelspec": {
   "display_name": "Python 3",
   "language": "python",
   "name": "python3"
  },
  "language_info": {
   "codemirror_mode": {
    "name": "ipython",
    "version": 3
   },
   "file_extension": ".py",
   "mimetype": "text/x-python",
   "name": "python",
   "nbconvert_exporter": "python",
   "pygments_lexer": "ipython3",
   "version": "3.8.8"
  }
 },
 "nbformat": 4,
 "nbformat_minor": 5
}
