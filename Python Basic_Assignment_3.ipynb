{
 "cells": [
  {
   "cell_type": "markdown",
   "id": "64795fbd",
   "metadata": {},
   "source": [
    "### 1. Why are functions advantageous to have in your programs?"
   ]
  },
  {
   "cell_type": "markdown",
   "id": "5e7e1265",
   "metadata": {},
   "source": [
    "Functions\n",
    "1. Bring modularity to the programs there by making it more readable.\n",
    "2. Increases reusability.\n",
    "3. Debugging a code becomes easy."
   ]
  },
  {
   "cell_type": "markdown",
   "id": "a8eb63cb",
   "metadata": {},
   "source": [
    "### 2. When does the code in a function run: when it's specified or when it's called?"
   ]
  },
  {
   "cell_type": "markdown",
   "id": "89ed4dcd",
   "metadata": {},
   "source": [
    "A function code is executed when it is called."
   ]
  },
  {
   "cell_type": "markdown",
   "id": "0b7b82fa",
   "metadata": {},
   "source": [
    "### 3. What statement creates a function?"
   ]
  },
  {
   "cell_type": "markdown",
   "id": "5c7284c7",
   "metadata": {},
   "source": [
    "def function_name():"
   ]
  },
  {
   "cell_type": "markdown",
   "id": "3363f312",
   "metadata": {},
   "source": [
    "### 4. What is the difference between a function and a function call?"
   ]
  },
  {
   "cell_type": "markdown",
   "id": "ed243b36",
   "metadata": {},
   "source": [
    "<br>A function has a set of lines of code(block). It assigns a name to the block of code which may take some input and may return some value. \n",
    "<br>A function call is required to execute the set of lines of code defined under the function name. Once  function is defined, it can be called n number of times."
   ]
  },
  {
   "cell_type": "markdown",
   "id": "ceedc482",
   "metadata": {},
   "source": [
    "### 5. How many global scopes are there in a Python program? How many local scopes?"
   ]
  },
  {
   "cell_type": "markdown",
   "id": "4fa3fee4",
   "metadata": {},
   "source": [
    "<br> There are 2 global scopes in Python- global scope(global to a file), built-in scope. \n",
    "<br> There are 2 local scopes in Python - local to a function, enclosing scope"
   ]
  },
  {
   "cell_type": "markdown",
   "id": "bbe7d41c",
   "metadata": {},
   "source": [
    "### 6. What happens to variables in a local scope when the function call returns?"
   ]
  },
  {
   "cell_type": "markdown",
   "id": "f5c4ea2b",
   "metadata": {},
   "source": [
    "Local variables are destroyed once the function call terminates."
   ]
  },
  {
   "cell_type": "markdown",
   "id": "1c9f8299",
   "metadata": {},
   "source": [
    "### 7. What is the concept of a return value? Is it possible to have a return value in an expression?"
   ]
  },
  {
   "cell_type": "markdown",
   "id": "b9579dad",
   "metadata": {},
   "source": [
    "<br>A return value is the output of the function. \n",
    "<br>Yes, it is possible to have a return value in the form of an expression."
   ]
  },
  {
   "cell_type": "markdown",
   "id": "acc43829",
   "metadata": {},
   "source": [
    "### 8. If a function does not have a return statement, what is the return value of a call to that function?"
   ]
  },
  {
   "cell_type": "markdown",
   "id": "e0955f2b",
   "metadata": {},
   "source": [
    "None"
   ]
  },
  {
   "cell_type": "markdown",
   "id": "fc34efff",
   "metadata": {},
   "source": [
    "### 9. How do you make a function variable refer to the global variable?"
   ]
  },
  {
   "cell_type": "markdown",
   "id": "de027bf7",
   "metadata": {},
   "source": [
    "Prefixing a variable with keyword global informs the function that global varaible is referenced in the code.\n",
    "<br>Eg:- global \\<variable_name\\>"
   ]
  },
  {
   "cell_type": "markdown",
   "id": "f8177fb6",
   "metadata": {},
   "source": [
    "### 10. What is the data type of None?"
   ]
  },
  {
   "cell_type": "markdown",
   "id": "6380e78d",
   "metadata": {},
   "source": [
    "NoneType"
   ]
  },
  {
   "cell_type": "markdown",
   "id": "f33f8ee9",
   "metadata": {},
   "source": [
    "### 11. What does the sentence import areallyourpetsnamederic do?"
   ]
  },
  {
   "cell_type": "markdown",
   "id": "a8e63908",
   "metadata": {},
   "source": [
    "It allows the current script to use the Python definitions and statements defined in the module areallyourpetsnamederic."
   ]
  },
  {
   "cell_type": "markdown",
   "id": "3803ee72",
   "metadata": {},
   "source": [
    "### 12. If you had a bacon() feature in a spam module, what would you call it after importing spam?"
   ]
  },
  {
   "cell_type": "markdown",
   "id": "d6e13a20",
   "metadata": {},
   "source": [
    "spam.bacon()"
   ]
  },
  {
   "cell_type": "markdown",
   "id": "64bfc49d",
   "metadata": {},
   "source": [
    "### 13. What can you do to save a programme from crashing if it encounters an error?"
   ]
  },
  {
   "cell_type": "markdown",
   "id": "3812cdab",
   "metadata": {},
   "source": [
    "Add exception handling to the program so that the error is caught and the program won't crash."
   ]
  },
  {
   "cell_type": "markdown",
   "id": "e8f847e5",
   "metadata": {},
   "source": [
    "### 14. What is the purpose of the try clause? What is the purpose of the except clause?"
   ]
  },
  {
   "cell_type": "markdown",
   "id": "f2ed85c6",
   "metadata": {},
   "source": [
    "try checks if the block is raising any exceptions or not.\n",
    "<br> except catches the exception raised in try block. \n",
    "<br> The program control goes to except block once try block raises an exception."
   ]
  },
  {
   "cell_type": "code",
   "execution_count": null,
   "id": "57e3dac4",
   "metadata": {},
   "outputs": [],
   "source": []
  }
 ],
 "metadata": {
  "kernelspec": {
   "display_name": "Python 3",
   "language": "python",
   "name": "python3"
  },
  "language_info": {
   "codemirror_mode": {
    "name": "ipython",
    "version": 3
   },
   "file_extension": ".py",
   "mimetype": "text/x-python",
   "name": "python",
   "nbconvert_exporter": "python",
   "pygments_lexer": "ipython3",
   "version": "3.8.8"
  }
 },
 "nbformat": 4,
 "nbformat_minor": 5
}
