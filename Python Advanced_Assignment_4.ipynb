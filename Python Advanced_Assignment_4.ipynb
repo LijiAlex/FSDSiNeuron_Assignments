{
 "cells": [
  {
   "cell_type": "markdown",
   "id": "1e5f0aea",
   "metadata": {},
   "source": [
    "### Which two operator overloading methods can you use in your classes to support iteration?"
   ]
  },
  {
   "cell_type": "markdown",
   "id": "39a366a6",
   "metadata": {},
   "source": [
    "\\_\\_iter\\_\\_() and \\_\\_next\\_\\_()"
   ]
  },
  {
   "cell_type": "markdown",
   "id": "c78af3df",
   "metadata": {},
   "source": [
    "### In what contexts do the two operator overloading methods manage printing?"
   ]
  },
  {
   "cell_type": "markdown",
   "id": "86dfe75f",
   "metadata": {},
   "source": [
    "\\_\\_str\\_\\_() can be overloaded if we need to print class details while printing the class name.\n",
    "\\_\\_next\\_\\_() can be over loaded to print the next lement from a sequence of elements."
   ]
  },
  {
   "cell_type": "markdown",
   "id": "c4ee1d12",
   "metadata": {},
   "source": [
    "### In a class, how do you intercept slice operations?"
   ]
  },
  {
   "cell_type": "markdown",
   "id": "d271f93a",
   "metadata": {},
   "source": [
    "\\_\\_getitem\\_\\_() method can be implement in a class, and the behavior of slicing can be defined inside it."
   ]
  },
  {
   "cell_type": "markdown",
   "id": "4ab182cd",
   "metadata": {},
   "source": [
    "### In a class, how do you capture in-place addition?"
   ]
  },
  {
   "cell_type": "markdown",
   "id": "a7a987b7",
   "metadata": {},
   "source": [
    "operator.iadd() can be used to capture in-place addition."
   ]
  },
  {
   "cell_type": "markdown",
   "id": "27de9a73",
   "metadata": {},
   "source": [
    "### When is it appropriate to use operator overloading?"
   ]
  },
  {
   "cell_type": "markdown",
   "id": "3caecb6a",
   "metadata": {},
   "source": [
    "When the user-defined classes have to work with normal operators, operator overloading must be defined so that it will be compatible with these operators."
   ]
  },
  {
   "cell_type": "code",
   "execution_count": null,
   "id": "6d5aaf03",
   "metadata": {},
   "outputs": [],
   "source": []
  }
 ],
 "metadata": {
  "kernelspec": {
   "display_name": "Python 3",
   "language": "python",
   "name": "python3"
  },
  "language_info": {
   "codemirror_mode": {
    "name": "ipython",
    "version": 3
   },
   "file_extension": ".py",
   "mimetype": "text/x-python",
   "name": "python",
   "nbconvert_exporter": "python",
   "pygments_lexer": "ipython3",
   "version": "3.8.8"
  }
 },
 "nbformat": 4,
 "nbformat_minor": 5
}
