{
 "cells": [
  {
   "cell_type": "markdown",
   "id": "0e3306fb",
   "metadata": {},
   "source": [
    "<b>Create a function in python to read the text file and replace specific content of the file.\n",
    "\n",
    "* File name:example.txt\n",
    "* Origin file content: This is a placement assignment\n",
    "* Replace string: Placement should be replaced by screening.\n",
    "* Replaced file content: This is a screening assignment"
   ]
  },
  {
   "cell_type": "code",
   "execution_count": 45,
   "id": "18b32487",
   "metadata": {},
   "outputs": [],
   "source": [
    "def read_file(file_name):\n",
    "    \"\"\"\n",
    "    Reads a file and prints its contents.\n",
    "    \n",
    "    file_name: File to be read. \n",
    "    \n",
    "    return: file contents\n",
    "    \"\"\"\n",
    "    f = open(file_name)\n",
    "    contents = f.readlines()    \n",
    "    f.close()\n",
    "    print(\"\".join(contents))\n",
    "    return contents\n",
    "\n",
    "def word_replace(file_name, word_in_file, replacement_word):\n",
    "    \"\"\"\n",
    "    Reads the file and replace specific content of the file.\n",
    "    \n",
    "    file_name: File to be read. \n",
    "    word_in_file: Word in the file that needs to be replaced.\n",
    "    replacement_word: The word that replaces the word in the file.\n",
    "    \n",
    "    \"\"\"\n",
    "    try:\n",
    "    # reads the file and print its contents   \n",
    "        print(\"Original File Content:\")\n",
    "        contents = read_file(file_name)       \n",
    "    \n",
    "        # updates the file with new content\n",
    "       \n",
    "        f = open(file_name, 'w')\n",
    "        for line in contents:\n",
    "            f.write(line.replace(word_in_file, replacement_word))\n",
    "        f.close()\n",
    "        \n",
    "    \n",
    "        # reads the file and print its contents  \n",
    "        print(\"Updated File Content:\")\n",
    "        read_file(file_name)\n",
    "    except Exception as e:\n",
    "        print(e)\n",
    "        print(\"Error...exiting the program\")\n",
    "        "
   ]
  },
  {
   "cell_type": "code",
   "execution_count": 46,
   "id": "3bb056a1",
   "metadata": {},
   "outputs": [
    {
     "name": "stdout",
     "output_type": "stream",
     "text": [
      "Original File Content:\n",
      "This is a placement assignment\n",
      "\n",
      "Updated File Content:\n",
      "This is a screening assignment\n",
      "\n"
     ]
    }
   ],
   "source": [
    "word_replace(\"example.txt\", \"placement\", \"screening\")"
   ]
  },
  {
   "cell_type": "markdown",
   "id": "15e79e2b",
   "metadata": {},
   "source": [
    "<b>Demonstrate use of abstract class"
   ]
  },
  {
   "cell_type": "markdown",
   "id": "dc634a3a",
   "metadata": {},
   "source": [
    "An abstract class is a class that acts as a template class for all its sub classes. It forces all its sub classes to implement a set of abstract methods. Abstract methods are methods without any body. A class with one or two abstract methods are known as abstract classes. When a class inherits from an abstract class it has to implement these abstract methods, else it cannot be instansiated. By this way we can force all the child classes to implement a certain set of methods."
   ]
  },
  {
   "cell_type": "code",
   "execution_count": 18,
   "id": "b7368e51",
   "metadata": {},
   "outputs": [],
   "source": [
    "from abc import ABC, abstractmethod\n",
    "\"\"\"\n",
    "ABC Pvt Ltd is digitizing its functionality. Individual departments are working with experts to attain this. \n",
    "But the main architect felt like inter department interface also needs to be taken care of. \n",
    "Hence he came up with the department interface and asked all the departments to implement it.\n",
    "\"\"\"\n",
    "\n",
    "class DepartmentInterface(ABC):\n",
    "    \"\"\"\n",
    "    Abstract class which all the departments has to implement.\n",
    "    \"\"\"\n",
    "    @abstractmethod\n",
    "    def no_of_employees(self):\n",
    "        \"\"\"\n",
    "        Mention no of employees in the department.\n",
    "        \"\"\"\n",
    "        pass\n",
    "    \n",
    "    @abstractmethod\n",
    "    def contact_person(self):\n",
    "        \"\"\"\n",
    "        Mention the contact person and his/her mobile number.\n",
    "        \"\"\"\n",
    "        pass\n",
    "    \n",
    "    @abstractmethod\n",
    "    def head_of_department(self):\n",
    "        \"\"\"\n",
    "        Mention the head of department.\n",
    "        \"\"\"\n",
    "        pass    \n",
    "        \n",
    "\n",
    "class CurriculumDepartment(DepartmentInterface):\n",
    "    \"\"\"\n",
    "    Interface class o curriculum department.\n",
    "    \"\"\"\n",
    "    def no_of_employees(self):\n",
    "        print(\"No. of employees: 5\")    \n",
    "    \n",
    "    def contact_person(self):\n",
    "        name = \"Mr.Raghav Sen\"\n",
    "        mobile = \"876543219\"\n",
    "        print(f\"Contact Person: {name}, Mobile: {mobile}\")\n",
    "    \n",
    "    \n",
    "    def head_of_department(self):\n",
    "        name = \"Mrs.Alisyia James\"\n",
    "        print(f\"Head Of Department: {name}\")\n",
    "        \n",
    "class OperationsDepartment(DepartmentInterface):\n",
    "    \"\"\"\n",
    "    Interface class of operations department.\n",
    "    \"\"\"\n",
    "    def no_of_employees(self):\n",
    "        print(\"No. of employees: 10\")    \n",
    "    \n",
    "    def contact_person(self):\n",
    "        name = \"Mrs Seema Aggarwal\"\n",
    "        mobile = \"876543220\"\n",
    "        print(f\"Contact Person: {name}, Mobile: {mobile}\")\n",
    "    \n",
    "    \n",
    "    def head_of_department(self):\n",
    "        name = \"Mr. Nikhil Swarangi\"\n",
    "        print(f\"Head Of Department: {name}\")\n",
    "        \n",
    "class TrainingDepartment(DepartmentInterface):\n",
    "    \"\"\"\n",
    "    Interface class of training department.\n",
    "    \"\"\"\n",
    "    def no_of_employees(self):\n",
    "        print(\"No. of employees: 4\")    \n",
    "    \n",
    "    def contact_person(self):\n",
    "        name = \"Mrs.Ria Jose\"\n",
    "        mobile = \"876543220\"\n",
    "        print(f\"Contact Person: {name}, Mobile: {mobile}\")\n",
    "    \n",
    "    \n",
    "    def head_of_department(self):\n",
    "        name = \"Mrs.Shweta Poppin\"\n",
    "        print(f\"Head Of Department: {name}\")\n",
    "        "
   ]
  },
  {
   "cell_type": "code",
   "execution_count": 19,
   "id": "2d89229b",
   "metadata": {},
   "outputs": [
    {
     "name": "stdout",
     "output_type": "stream",
     "text": [
      "Head Of Department: Mrs.Alisyia James\n",
      "Contact Person: Mrs.Ria Jose, Mobile: 876543220\n"
     ]
    }
   ],
   "source": [
    "cd = CurriculumDepartment()\n",
    "td = TrainingDepartment()\n",
    "cd.head_of_department()\n",
    "td.contact_person()"
   ]
  },
  {
   "cell_type": "markdown",
   "id": "509f36e5",
   "metadata": {},
   "source": [
    "In the above example, DepartmentInterface is an abstract class which defines how the interface to each department should be implemented. So all the classes which inherits from this abstract classes implements these methods. By this way, it can be ensured that all the relevant implementation is done. Had it is not been defined as an abstract class, child class can skip implementing these methods by which main details will be left out.\n",
    "<p>So mainly abstract classes are used where we require to standarised the template of a class."
   ]
  },
  {
   "cell_type": "markdown",
   "id": "18820f33",
   "metadata": {},
   "source": [
    "<b>Demostrate multiple inheritance."
   ]
  },
  {
   "cell_type": "markdown",
   "id": "ac9f8ee2",
   "metadata": {},
   "source": [
    "When a class inherits from more than one class it is known as multiple inheritence."
   ]
  },
  {
   "cell_type": "code",
   "execution_count": 27,
   "id": "738886bb",
   "metadata": {},
   "outputs": [],
   "source": [
    "\"\"\"\n",
    "ABC edtech has the provision to employee teachers as curriculum designers along with regular teaching job. \n",
    "They are then considered as full time teachers with the amount earned by teaching added as bonus to the fixed salary of \n",
    "curriculum designer. \n",
    "\"\"\"\n",
    "class CurriculumDesigner:\n",
    "    \"\"\"\n",
    "    Defines the attributes and methods applicable to a CurriculumDesigner.\n",
    "    \"\"\"\n",
    "    def __init__(self, current_course, salary):\n",
    "        self.current_course = current_course\n",
    "        self.salary = salary\n",
    "        \n",
    "    def get_salary(self):\n",
    "        \"\"\"\n",
    "        fixed amount\n",
    "        \"\"\"\n",
    "        return self.salary\n",
    "    \n",
    "class Teacher:\n",
    "    \"\"\"\n",
    "    Defines the attributes and methods applicable to a Teacher.\n",
    "    \"\"\"\n",
    "    def __init__(self, class_hours, pay_per_hour):\n",
    "        self.class_hours = class_hours\n",
    "        self.pay_per_hour = pay_per_hour\n",
    "        \n",
    "    def get_income(self):\n",
    "        \"\"\"\n",
    "        paid on hourly basis.\n",
    "        \"\"\"\n",
    "        return self.class_hours * self.pay_per_hour\n",
    "    \n",
    "class FullTimeTeachers(CurriculumDesigner, Teacher):\n",
    "    \"\"\"\n",
    "    FullTimeTeachers do the duty of Curriculum designers along with being a teacher.\n",
    "    \"\"\"\n",
    "    def __init__(self, current_course, salary, class_hours, pay_per_hour):\n",
    "        CurriculumDesigner.__init__(self, current_course, salary)\n",
    "        Teacher.__init__(self, class_hours, pay_per_hour)\n",
    "        \n",
    "    def total_earnings(self):\n",
    "        \"\"\"\n",
    "        Defined as fixed salary of curriculum designing+ income by teaching\n",
    "        \"\"\"\n",
    "        return self.get_salary() + self.get_income()\n",
    "        "
   ]
  },
  {
   "cell_type": "code",
   "execution_count": 26,
   "id": "7155df87",
   "metadata": {},
   "outputs": [
    {
     "data": {
      "text/plain": [
       "43000"
      ]
     },
     "execution_count": 26,
     "metadata": {},
     "output_type": "execute_result"
    }
   ],
   "source": [
    "me = FullTimeTeachers('PC', 35000, 20, 400)\n",
    "me.total_earnings()"
   ]
  },
  {
   "cell_type": "markdown",
   "id": "1793497f",
   "metadata": {},
   "source": [
    "In the above example, FullTimeTeachers is inheriting from two classes basically CurriculumDesigner and Teacher."
   ]
  },
  {
   "cell_type": "markdown",
   "id": "0363ea2a",
   "metadata": {},
   "source": [
    "<b>Demostrate decorators in Python"
   ]
  },
  {
   "cell_type": "markdown",
   "id": "a5360218",
   "metadata": {},
   "source": [
    "Decorators are used to modify the behaviour of a function without actually changing the function. Decorators can be considered as special callable functions which takes in another function as an argument and enhances the behaviour of the input function."
   ]
  },
  {
   "cell_type": "code",
   "execution_count": 34,
   "id": "bb9f85be",
   "metadata": {},
   "outputs": [],
   "source": [
    "from datetime import datetime\n",
    "import logging\n",
    "\n",
    "\n",
    "def logging_function_call(func):\n",
    "    \"\"\"Log the date and time of the function call\"\"\"\n",
    "\n",
    "    def inner():\n",
    "        logging.basicConfig(filename=\"log.txt\", level=logging.INFO,\n",
    "                                format='%(asctime)s %(levelname)s %(message)s') \n",
    "        logging.info(f\"{func.__name__} executed.\")\n",
    "        func()\n",
    "    return inner\n",
    "\n",
    "\n",
    "@logging_function_call\n",
    "def report_generated():\n",
    "    pass   \n",
    "\n",
    "     \n",
    "report_generated()"
   ]
  },
  {
   "cell_type": "markdown",
   "id": "65677335",
   "metadata": {},
   "source": [
    "In the above example, logging_function_call is a decorator. The decorator is applied on the function report_generated. So once report_generated is called, the decorator function adds some functionality to the function such as it logs the function execution time and then only the function report_generated is called."
   ]
  },
  {
   "cell_type": "code",
   "execution_count": null,
   "id": "84612298",
   "metadata": {},
   "outputs": [],
   "source": []
  }
 ],
 "metadata": {
  "kernelspec": {
   "display_name": "Python 3",
   "language": "python",
   "name": "python3"
  },
  "language_info": {
   "codemirror_mode": {
    "name": "ipython",
    "version": 3
   },
   "file_extension": ".py",
   "mimetype": "text/x-python",
   "name": "python",
   "nbconvert_exporter": "python",
   "pygments_lexer": "ipython3",
   "version": "3.8.8"
  }
 },
 "nbformat": 4,
 "nbformat_minor": 5
}
