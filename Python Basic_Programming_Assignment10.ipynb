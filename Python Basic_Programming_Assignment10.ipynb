{
 "cells": [
  {
   "cell_type": "markdown",
   "id": "ad0762be",
   "metadata": {},
   "source": [
    "### 1. Write a Python program to find sum of elements in list?"
   ]
  },
  {
   "cell_type": "code",
   "execution_count": 1,
   "id": "7a655d46",
   "metadata": {},
   "outputs": [],
   "source": [
    "def func1(l):\n",
    "    \"\"\"\n",
    "    Returns sum of elements in list assuming list contains only numbers.\n",
    "    Input\n",
    "    1 : a list\n",
    "    \"\"\"\n",
    "    s = 0\n",
    "    for i in l:\n",
    "        s = s + i\n",
    "    return s    "
   ]
  },
  {
   "cell_type": "code",
   "execution_count": 2,
   "id": "86524b7e",
   "metadata": {},
   "outputs": [
    {
     "data": {
      "text/plain": [
       "38"
      ]
     },
     "execution_count": 2,
     "metadata": {},
     "output_type": "execute_result"
    }
   ],
   "source": [
    "func1([1, 2, 5, 6, 7, 8, 9])"
   ]
  },
  {
   "cell_type": "markdown",
   "id": "3ed00fb8",
   "metadata": {},
   "source": [
    "### 2. Write a Python program to  Multiply all numbers in the list?"
   ]
  },
  {
   "cell_type": "code",
   "execution_count": 3,
   "id": "d5ceb653",
   "metadata": {},
   "outputs": [],
   "source": [
    "def func2(l):\n",
    "    \"\"\"\n",
    "    Returns product of numbers in a list.\n",
    "    Input\n",
    "    1 : a list\n",
    "    \"\"\"\n",
    "    p = 1\n",
    "    for i in l:\n",
    "        if type(i) == int:\n",
    "            p = p * i\n",
    "    return p  "
   ]
  },
  {
   "cell_type": "code",
   "execution_count": 4,
   "id": "93c12367",
   "metadata": {},
   "outputs": [
    {
     "data": {
      "text/plain": [
       "1800"
      ]
     },
     "execution_count": 4,
     "metadata": {},
     "output_type": "execute_result"
    }
   ],
   "source": [
    "func2([1, 2, 4, 5, 45, \"hello\"])"
   ]
  },
  {
   "cell_type": "markdown",
   "id": "d1be00b8",
   "metadata": {},
   "source": [
    "### 3. Write a Python program to find smallest number in a list?"
   ]
  },
  {
   "cell_type": "code",
   "execution_count": 5,
   "id": "fedd5ddc",
   "metadata": {},
   "outputs": [],
   "source": [
    "def func3(l):\n",
    "    \"\"\"\n",
    "    Returns min element in a list assuming list contains only numbers.\n",
    "    Input\n",
    "    1 : a list\n",
    "    \"\"\"\n",
    "    return min(l) "
   ]
  },
  {
   "cell_type": "code",
   "execution_count": 6,
   "id": "c1b04200",
   "metadata": {},
   "outputs": [
    {
     "data": {
      "text/plain": [
       "-3"
      ]
     },
     "execution_count": 6,
     "metadata": {},
     "output_type": "execute_result"
    }
   ],
   "source": [
    "func3([1, 2, 4, 5, 45, 0, -3, -2, 34, -1])"
   ]
  },
  {
   "cell_type": "markdown",
   "id": "00c0c64a",
   "metadata": {},
   "source": [
    "### 4. Write a Python program to find largest number in a list?"
   ]
  },
  {
   "cell_type": "code",
   "execution_count": 7,
   "id": "fff321c7",
   "metadata": {},
   "outputs": [],
   "source": [
    "def func4(l):\n",
    "    \"\"\"\n",
    "    Returns max element in a list assuming list contains only numbers.\n",
    "    Input\n",
    "    1 : a list\n",
    "    \"\"\"\n",
    "    return max(l) "
   ]
  },
  {
   "cell_type": "code",
   "execution_count": 8,
   "id": "b8cece49",
   "metadata": {},
   "outputs": [
    {
     "data": {
      "text/plain": [
       "45"
      ]
     },
     "execution_count": 8,
     "metadata": {},
     "output_type": "execute_result"
    }
   ],
   "source": [
    "func4([1, 2, 4, 5, 45, 0, -3, -2, 34, -1])"
   ]
  },
  {
   "cell_type": "markdown",
   "id": "96296faa",
   "metadata": {},
   "source": [
    "### 5. Write a Python program to find second largest number in a list?"
   ]
  },
  {
   "cell_type": "code",
   "execution_count": 9,
   "id": "6af71a44",
   "metadata": {},
   "outputs": [],
   "source": [
    "def func5(l):  \n",
    "    \"\"\"\n",
    "    Returns second largest element in a list assuming list contains only numbers.\n",
    "    Input\n",
    "    1 : a list\n",
    "    \"\"\"\n",
    "    maxNum = max(l)\n",
    "    # remove all occurences of maximum number\n",
    "    for i in range(l.count(maxNum)):\n",
    "        l.remove(maxNum)\n",
    "    # returns the next maximum number\n",
    "    return max(l)"
   ]
  },
  {
   "cell_type": "code",
   "execution_count": 10,
   "id": "6ae698d2",
   "metadata": {},
   "outputs": [
    {
     "data": {
      "text/plain": [
       "36"
      ]
     },
     "execution_count": 10,
     "metadata": {},
     "output_type": "execute_result"
    }
   ],
   "source": [
    "func5([1, 2, 4, 5, 45, 45, 0, -3, -2, 34, 45,36, -1])"
   ]
  },
  {
   "cell_type": "markdown",
   "id": "ab1e8027",
   "metadata": {},
   "source": [
    "### 6. Write a Python program to find N largest elements from a list?"
   ]
  },
  {
   "cell_type": "code",
   "execution_count": 11,
   "id": "e937ad95",
   "metadata": {},
   "outputs": [],
   "source": [
    "def func6(l, N):\n",
    "    \"\"\"\n",
    "    Returns N largest elements in a list assuming list contains only numbers.\n",
    "    Input\n",
    "    1 : a list\n",
    "    N : Number of largest elements to be displayed\n",
    "    \"\"\"\n",
    "    for i in range(N):\n",
    "        maxNum = max(l)\n",
    "        print(maxNum)\n",
    "        # remove all occurences of maximum number\n",
    "        for i in range(l.count(maxNum)):\n",
    "            l.remove(maxNum)"
   ]
  },
  {
   "cell_type": "code",
   "execution_count": 12,
   "id": "cfef0a4c",
   "metadata": {},
   "outputs": [
    {
     "name": "stdout",
     "output_type": "stream",
     "text": [
      "45\n",
      "36\n",
      "34\n"
     ]
    }
   ],
   "source": [
    "func6([1, 2, 4, 5, 45, 45, 0, -3, -2, 34, 45,36, -1], 3)"
   ]
  },
  {
   "cell_type": "markdown",
   "id": "df2fa4e7",
   "metadata": {},
   "source": [
    "### 7. Write a Python program to print even numbers in a list?"
   ]
  },
  {
   "cell_type": "code",
   "execution_count": 13,
   "id": "7dc594f7",
   "metadata": {},
   "outputs": [],
   "source": [
    "def func7(l):\n",
    "    \"\"\"\n",
    "    Prints even numbers in a list assuming list contains only numbers.\n",
    "    Input\n",
    "    1 : a list\n",
    "    \"\"\"\n",
    "    for i in l:\n",
    "        if i%2 == 0:\n",
    "          print(i)"
   ]
  },
  {
   "cell_type": "code",
   "execution_count": 14,
   "id": "253c95b1",
   "metadata": {},
   "outputs": [
    {
     "name": "stdout",
     "output_type": "stream",
     "text": [
      "2\n",
      "4\n",
      "0\n",
      "-2\n",
      "34\n",
      "36\n"
     ]
    }
   ],
   "source": [
    "func7([1, 2, 4, 5, 45, 45, 0, -3, -2, 34, 45,36, -1])"
   ]
  },
  {
   "cell_type": "markdown",
   "id": "67bcab4a",
   "metadata": {},
   "source": [
    "### 8. Write a Python program to print odd numbers in a List?"
   ]
  },
  {
   "cell_type": "code",
   "execution_count": 15,
   "id": "eccec118",
   "metadata": {},
   "outputs": [],
   "source": [
    "def func8(l):\n",
    "    \"\"\"\n",
    "    Prints odd numbers in a list assuming list contains only numbers.\n",
    "    Input\n",
    "    1 : a list\n",
    "    \"\"\"\n",
    "    for i in l:\n",
    "        if i%2 == 1:\n",
    "          print(i)"
   ]
  },
  {
   "cell_type": "code",
   "execution_count": 16,
   "id": "6d2912df",
   "metadata": {},
   "outputs": [
    {
     "name": "stdout",
     "output_type": "stream",
     "text": [
      "1\n",
      "5\n",
      "45\n",
      "45\n",
      "-3\n",
      "45\n",
      "-1\n"
     ]
    }
   ],
   "source": [
    "func8([1, 2, 4, 5, 45, 45, 0, -3, -2, 34, 45,36, -1])"
   ]
  },
  {
   "cell_type": "markdown",
   "id": "b9b816d4",
   "metadata": {},
   "source": [
    "### 9. Write a Python program to Remove empty List from List?"
   ]
  },
  {
   "cell_type": "code",
   "execution_count": 17,
   "id": "9c640b78",
   "metadata": {},
   "outputs": [],
   "source": [
    "def func9(l):\n",
    "    \"\"\"\n",
    "    Returns a list after removing an empty lists if present.\n",
    "    Input\n",
    "    1 : a list\n",
    "    \"\"\"\n",
    "    for i in l:\n",
    "        if i == []:\n",
    "          l.remove(i)\n",
    "    print(l)"
   ]
  },
  {
   "cell_type": "code",
   "execution_count": 18,
   "id": "92cd36f2",
   "metadata": {},
   "outputs": [
    {
     "name": "stdout",
     "output_type": "stream",
     "text": [
      "[1, 2, 4, 5, 45, 45, 0, -3, -2, 34, 45, 36, -1]\n"
     ]
    }
   ],
   "source": [
    "func9([1, 2, 4, 5, [], 45, 45, 0,[], -3, -2, 34, 45,36, -1])"
   ]
  },
  {
   "cell_type": "markdown",
   "id": "edebbe99",
   "metadata": {},
   "source": [
    "### 10. Write a Python program to Cloning or Copying a list?"
   ]
  },
  {
   "cell_type": "code",
   "execution_count": 19,
   "id": "5945193e",
   "metadata": {},
   "outputs": [],
   "source": [
    "def func10(l):\n",
    "    \"\"\"\n",
    "    Returns a copy of the list.\n",
    "    Input\n",
    "    1 : a list\n",
    "    \"\"\"\n",
    "    l1 = l.copy()\n",
    "    return l1"
   ]
  },
  {
   "cell_type": "code",
   "execution_count": 20,
   "id": "9cb54e6f",
   "metadata": {},
   "outputs": [
    {
     "data": {
      "text/plain": [
       "[1, 2, 4, 5, 45, 45, 0, -3, -2, 34, 45, 36, -1]"
      ]
     },
     "execution_count": 20,
     "metadata": {},
     "output_type": "execute_result"
    }
   ],
   "source": [
    "func10([1, 2, 4, 5, 45, 45, 0, -3, -2, 34, 45,36, -1])"
   ]
  },
  {
   "cell_type": "markdown",
   "id": "3099df89",
   "metadata": {},
   "source": [
    "### 11. Write a Python program to Count occurrences of an element in a list?"
   ]
  },
  {
   "cell_type": "code",
   "execution_count": 21,
   "id": "48426929",
   "metadata": {},
   "outputs": [],
   "source": [
    "def func11(l, n):\n",
    "    \"\"\"\n",
    "    Returns number of occurences of the element passed.\n",
    "    Input\n",
    "    1 : a list\n",
    "    n : element whose count will be returned\n",
    "    \"\"\"\n",
    "    return l.count(n)"
   ]
  },
  {
   "cell_type": "code",
   "execution_count": 22,
   "id": "8d0137e7",
   "metadata": {},
   "outputs": [
    {
     "data": {
      "text/plain": [
       "3"
      ]
     },
     "execution_count": 22,
     "metadata": {},
     "output_type": "execute_result"
    }
   ],
   "source": [
    "func11([1, 2, 4, 5, 45, 45, 0, -3, -2, 34, 45,36, -1], 45)"
   ]
  }
 ],
 "metadata": {
  "kernelspec": {
   "display_name": "Python 3",
   "language": "python",
   "name": "python3"
  },
  "language_info": {
   "codemirror_mode": {
    "name": "ipython",
    "version": 3
   },
   "file_extension": ".py",
   "mimetype": "text/x-python",
   "name": "python",
   "nbconvert_exporter": "python",
   "pygments_lexer": "ipython3",
   "version": "3.8.8"
  }
 },
 "nbformat": 4,
 "nbformat_minor": 5
}
