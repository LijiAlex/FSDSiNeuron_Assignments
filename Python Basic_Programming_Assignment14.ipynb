{
 "cells": [
  {
   "cell_type": "markdown",
   "id": "3202e7a2",
   "metadata": {},
   "source": [
    "### Define a class with a generator which can iterate the numbers, which are divisible by 7, between a given range 0 and n."
   ]
  },
  {
   "cell_type": "code",
   "execution_count": 6,
   "id": "151b2a85",
   "metadata": {},
   "outputs": [],
   "source": [
    "class DivisibleByN:\n",
    "    def __init__(self, n):\n",
    "        self.n = n\n",
    "    def numbers(self):\n",
    "        for i in range(1, self.n+1):\n",
    "            if i%7 ==0:\n",
    "                yield i"
   ]
  },
  {
   "cell_type": "code",
   "execution_count": 7,
   "id": "49db6c8c",
   "metadata": {},
   "outputs": [
    {
     "name": "stdout",
     "output_type": "stream",
     "text": [
      "7 14 21 28 35 42 49 "
     ]
    }
   ],
   "source": [
    "for i in DivisibleByN(50).numbers():\n",
    "    print(i, end=\" \")"
   ]
  },
  {
   "cell_type": "markdown",
   "id": "e562b5c0",
   "metadata": {},
   "source": [
    "### Write a program to compute the frequency of the words from the input. The output should output after sorting the key alphanumerically.\n",
    "<br>Suppose the following input is supplied to the program:New to Python or choosing between Python 2 and Python 3? Read Python 2 or Python 3.\n",
    "<pre>\n",
    "Then, the output should be:\n",
    "2:2\n",
    "3.:1\n",
    "3?:1\n",
    "New:1\n",
    "Python:5\n",
    "Read:1\n",
    "and:1\n",
    "between:1\n",
    "choosing:1\n",
    "or:2\n",
    "to:1"
   ]
  },
  {
   "cell_type": "code",
   "execution_count": 20,
   "id": "bb85eb44",
   "metadata": {},
   "outputs": [],
   "source": [
    "def get_frequency(s):\n",
    "    words = s.split()\n",
    "    unique_words = list(set(words))\n",
    "    unique_words.sort()\n",
    "    for word in unique_words:\n",
    "        print(f\"{word}: {words.count(word)}\")"
   ]
  },
  {
   "cell_type": "code",
   "execution_count": 21,
   "id": "459533ea",
   "metadata": {},
   "outputs": [
    {
     "name": "stdout",
     "output_type": "stream",
     "text": [
      "2: 2\n",
      "3.: 1\n",
      "3?: 1\n",
      "New: 1\n",
      "Python: 5\n",
      "Read: 1\n",
      "and: 1\n",
      "between: 1\n",
      "choosing: 1\n",
      "or: 2\n",
      "to: 1\n"
     ]
    }
   ],
   "source": [
    "get_frequency(\"New to Python or choosing between Python 2 and Python 3? Read Python 2 or Python 3.\")"
   ]
  },
  {
   "cell_type": "markdown",
   "id": "b73f805d",
   "metadata": {},
   "source": [
    "### Define a class Person and its two child classes: Male and Female. All classes have a method &quot;getGender&quot; which can print &quot;Male&quot; for Male class and &quot;Female&quot; for Female class."
   ]
  },
  {
   "cell_type": "code",
   "execution_count": 26,
   "id": "a2dbba8f",
   "metadata": {},
   "outputs": [],
   "source": [
    "class Person:\n",
    "    def __init__(self, g):\n",
    "        self.gender = g\n",
    "    def getGender(self):\n",
    "        print(self.gender)\n",
    "        \n",
    "class Male(Person):\n",
    "    def __init__(self):\n",
    "        self.gender = \"Male\"\n",
    "    def getGender(self):\n",
    "        Person.getGender(self)\n",
    "        \n",
    "class Female(Person):\n",
    "    def __init__(self):\n",
    "        self.gender = \"Female\"\n",
    "    def getGender(self):\n",
    "        Person.getGender(self)"
   ]
  },
  {
   "cell_type": "code",
   "execution_count": 27,
   "id": "e88bf11d",
   "metadata": {},
   "outputs": [
    {
     "name": "stdout",
     "output_type": "stream",
     "text": [
      "Male\n"
     ]
    }
   ],
   "source": [
    "m = Male()\n",
    "m.getGender()"
   ]
  },
  {
   "cell_type": "markdown",
   "id": "c8cd2cbb",
   "metadata": {},
   "source": [
    "### Please write a program to generate all sentences where subject is in [&quot;I&quot;, &quot;You&quot;] and verb is in [&quot;Play&quot;, &quot;Love&quot;] and the object is in [&quot;Hockey&quot;,&quot;Football&quot;]."
   ]
  },
  {
   "cell_type": "code",
   "execution_count": 30,
   "id": "c8f8d7f5",
   "metadata": {},
   "outputs": [
    {
     "name": "stdout",
     "output_type": "stream",
     "text": [
      "I Play Hockey\n",
      "I Play Football\n",
      "I Love Hockey\n",
      "I Love Football\n",
      "You Play Hockey\n",
      "You Play Football\n",
      "You Love Hockey\n",
      "You Love Football\n"
     ]
    }
   ],
   "source": [
    "import itertools\n",
    "\n",
    "subject = [\"I\", \"You\"]\n",
    "verb = [\"Play\", \"Love\"]\n",
    "obj = [\"Hockey\",\"Football\"]\n",
    "\n",
    "for element in itertools.product(subject, verb, obj):\n",
    "    print(\" \".join(element))"
   ]
  },
  {
   "cell_type": "markdown",
   "id": "a1d68733",
   "metadata": {},
   "source": [
    "### Please write a program to compress and decompress the string &quot;hello world!hello world!hello world!hello world!&quot;."
   ]
  },
  {
   "cell_type": "code",
   "execution_count": 48,
   "id": "85f0e784",
   "metadata": {},
   "outputs": [
    {
     "name": "stdout",
     "output_type": "stream",
     "text": [
      "Size of original text: 97\n",
      "Size of compressed text: 56\n",
      "Compressed String: b'x\\x9c\\xcbH\\xcd\\xc9\\xc9W(\\xcf/\\xcaIQ\\xcc \\x82\\r\\x00\\xbd[\\x11\\xf5'\n",
      "Decompressed String: b'hello world!hello world!hello world!hello world!'\n"
     ]
    }
   ],
   "source": [
    "import zlib\n",
    "import sys\n",
    "s = 'hello world!hello world!hello world!hello world!'\n",
    "print(f\"Size of original text: {sys.getsizeof(s)}\")\n",
    "t = zlib.compress(y)\n",
    "print(f\"Size of compressed text: {sys.getsizeof(t)}\")\n",
    "print(f\"Compressed String: {t}\")\n",
    "decompress = zlib.decompress(t)\n",
    "print(f\"Decompressed String: {decompress}\")"
   ]
  },
  {
   "cell_type": "markdown",
   "id": "fbe579e7",
   "metadata": {},
   "source": [
    "### Please write a binary search function which searches an item in a sorted list. The function should return the index of element to be searched in the list."
   ]
  },
  {
   "cell_type": "code",
   "execution_count": 49,
   "id": "5e4321d3",
   "metadata": {},
   "outputs": [
    {
     "name": "stdout",
     "output_type": "stream",
     "text": [
      "Item present at index 3\n"
     ]
    }
   ],
   "source": [
    "def binary_search(l,n):\n",
    "    low = 0\n",
    "    high = len(l) - 1\n",
    "    mid = 0\n",
    "    while low <= high:\n",
    "        mid = (high + low) // 2        \n",
    "        if l[mid] < n:\n",
    "            low = mid + 1            \n",
    "        elif l[mid] > n:\n",
    "            high = mid - 1\n",
    "        else:\n",
    "            return mid        \n",
    "    return False\n",
    "\n",
    "\n",
    "l = [ 2, 3, 4, 1, 400, 50, 60, 20 ]\n",
    "num = 1\n",
    "result = binary_search(l, num)\n",
    "if result != False:\n",
    "    print(\"Item present at index\", str(result))\n",
    "else:\n",
    "    print(\"Item not present\")\n"
   ]
  },
  {
   "cell_type": "code",
   "execution_count": null,
   "id": "ad7b0ccd",
   "metadata": {},
   "outputs": [],
   "source": []
  }
 ],
 "metadata": {
  "kernelspec": {
   "display_name": "Python 3",
   "language": "python",
   "name": "python3"
  },
  "language_info": {
   "codemirror_mode": {
    "name": "ipython",
    "version": 3
   },
   "file_extension": ".py",
   "mimetype": "text/x-python",
   "name": "python",
   "nbconvert_exporter": "python",
   "pygments_lexer": "ipython3",
   "version": "3.8.8"
  }
 },
 "nbformat": 4,
 "nbformat_minor": 5
}
