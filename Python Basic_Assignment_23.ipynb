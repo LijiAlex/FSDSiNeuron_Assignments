{
 "cells": [
  {
   "cell_type": "markdown",
   "id": "c40c18d4",
   "metadata": {},
   "source": [
    "### 1. What is the result of the code, and why?\n",
    "<pre>\n",
    "1. What is the result of the code, and why?\n",
    "&gt;&gt;&gt; def func(a, b=6, c=8):\n",
    "                print(a, b, c)\n",
    "&gt;&gt;&gt; func(1, 2)"
   ]
  },
  {
   "cell_type": "markdown",
   "id": "4f5cc114",
   "metadata": {},
   "source": [
    "Output: 1, 2, 8\n",
    "<br>1 is assigned to a. 2 is assigned to b since two arguments are provided in the function call. c takes the default value supplied .i.e. 8."
   ]
  },
  {
   "cell_type": "markdown",
   "id": "f0ee294f",
   "metadata": {},
   "source": [
    "### 2. What is the result of this code, and why?\n",
    "<pre>\n",
    "&gt;&gt;&gt; def func(a, b, c=5):\n",
    "        print(a, b, c)\n",
    "&gt;&gt;&gt; func(1, c=3, b=2)"
   ]
  },
  {
   "cell_type": "markdown",
   "id": "acb577ee",
   "metadata": {},
   "source": [
    "Output: 1, 2, 3\n",
    "<pre>1 being the positional argument is assigned to a.\n",
    "c and b is assigned 3 and 2 being supplied as named argument."
   ]
  },
  {
   "cell_type": "markdown",
   "id": "6b55e6b9",
   "metadata": {},
   "source": [
    "### 3. How about this code: what is its result, and why?\n",
    "<pre>\n",
    "&gt;&gt;&gt; def func(a, *pargs):\n",
    "       print(a, pargs)\n",
    "&gt;&gt;&gt; func(1, 2, 3)"
   ]
  },
  {
   "cell_type": "markdown",
   "id": "dec4547f",
   "metadata": {},
   "source": [
    "Ans: 1, (2, 3)\n",
    "<pre>\n",
    "1 being positional argument is assigned to a.\n",
    "Rest of the arguments is assigned to pargs as a tuple since *pargs represents multiple arguments."
   ]
  },
  {
   "cell_type": "markdown",
   "id": "dfc7ab7d",
   "metadata": {},
   "source": [
    "### 4. What does this code print, and why?\n",
    "<pre>\n",
    "&gt;&gt;&gt; def func(a, **kargs):\n",
    "       print(a, kargs)\n",
    "&gt;&gt;&gt; func(a=1, c=3, b=2)"
   ]
  },
  {
   "cell_type": "markdown",
   "id": "f8e002fc",
   "metadata": {},
   "source": [
    "Ans: 1, {'c':3, 'b':2}\n",
    "<pre>\n",
    "1 being positional argument is assigned to a.\n",
    "Rest of the arguments is assigned to kargs as a key:value pair(dictionary)."
   ]
  },
  {
   "cell_type": "markdown",
   "id": "663ba207",
   "metadata": {},
   "source": [
    "### 5. What gets printed by this, and explain?\n",
    "<pre>\n",
    "&gt;&gt;&gt; def func(a, b, c=8, d=5): \n",
    "         print(a, b, c, d)\n",
    "&gt;&gt;&gt; func(1, *(5, 6))"
   ]
  },
  {
   "cell_type": "markdown",
   "id": "9853752b",
   "metadata": {},
   "source": [
    "Ans: 1 5 6 5\n",
    "<pre>\n",
    "1 being positional argument is assigned to a.\n",
    "(5,6) is unpacked and assigned to b and c\n",
    "d gets the default value .i.e. 5."
   ]
  },
  {
   "cell_type": "markdown",
   "id": "461d9d50",
   "metadata": {},
   "source": [
    "### 6. what is the result of this, and explain?\n",
    "<pre>\n",
    "&gt;&gt;&gt; def func(a, b, c): \n",
    "       a = 2; b[0] = &#39;x&#39;; c[&#39;a&#39;] = &#39;y&#39;\n",
    "&gt;&gt;&gt; l=1; m=[1]; n={&#39;a&#39;:0}\n",
    "&gt;&gt;&gt; func(l, m, n)\n",
    "\n",
    "&gt;&gt;&gt; l, m, n"
   ]
  },
  {
   "cell_type": "markdown",
   "id": "a01a486b",
   "metadata": {},
   "source": [
    "Initally value of \n",
    "<pre>\n",
    "l = 1\n",
    "m = [1] and\n",
    "n = {'a': 0}\n",
    "</pre>\n",
    "<br>These are then passed to function as arguments.\n",
    "<br>Since l is an int(immutable), its value is copied to the parameter a. Any changes to a in function doesn't affect the variable l. Hence its value remains the same .i.e. 1.\n",
    "<br>m and n are list and dictionary respectively(mutable). The parameters b and c are just made to point to the location of m and n.So any changes in the function affects m and n also."
   ]
  },
  {
   "cell_type": "code",
   "execution_count": null,
   "id": "2606bf97",
   "metadata": {},
   "outputs": [],
   "source": []
  }
 ],
 "metadata": {
  "kernelspec": {
   "display_name": "Python 3",
   "language": "python",
   "name": "python3"
  },
  "language_info": {
   "codemirror_mode": {
    "name": "ipython",
    "version": 3
   },
   "file_extension": ".py",
   "mimetype": "text/x-python",
   "name": "python",
   "nbconvert_exporter": "python",
   "pygments_lexer": "ipython3",
   "version": "3.8.8"
  }
 },
 "nbformat": 4,
 "nbformat_minor": 5
}
