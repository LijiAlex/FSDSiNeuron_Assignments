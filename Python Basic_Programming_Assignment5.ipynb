{
 "cells": [
  {
   "cell_type": "markdown",
   "id": "0a29b4cb",
   "metadata": {},
   "source": [
    "### 1. Write a Python Program to Find LCM"
   ]
  },
  {
   "cell_type": "code",
   "execution_count": 21,
   "id": "a73b2f33",
   "metadata": {},
   "outputs": [
    {
     "name": "stdout",
     "output_type": "stream",
     "text": [
      "Enter first number: 15\n",
      "Enter second number: 75\n",
      "75\n"
     ]
    }
   ],
   "source": [
    "import math\n",
    "\n",
    "num1 = int(input(\"Enter first number: \"))\n",
    "num2 = int(input(\"Enter second number: \"))\n",
    "gcd = math.gcd(num1, num2)\n",
    "lcm = (num1 * num2)/gcd\n",
    "print(int(lcm))"
   ]
  },
  {
   "cell_type": "markdown",
   "id": "bcf2ef44",
   "metadata": {},
   "source": [
    "### 2. Write a Python Program to Find HCF?"
   ]
  },
  {
   "cell_type": "code",
   "execution_count": 22,
   "id": "e79ed529",
   "metadata": {},
   "outputs": [
    {
     "name": "stdout",
     "output_type": "stream",
     "text": [
      "Enter first number: 60\n",
      "Enter second number: 30\n",
      "30\n"
     ]
    }
   ],
   "source": [
    "import math\n",
    "\n",
    "num1 = int(input(\"Enter first number: \"))\n",
    "num2 = int(input(\"Enter second number: \"))\n",
    "hcf = math.gcd(num1, num2)\n",
    "print(int(hcf))"
   ]
  },
  {
   "cell_type": "markdown",
   "id": "9982000c",
   "metadata": {},
   "source": [
    "### 3. Write a Python Program to Convert Decimal to Binary, Octal and Hexadecimal?"
   ]
  },
  {
   "cell_type": "code",
   "execution_count": 32,
   "id": "2b344927",
   "metadata": {},
   "outputs": [
    {
     "name": "stdout",
     "output_type": "stream",
     "text": [
      "Enter number: 30\n",
      "Binary=  11110\n",
      "Octal=  36\n",
      "Hexadecimal=  1e\n"
     ]
    }
   ],
   "source": [
    "num = int(input(\"Enter number: \"))\n",
    "num2 = bin(num).lstrip(\"0b\")\n",
    "num8 = oct(num).lstrip(\"0o\")\n",
    "num16 = hex(num).lstrip(\"0x\")\n",
    "print(\"Binary= \",num2)\n",
    "print(\"Octal= \",num8)\n",
    "print(\"Hexadecimal= \",num16)"
   ]
  },
  {
   "cell_type": "markdown",
   "id": "74c14237",
   "metadata": {},
   "source": [
    "### 4. Write a Python Program To Find ASCII value of a character"
   ]
  },
  {
   "cell_type": "code",
   "execution_count": 34,
   "id": "545469ae",
   "metadata": {},
   "outputs": [
    {
     "name": "stdout",
     "output_type": "stream",
     "text": [
      "Enter a character: a\n",
      "ASCII =  97\n"
     ]
    }
   ],
   "source": [
    "c = input(\"Enter a character: \")\n",
    "print(\"ASCII = \",ord(c))"
   ]
  },
  {
   "cell_type": "markdown",
   "id": "be46fbe4",
   "metadata": {},
   "source": [
    "### 5. Write a Python Program to Make a Simple Calculator with 4 basic mathematical operations"
   ]
  },
  {
   "cell_type": "code",
   "execution_count": 39,
   "id": "b8e7a3ef",
   "metadata": {},
   "outputs": [
    {
     "name": "stdout",
     "output_type": "stream",
     "text": [
      "Enter first number: 45\n",
      "Enter second number: 23\n",
      "1. Addition\n",
      "2. Subtraction\n",
      "3. Multiplication\n",
      "4. Division\n",
      "What do you want to do?3\n",
      "1035\n",
      "Do you want to quit(q)?n\n",
      "Enter first number: 23\n",
      "Enter second number: 12\n",
      "1. Addition\n",
      "2. Subtraction\n",
      "3. Multiplication\n",
      "4. Division\n",
      "What do you want to do?1\n",
      "35\n",
      "Do you want to quit(q)?q\n"
     ]
    }
   ],
   "source": [
    "while True:\n",
    "    num1 = int(input(\"Enter first number: \"))\n",
    "    num2 = int(input(\"Enter second number: \"))\n",
    "    print(\"1. Addition\")\n",
    "    print(\"2. Subtraction\")\n",
    "    print(\"3. Multiplication\")\n",
    "    print(\"4. Division\")\n",
    "    ch = int(input(\"What do you want to do?\"))\n",
    "    if ch == 1:\n",
    "        print(num1+num2)\n",
    "    elif ch == 2:\n",
    "        print(num1-num2)\n",
    "    elif ch == 3:\n",
    "        print(num1*num2)\n",
    "    elif ch == 4:\n",
    "        print(num1/num2)\n",
    "    else:\n",
    "        print(\"Enter correct option.\")\n",
    "    c = input(\"Do you want to quit(q)?\")\n",
    "    if c[0] == 'q' or c[0] == 'Q':\n",
    "        break"
   ]
  },
  {
   "cell_type": "code",
   "execution_count": null,
   "id": "044f21c3",
   "metadata": {},
   "outputs": [],
   "source": []
  }
 ],
 "metadata": {
  "kernelspec": {
   "display_name": "Python 3",
   "language": "python",
   "name": "python3"
  },
  "language_info": {
   "codemirror_mode": {
    "name": "ipython",
    "version": 3
   },
   "file_extension": ".py",
   "mimetype": "text/x-python",
   "name": "python",
   "nbconvert_exporter": "python",
   "pygments_lexer": "ipython3",
   "version": "3.8.8"
  }
 },
 "nbformat": 4,
 "nbformat_minor": 5
}
