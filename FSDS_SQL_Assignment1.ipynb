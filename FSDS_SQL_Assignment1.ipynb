{
 "cells": [
  {
   "cell_type": "markdown",
   "id": "0622d48d",
   "metadata": {},
   "source": [
    "<pre>\n",
    "\n",
    "Q-1. Write an SQL query to fetch “FIRST_NAME” from Worker table using the alias name as <WORKER_NAME>.\n",
    "\n",
    "SELECT FIRST_NAME AS WORKER_NAME\n",
    "FROM Worker;\n",
    " \n",
    "Q-2. Write an SQL query to fetch unique values of DEPARTMENT from Worker table.\n",
    "\n",
    "SELECT DISTINCT DEPARTMENT\n",
    "FROM Worker;\n",
    "\n",
    "Q-3. Write an SQL query to show the last 5 record from a table.\n",
    "\n",
    "SELECT * FROM table_name\n",
    "ORDER BY index_id DESC\n",
    "LIMIT 5;\n"
   ]
  },
  {
   "cell_type": "code",
   "execution_count": null,
   "id": "63828a8e",
   "metadata": {},
   "outputs": [],
   "source": []
  }
 ],
 "metadata": {
  "kernelspec": {
   "display_name": "Python 3",
   "language": "python",
   "name": "python3"
  },
  "language_info": {
   "codemirror_mode": {
    "name": "ipython",
    "version": 3
   },
   "file_extension": ".py",
   "mimetype": "text/x-python",
   "name": "python",
   "nbconvert_exporter": "python",
   "pygments_lexer": "ipython3",
   "version": "3.8.8"
  }
 },
 "nbformat": 4,
 "nbformat_minor": 5
}
