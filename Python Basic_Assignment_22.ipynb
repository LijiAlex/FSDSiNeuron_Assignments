{
 "cells": [
  {
   "cell_type": "markdown",
   "id": "0aeac3b2",
   "metadata": {},
   "source": [
    "### 1. What is the result of the code, and explain?\n",
    "<pre>\n",
    "&gt;&gt;&gt; X = &#39;iNeuron&#39;\n",
    "&gt;&gt;&gt; def func():\n",
    "         print(X)\n",
    "\n",
    "&gt;&gt;&gt; func()"
   ]
  },
  {
   "cell_type": "markdown",
   "id": "70cd8d7c",
   "metadata": {},
   "source": [
    "Output: iNeuron\n",
    "<br>X is a global variable with value iNeuron and hence it is printed."
   ]
  },
  {
   "cell_type": "markdown",
   "id": "86624955",
   "metadata": {},
   "source": [
    "### 2. What is the result of the code, and explain?\n",
    "<pre>\n",
    "&gt;&gt;&gt; X = &#39;iNeuron&#39;\n",
    "&gt;&gt;&gt; def func():\n",
    "       X = &#39;NI!&#39;\n",
    "\n",
    "&gt;&gt;&gt; func()\n",
    "&gt;&gt;&gt; print(X)"
   ]
  },
  {
   "cell_type": "markdown",
   "id": "4817c3fb",
   "metadata": {},
   "source": [
    "Output: iNeuron\n",
    "<br>X is a global variable with value iNeuron.\n",
    "<br>The X that is altered inide the function is local to the function. It doesn't change the value of global variable X."
   ]
  },
  {
   "cell_type": "markdown",
   "id": "c4fc79a4",
   "metadata": {},
   "source": [
    "### 3. What does this code print, and why?\n",
    "<pre>\n",
    "&gt;&gt;&gt; X = &#39;iNeuron&#39;\n",
    "&gt;&gt;&gt; def func():\n",
    "        X = &#39;NI&#39;\n",
    "        print(X)\n",
    "&gt;&gt;&gt; func()\n",
    "&gt;&gt;&gt; print(X)"
   ]
  },
  {
   "cell_type": "markdown",
   "id": "edccc90d",
   "metadata": {},
   "source": [
    "<pre>\n",
    "Output: NI\n",
    "       iNeuron\n",
    "       \n",
    "X is a global variable with value iNeuron.\n",
    "The X that is altered inside the function is local to the function. And it is printed. Hence NI gets printed.\n",
    "Later when X is printed outside the function, global X is printed .i.e. iNeuron\n"
   ]
  },
  {
   "cell_type": "markdown",
   "id": "2e3f1ae4",
   "metadata": {},
   "source": [
    "### 4. What output does this code produce? Why?\n",
    "<pre>\n",
    "&gt;&gt;&gt; X = &#39;iNeuron&#39;\n",
    "&gt;&gt;&gt; def func():\n",
    "      global X\n",
    "      X = &#39;NI&#39;\n",
    "\n",
    "&gt;&gt;&gt; func()\n",
    "&gt;&gt;&gt; print(X)"
   ]
  },
  {
   "cell_type": "markdown",
   "id": "c43cf055",
   "metadata": {},
   "source": [
    "Output: NI\n",
    "<br>X is a global variable with value iNeuron.\n",
    "<br>The X that is altered inside the function is referring to the global X since it is prefixed with global keyword. Hence value of X changes to NI.\n",
    "<br>Later when X is printed outside the function, it prints NI."
   ]
  },
  {
   "cell_type": "markdown",
   "id": "8d942b18",
   "metadata": {},
   "source": [
    "### 5. What about this code—what’s the output, and why?\n",
    "<pre>\n",
    "&gt;&gt;&gt; X = &#39;iNeuron&#39;\n",
    "&gt;&gt;&gt; def func():\n",
    "      X = &#39;NI&#39;\n",
    "      def nested():\n",
    "          print(X)\n",
    "      nested()\n",
    "\n",
    "&gt;&gt;&gt; func()\n",
    "&gt;&gt;&gt; X"
   ]
  },
  {
   "cell_type": "markdown",
   "id": "424c3313",
   "metadata": {},
   "source": [
    "<pre>\n",
    "Output: NI\n",
    "       iNeuron\n",
    "       \n",
    "X is a global variable with value iNeuron.\n",
    "The X that is altered inside the function is local to the function. And the X inside nested() is having value NI since it is again referring to the local variable X. So first local X(NI) is printed.\n",
    "Later when X is printed outside the function, global X is printed .i.e. iNeuron\n"
   ]
  },
  {
   "cell_type": "markdown",
   "id": "4afd614a",
   "metadata": {},
   "source": [
    "### 6. How about this code: what is its output in Python 3, and explain?\n",
    "<pre>\n",
    "&gt;&gt;&gt; def func():\n",
    "    X = &#39;NI&#39;\n",
    "    def nested():\n",
    "        nonlocal X\n",
    "        X = &#39;Spam&#39;\n",
    "    nested()\n",
    "    print(X)\n",
    "\n",
    "&gt;&gt;&gt; func()"
   ]
  },
  {
   "cell_type": "markdown",
   "id": "7b3d7cf2",
   "metadata": {},
   "source": [
    "Output: Spam\n",
    "<br>X is created in outer function with value 'NI'.\n",
    "<br>X is again created as a nonlocal variable which means that it is not local to the inner function. So when X is changed to Spam, value of outer X is changed.\n",
    "<br>And once printed, it prints Spam"
   ]
  },
  {
   "cell_type": "code",
   "execution_count": null,
   "id": "ad72e89e",
   "metadata": {},
   "outputs": [],
   "source": []
  }
 ],
 "metadata": {
  "kernelspec": {
   "display_name": "Python 3",
   "language": "python",
   "name": "python3"
  },
  "language_info": {
   "codemirror_mode": {
    "name": "ipython",
    "version": 3
   },
   "file_extension": ".py",
   "mimetype": "text/x-python",
   "name": "python",
   "nbconvert_exporter": "python",
   "pygments_lexer": "ipython3",
   "version": "3.8.8"
  }
 },
 "nbformat": 4,
 "nbformat_minor": 5
}
