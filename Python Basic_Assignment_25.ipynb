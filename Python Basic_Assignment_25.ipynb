{
 "cells": [
  {
   "cell_type": "markdown",
   "id": "d77313c6",
   "metadata": {},
   "source": [
    "### 1) What is the difference between enclosing a list comprehension in square brackets and parentheses?"
   ]
  },
  {
   "cell_type": "markdown",
   "id": "f2cd0659",
   "metadata": {},
   "source": [
    "A list comprehension enclosed in square brackets return a list of items where as the one enclosed in paranthesis return a generator object. "
   ]
  },
  {
   "cell_type": "code",
   "execution_count": 9,
   "id": "5e438374",
   "metadata": {},
   "outputs": [
    {
     "data": {
      "text/plain": [
       "[0, 2, 4, 6, 8, 10, 12, 14, 16, 18]"
      ]
     },
     "execution_count": 9,
     "metadata": {},
     "output_type": "execute_result"
    }
   ],
   "source": [
    "l = [n*2 for n in range(10)]\n",
    "l"
   ]
  },
  {
   "cell_type": "code",
   "execution_count": 10,
   "id": "11640340",
   "metadata": {},
   "outputs": [
    {
     "data": {
      "text/plain": [
       "<generator object <genexpr> at 0x00000229D2A25660>"
      ]
     },
     "execution_count": 10,
     "metadata": {},
     "output_type": "execute_result"
    }
   ],
   "source": [
    "g = (n*2 for n in range(10))\n",
    "g"
   ]
  },
  {
   "cell_type": "code",
   "execution_count": 11,
   "id": "81adde24",
   "metadata": {},
   "outputs": [
    {
     "name": "stdout",
     "output_type": "stream",
     "text": [
      "0 2 4 6 8 10 12 14 16 18 "
     ]
    }
   ],
   "source": [
    "for i in g:\n",
    "    print(i, end=\" \")"
   ]
  },
  {
   "cell_type": "markdown",
   "id": "fcca6578",
   "metadata": {},
   "source": [
    "### 2) What is the relationship between generators and iterators?"
   ]
  },
  {
   "cell_type": "markdown",
   "id": "ef0919bf",
   "metadata": {},
   "source": [
    "The generator yealds each of its elements at run time and doesn't store entire list in memory. An iterator is the one which helps us to access the next element from an iterable using next() function. A generator is an iterator but not vice versa."
   ]
  },
  {
   "cell_type": "markdown",
   "id": "f6e6535d",
   "metadata": {},
   "source": [
    "### 3) What are the signs that a function is a generator function?"
   ]
  },
  {
   "cell_type": "markdown",
   "id": "501a4250",
   "metadata": {},
   "source": [
    "A generator is a special type of function which does not return a single value, instead, it returns an iterator object with a sequence of values. In a generator function, a yield statement is used rather than a return statement. "
   ]
  },
  {
   "cell_type": "markdown",
   "id": "3b7baa06",
   "metadata": {},
   "source": [
    "### 4) What is the purpose of a yield statement?"
   ]
  },
  {
   "cell_type": "markdown",
   "id": "e1565dba",
   "metadata": {},
   "source": [
    "The yield statement suspends function's execution and sends a value back to the caller, but resumes the function from where it is left off. When resumed, the function continues execution immediately after the last yield statement."
   ]
  },
  {
   "cell_type": "markdown",
   "id": "6b5b0816",
   "metadata": {},
   "source": [
    "### 5) What is the relationship between map calls and list comprehensions? Make a comparison and contrast between the two."
   ]
  },
  {
   "cell_type": "markdown",
   "id": "dd8b2fcb",
   "metadata": {},
   "source": [
    "1. map calls are easier in case of already written user defined function.\n",
    "2. map calls cannot be used to filter values from a list which is easily possible through list comprehension.\n",
    "3. map returns a map object while list comprehension can return outputs as per our requirement."
   ]
  },
  {
   "cell_type": "code",
   "execution_count": null,
   "id": "58325f00",
   "metadata": {},
   "outputs": [],
   "source": []
  }
 ],
 "metadata": {
  "kernelspec": {
   "display_name": "Python 3",
   "language": "python",
   "name": "python3"
  },
  "language_info": {
   "codemirror_mode": {
    "name": "ipython",
    "version": 3
   },
   "file_extension": ".py",
   "mimetype": "text/x-python",
   "name": "python",
   "nbconvert_exporter": "python",
   "pygments_lexer": "ipython3",
   "version": "3.8.8"
  }
 },
 "nbformat": 4,
 "nbformat_minor": 5
}
