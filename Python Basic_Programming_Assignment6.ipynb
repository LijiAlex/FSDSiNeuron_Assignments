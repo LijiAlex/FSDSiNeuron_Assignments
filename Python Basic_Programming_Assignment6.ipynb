{
 "cells": [
  {
   "cell_type": "markdown",
   "id": "de968dcc",
   "metadata": {},
   "source": [
    "### 1. Write a Python Program to Display Fibonacci Sequence Using Recursion."
   ]
  },
  {
   "cell_type": "code",
   "execution_count": 42,
   "id": "24fbf8f4",
   "metadata": {},
   "outputs": [],
   "source": [
    "def fib(n):  \n",
    "   if n <= 1:  \n",
    "       return n  \n",
    "   else:  \n",
    "       return(fib(n-1) + fib(n-2))  "
   ]
  },
  {
   "cell_type": "code",
   "execution_count": 47,
   "id": "b7412fe0",
   "metadata": {},
   "outputs": [
    {
     "name": "stdout",
     "output_type": "stream",
     "text": [
      "How many terms? 8\n",
      "0 1 1 2 3 5 8 13 "
     ]
    }
   ],
   "source": [
    "n= int(input(\"How many terms? \")) \n",
    "if n <= 0:  \n",
    "   print(\"Plese enter a positive integer\")  \n",
    "else:  \n",
    "   for i in range(n):  \n",
    "       print(fib(i), end=\" \")  "
   ]
  },
  {
   "cell_type": "markdown",
   "id": "7fca0341",
   "metadata": {},
   "source": [
    "### 2. Write a Python Program to Find Factorial of Number Using Recursion?"
   ]
  },
  {
   "cell_type": "code",
   "execution_count": 48,
   "id": "2255b59e",
   "metadata": {},
   "outputs": [],
   "source": [
    "def fact(n):\n",
    "    if n==1:\n",
    "        return 1\n",
    "    return n * fact(n-1)"
   ]
  },
  {
   "cell_type": "code",
   "execution_count": 70,
   "id": "8364b8db",
   "metadata": {},
   "outputs": [
    {
     "name": "stdout",
     "output_type": "stream",
     "text": [
      "Enter number: 5\n"
     ]
    },
    {
     "data": {
      "text/plain": [
       "120"
      ]
     },
     "execution_count": 70,
     "metadata": {},
     "output_type": "execute_result"
    }
   ],
   "source": [
    "n= int(input(\"Enter number: \"))\n",
    "fact(n)"
   ]
  },
  {
   "cell_type": "markdown",
   "id": "2556b268",
   "metadata": {},
   "source": [
    "### 3. Write a Python Program to calculate your Body Mass Index?"
   ]
  },
  {
   "cell_type": "code",
   "execution_count": 59,
   "id": "08af3696",
   "metadata": {},
   "outputs": [
    {
     "name": "stdout",
     "output_type": "stream",
     "text": [
      "Input your height in Meter: 1.61\n",
      "Input your weight in Kilogram: 62\n",
      "Your body mass index is:  23.92\n"
     ]
    }
   ],
   "source": [
    "height = float(input(\"Input your height in Meter: \"))\n",
    "weight = float(input(\"Input your weight in Kilogram: \"))\n",
    "print(\"Your body mass index is: \", round(weight / (height * height), 2))"
   ]
  },
  {
   "cell_type": "markdown",
   "id": "e24ec16a",
   "metadata": {},
   "source": [
    "### 4. Write a Python Program to calculate the natural logarithm of any number?"
   ]
  },
  {
   "cell_type": "code",
   "execution_count": 69,
   "id": "a8e69e44",
   "metadata": {},
   "outputs": [
    {
     "name": "stdout",
     "output_type": "stream",
     "text": [
      "Enter number: 100\n"
     ]
    },
    {
     "data": {
      "text/plain": [
       "4.61"
      ]
     },
     "execution_count": 69,
     "metadata": {},
     "output_type": "execute_result"
    }
   ],
   "source": [
    "import math\n",
    "n= float(input(\"Enter number: \"))\n",
    "round(math.log(n),2)"
   ]
  },
  {
   "cell_type": "markdown",
   "id": "7d001c54",
   "metadata": {},
   "source": [
    "### 5. Write a Python Program for cube sum of first n natural numbers?"
   ]
  },
  {
   "cell_type": "code",
   "execution_count": 68,
   "id": "87cf6ace",
   "metadata": {},
   "outputs": [
    {
     "name": "stdout",
     "output_type": "stream",
     "text": [
      "Enter n: 3\n"
     ]
    },
    {
     "data": {
      "text/plain": [
       "36"
      ]
     },
     "execution_count": 68,
     "metadata": {},
     "output_type": "execute_result"
    }
   ],
   "source": [
    "sum = 0\n",
    "n = int(input(\"Enter n: \"))\n",
    "for i in range(1, n+1):\n",
    "    sum = sum + i**3\n",
    "sum"
   ]
  },
  {
   "cell_type": "code",
   "execution_count": null,
   "id": "cdadae52",
   "metadata": {},
   "outputs": [],
   "source": []
  },
  {
   "cell_type": "code",
   "execution_count": null,
   "id": "37f3840d",
   "metadata": {},
   "outputs": [],
   "source": []
  }
 ],
 "metadata": {
  "kernelspec": {
   "display_name": "Python 3",
   "language": "python",
   "name": "python3"
  },
  "language_info": {
   "codemirror_mode": {
    "name": "ipython",
    "version": 3
   },
   "file_extension": ".py",
   "mimetype": "text/x-python",
   "name": "python",
   "nbconvert_exporter": "python",
   "pygments_lexer": "ipython3",
   "version": "3.8.8"
  }
 },
 "nbformat": 4,
 "nbformat_minor": 5
}
