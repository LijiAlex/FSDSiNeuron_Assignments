{
 "cells": [
  {
   "cell_type": "markdown",
   "id": "a8d4553d",
   "metadata": {},
   "source": [
    "### Q1. What is the purpose of Python&#39;s OOP?"
   ]
  },
  {
   "cell_type": "markdown",
   "id": "a007fdfa",
   "metadata": {},
   "source": [
    "OOPs aims to structure programs in the form of real-world entities. It implements features like inheritance, polymorphisms, encapsulation, etc. in the programming. It makes the code more readable, reusable and structured."
   ]
  },
  {
   "cell_type": "markdown",
   "id": "11404d46",
   "metadata": {},
   "source": [
    "### Q2. Where does an inheritance search look for an attribute?"
   ]
  },
  {
   "cell_type": "markdown",
   "id": "c2cf5641",
   "metadata": {},
   "source": [
    "Inheritance search look for an attribute in a namespace tree from bottom to top, left to right. "
   ]
  },
  {
   "cell_type": "markdown",
   "id": "7d5d39d2",
   "metadata": {},
   "source": [
    "### Q3. How do you distinguish between a class object and an instance object?"
   ]
  },
  {
   "cell_type": "markdown",
   "id": "21af7bf7",
   "metadata": {},
   "source": [
    " A class describes a data type; a blue print of a real world entity. An instance of a class is an object of the data type that exists in memory."
   ]
  },
  {
   "cell_type": "markdown",
   "id": "f64da666",
   "metadata": {},
   "source": [
    "### Q4. What makes the first argument in a class’s method function special?"
   ]
  },
  {
   "cell_type": "markdown",
   "id": "4cd25755",
   "metadata": {},
   "source": [
    "The first argument in a class's method is a pointer to the instance. It is widely used as self but it can be any variable name."
   ]
  },
  {
   "cell_type": "markdown",
   "id": "cef9d705",
   "metadata": {},
   "source": [
    "### Q5. What is the purpose of the \\_\\_init\\_\\_ method?"
   ]
  },
  {
   "cell_type": "markdown",
   "id": "df093b6b",
   "metadata": {},
   "source": [
    "It is called when an object is created. It acts as a constructor and is mainly used to initialize the class variables."
   ]
  },
  {
   "cell_type": "markdown",
   "id": "f065b872",
   "metadata": {},
   "source": [
    "### Q6. What is the process for creating a class instance?"
   ]
  },
  {
   "cell_type": "markdown",
   "id": "521d6c96",
   "metadata": {},
   "source": [
    "A class instance can be created using the syntax \n",
    "<br>\\<instance_name\\> = \\<class_name\\>(\\<arguments\\>)"
   ]
  },
  {
   "cell_type": "markdown",
   "id": "561dfd89",
   "metadata": {},
   "source": [
    "### Q7. What is the process for creating a class?"
   ]
  },
  {
   "cell_type": "markdown",
   "id": "f7b4851a",
   "metadata": {},
   "source": [
    "A class can be created using the syntax\n",
    "<pre>\n",
    "class < class_name >:\n",
    "    < method1 >\n",
    "    \n",
    "    < method2 >"
   ]
  },
  {
   "cell_type": "markdown",
   "id": "aa519db1",
   "metadata": {},
   "source": [
    "### Q8. How would you define the superclasses of a class?"
   ]
  },
  {
   "cell_type": "markdown",
   "id": "46cdeb56",
   "metadata": {},
   "source": [
    "A super class of a class can be defined by passing it as an argument while defining the class.\n",
    "<pre>eg:-\n",
    "class A(SuperS):\n",
    "\n",
    "Here SuperS is the super class of A."
   ]
  },
  {
   "cell_type": "code",
   "execution_count": null,
   "id": "b8abb1b0",
   "metadata": {},
   "outputs": [],
   "source": []
  }
 ],
 "metadata": {
  "kernelspec": {
   "display_name": "Python 3",
   "language": "python",
   "name": "python3"
  },
  "language_info": {
   "codemirror_mode": {
    "name": "ipython",
    "version": 3
   },
   "file_extension": ".py",
   "mimetype": "text/x-python",
   "name": "python",
   "nbconvert_exporter": "python",
   "pygments_lexer": "ipython3",
   "version": "3.8.8"
  }
 },
 "nbformat": 4,
 "nbformat_minor": 5
}
