{
 "cells": [
  {
   "cell_type": "markdown",
   "id": "382fd1c3",
   "metadata": {},
   "source": [
    "### 1. What are escape characters, and how do you use them?"
   ]
  },
  {
   "cell_type": "markdown",
   "id": "0b68122e",
   "metadata": {},
   "source": [
    "In Python, the backslash \\ is used as the \"escape\" character. Prefixing certain special characters with \\ will ignore its original meaning and will consider it as it is.\n",
    "<pre>For eg:- print('Python's') will throw an error while print('Python\\'s') dosen't.\n",
    "         Here, unless we use \\' with the second ', it will be considered as end of that string and will cause an error.\n",
    "</pre>\n",
    "Similarly, escape characters like \\n,\\t has its own meaning.\n"
   ]
  },
  {
   "cell_type": "markdown",
   "id": "faec5d31",
   "metadata": {},
   "source": [
    "### 2. What do the escape characters n and t stand for?"
   ]
  },
  {
   "cell_type": "markdown",
   "id": "19577812",
   "metadata": {},
   "source": [
    "<br>\\n indicates new line.\n",
    "<br>\\t indicates tab.\n",
    "<br>When used, they add a new line and tab to the output respectively."
   ]
  },
  {
   "cell_type": "markdown",
   "id": "f889fc90",
   "metadata": {},
   "source": [
    "### 3. What is the way to include backslash characters in a string?"
   ]
  },
  {
   "cell_type": "markdown",
   "id": "82122027",
   "metadata": {},
   "source": [
    "We can have a backslash in a string by adding it as // where first / serves as escape character and removes the special meaning associated with second /."
   ]
  },
  {
   "cell_type": "markdown",
   "id": "25442488",
   "metadata": {},
   "source": [
    "### 4. The string \"Howl's Moving Castle\" is a correct value. Why isn't the single quote character in the word Howl's not escaped a problem?"
   ]
  },
  {
   "cell_type": "markdown",
   "id": "f2bea66b",
   "metadata": {},
   "source": [
    "The single quote character ' doesn't cause a problem in this case since the entire string is specified using double quotes(\"). Hence single quote(') doesn't have a special meaning associated with it in this case."
   ]
  },
  {
   "cell_type": "markdown",
   "id": "279d8cd3",
   "metadata": {},
   "source": [
    "### 5. How do you write a string of newlines if you don't want to use the n character?"
   ]
  },
  {
   "cell_type": "markdown",
   "id": "4a166594",
   "metadata": {},
   "source": [
    "print() satement by default adds a newline to the end of the statement. If we wan't to insert multiple new lines we can go by having multiple print() statements.\n",
    "<pre>\n",
    "Eg:- \n",
    "    print()\n",
    "    print()\n",
    "    print()\n",
    "    will insert 3 newlines to the output.\n",
    "</pre>"
   ]
  },
  {
   "cell_type": "markdown",
   "id": "9ef3dae2",
   "metadata": {},
   "source": [
    "### 6. What are the values of the given expressions?\n",
    "<br>'Hello, world!'[1]\n",
    "<br>'Hello, world!'[0:5]\n",
    "<br>'Hello, world!'[:5]\n",
    "<br>'Hello, world!'[3:]\n"
   ]
  },
  {
   "cell_type": "markdown",
   "id": "e7733671",
   "metadata": {},
   "source": [
    "<br>'Hello, world!'[1] -> 'e'\n",
    "<br>'Hello, world!'[0:5] -> 'Hello'\n",
    "<br>'Hello, world!'[:5]-> 'Hello'\n",
    "<br>'Hello, world!'[3:]-> 'lo, world!'"
   ]
  },
  {
   "cell_type": "markdown",
   "id": "1c41bbce",
   "metadata": {},
   "source": [
    "### 7. What are the values of the following expressions?\n",
    "<br>'Hello'.upper()\n",
    "<br>'Hello'.upper().isupper()\n",
    "<br>'Hello'.upper().lower()"
   ]
  },
  {
   "cell_type": "markdown",
   "id": "744e95fd",
   "metadata": {},
   "source": [
    "<br>'Hello'.upper() -> 'HELLO'\n",
    "<br>'Hello'.upper().isupper() -> True\n",
    "<br>'Hello'.upper().lower() -> 'hello'"
   ]
  },
  {
   "cell_type": "markdown",
   "id": "1bb2a0b3",
   "metadata": {},
   "source": [
    "### 8. What are the values of the following expressions?\n",
    "<br>'Remember, remember, the fifth of July.'.split()\n",
    "<br>'-'.join('There can only one.'.split())\n"
   ]
  },
  {
   "cell_type": "markdown",
   "id": "3ba013a8",
   "metadata": {},
   "source": [
    "<br>'Remember, remember, the fifth of July.'.split() -> ['Remember,', 'remember,', 'the', 'fifth', 'of', 'July.']\n",
    "<br>'-'.join('There can only one.'.split()) -> '-'.join('There can only one.'.split())"
   ]
  },
  {
   "cell_type": "markdown",
   "id": "8ef19f8a",
   "metadata": {},
   "source": [
    "### 9. What are the methods for right-justifying, left-justifying, and centering a string?"
   ]
  },
  {
   "cell_type": "markdown",
   "id": "9d6a988e",
   "metadata": {},
   "source": [
    "<br>center(<width>) -> Returns a centered string of length width.\n",
    "<br>ljust(<width>) -> Return a left-justified string of length width.\n",
    "<br>rjust(<width>) -> Return a right-justified string of length width."
   ]
  },
  {
   "cell_type": "markdown",
   "id": "24f34b63",
   "metadata": {},
   "source": [
    "### 10. What is the best way to remove whitespace characters from the start or end?"
   ]
  },
  {
   "cell_type": "markdown",
   "id": "4577ee8e",
   "metadata": {},
   "source": [
    "<br>strip() ->Return a copy of the string with leading and trailing whitespace removed.\n",
    "<br>lstrip() ->Return a copy of the string with leading whitespace removed.\n",
    "<br>rstrip() ->Return a copy of the string with trailing whitespace removed."
   ]
  },
  {
   "cell_type": "code",
   "execution_count": null,
   "id": "da5fd3eb",
   "metadata": {},
   "outputs": [],
   "source": []
  }
 ],
 "metadata": {
  "kernelspec": {
   "display_name": "Python 3",
   "language": "python",
   "name": "python3"
  },
  "language_info": {
   "codemirror_mode": {
    "name": "ipython",
    "version": 3
   },
   "file_extension": ".py",
   "mimetype": "text/x-python",
   "name": "python",
   "nbconvert_exporter": "python",
   "pygments_lexer": "ipython3",
   "version": "3.8.8"
  }
 },
 "nbformat": 4,
 "nbformat_minor": 5
}
