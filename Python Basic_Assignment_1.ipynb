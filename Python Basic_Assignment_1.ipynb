{
 "cells": [
  {
   "cell_type": "markdown",
   "id": "493763eb",
   "metadata": {},
   "source": [
    "### 1. In the below elements which of them are values or an expression? eg:- values can be integer or string and expressions will be mathematical operators.\n",
    "\n",
    "\n",
    "* 'hello' -> value\n",
    "* -87.8 -> value\n",
    "* /, *, +, - -> expression\n",
    "* 6 -> value"
   ]
  },
  {
   "cell_type": "markdown",
   "id": "bdb1b67a",
   "metadata": {},
   "source": [
    "### 2. What is the difference between string and variable?\n",
    "\n",
    "A variable is a place holder to hold some value. It is a name associated with a memory location and is used to access the contents of that particular location.\n",
    "eg:- x = 3, here x is a variable and 3 is the value associated with it.\n",
    "\n",
    "A string is a type of data. Anything enclosed within single quotes(''), double quotes(\"\" \"\"), triple quotes(\"\"\" \"\"\") is considered a string.\n",
    "eg:- name = \"Shawn\", here name is a variable and \"Shawn\" is the value associated with it, whose datatype is string.\n",
    "'123', \"Hello, how are you?\" -> few other examples of variables."
   ]
  },
  {
   "cell_type": "markdown",
   "id": "c34f14e2",
   "metadata": {},
   "source": [
    "### 3. Describe three different data types.\n",
    "\n",
    "int -> Integer values are considered to be of int data type.\n",
    "eg:- 2, -50, 100 etc\n",
    "\n",
    "float -> Numbers with fractional part are considered as float.\n",
    "eg:- 12.6, -78.6\n",
    "\n",
    "bool -> It represents either one of the two value- True or False."
   ]
  },
  {
   "cell_type": "markdown",
   "id": "ff62a89d",
   "metadata": {},
   "source": [
    "### 4. What is an expression made up of? What do all expressions do?\n",
    "\n",
    "An expression is a combination of numeric values(variables) and operators. It evaluates to a final single value.\n",
    "Expressions can be \n",
    "1. arithmetic expression which does arithmetic operations\n",
    "eg:- 2+3/6, -57%3, \"hello\"*4  etc\n",
    "2. logical expression which does logic evaluation on operands.\n",
    "eg:- y and x etc\n",
    "3. relational expression which compares two operands.\n",
    "eg:- 5>3, 2==2 etc"
   ]
  },
  {
   "cell_type": "markdown",
   "id": "b0d74ba4",
   "metadata": {},
   "source": [
    "### 5. This assignment statements, like spam = 10. What is the difference between an expression and a statement?\n",
    "\n",
    "An expression evaluates to a final value. An expression is a combination of numeric values(variables) and operators.\n",
    "eg:- 2+3/6\n",
    "\n",
    "A statement performs some operation.\n",
    "eg:- print(\"hello\"), x = 3 etc"
   ]
  },
  {
   "cell_type": "markdown",
   "id": "00707ba7",
   "metadata": {},
   "source": [
    "### 6. After running the following code, what does the variable bacon contain?\n",
    "bacon = 22\n",
    "bacon + 1\n",
    "\n",
    "bacon will contain 22"
   ]
  },
  {
   "cell_type": "markdown",
   "id": "13ea1286",
   "metadata": {},
   "source": [
    "### 7. What should the values of the following two terms be?\n",
    "'spam' + 'spamspam'\n",
    "'spam' * 3\n",
    "\n",
    "Both expressions evaluate to 'spamspamspam'"
   ]
  },
  {
   "cell_type": "markdown",
   "id": "f05f111f",
   "metadata": {},
   "source": [
    "### 8. Why is eggs a valid variable name while 100 is invalid?\n",
    "\n",
    "A variable name can start with an alphabet or underscore('_') but not with a number. Hence eggs is a valid variable name while 100 is not."
   ]
  },
  {
   "cell_type": "markdown",
   "id": "84d89175",
   "metadata": {},
   "source": [
    "### 9. What three functions can be used to get the integer, floating-point number, or string version of a value?\n",
    "\n",
    "int(), float(), str()"
   ]
  },
  {
   "cell_type": "markdown",
   "id": "43baff41",
   "metadata": {},
   "source": [
    "### 10. Why does this expression cause an error? How can you fix it?\n",
    "'I have eaten ' + 99 + ' burritos.'\n",
    "\n",
    "This will create an issue because you cannot concatenate strings and integers.\n",
    "It can be fixed by giving 'I have eaten ' + str(99) + ' burritos.'\n"
   ]
  }
 ],
 "metadata": {
  "kernelspec": {
   "display_name": "Python 3",
   "language": "python",
   "name": "python3"
  },
  "language_info": {
   "codemirror_mode": {
    "name": "ipython",
    "version": 3
   },
   "file_extension": ".py",
   "mimetype": "text/x-python",
   "name": "python",
   "nbconvert_exporter": "python",
   "pygments_lexer": "ipython3",
   "version": "3.8.8"
  }
 },
 "nbformat": 4,
 "nbformat_minor": 5
}
