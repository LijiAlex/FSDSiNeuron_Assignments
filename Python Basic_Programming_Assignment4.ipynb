{
 "cells": [
  {
   "cell_type": "markdown",
   "id": "2b7e65c3",
   "metadata": {},
   "source": [
    "### 1. Write a Python Program to Find the Factorial of a Number"
   ]
  },
  {
   "cell_type": "code",
   "execution_count": 5,
   "id": "52601978",
   "metadata": {},
   "outputs": [
    {
     "name": "stdout",
     "output_type": "stream",
     "text": [
      "Enter number: 7\n",
      "Factorial =  5040\n"
     ]
    }
   ],
   "source": [
    "num = int(input(\"Enter number: \"))\n",
    "factorial = 1\n",
    "if num==0:\n",
    "    print(\"Factorial = 1\")\n",
    "elif num>0:\n",
    "    for i in range(1, num+1):\n",
    "        factorial = factorial*i\n",
    "    print(\"Factorial = \", factorial)\n",
    "else:\n",
    "    print(\"Invalid\")"
   ]
  },
  {
   "cell_type": "markdown",
   "id": "dc5eac60",
   "metadata": {},
   "source": [
    "### 2. Write a Python Program to Display the multiplication Table."
   ]
  },
  {
   "cell_type": "code",
   "execution_count": 6,
   "id": "bcad7206",
   "metadata": {},
   "outputs": [
    {
     "name": "stdout",
     "output_type": "stream",
     "text": [
      "Enter number: 5\n",
      "1 x 5 = 5\n",
      "2 x 5 = 10\n",
      "3 x 5 = 15\n",
      "4 x 5 = 20\n",
      "5 x 5 = 25\n",
      "6 x 5 = 30\n",
      "7 x 5 = 35\n",
      "8 x 5 = 40\n",
      "9 x 5 = 45\n",
      "10 x 5 = 50\n"
     ]
    }
   ],
   "source": [
    "num = int(input(\"Enter number: \"))\n",
    "for i in range(1, 11):\n",
    "    print(\"{} x {} = {}\".format(i, num, i*num))"
   ]
  },
  {
   "cell_type": "markdown",
   "id": "ed42d60d",
   "metadata": {},
   "source": [
    "### 3. Write a Python Program to Print the Fibonacci sequence"
   ]
  },
  {
   "cell_type": "code",
   "execution_count": 15,
   "id": "3fea9194",
   "metadata": {},
   "outputs": [
    {
     "name": "stdout",
     "output_type": "stream",
     "text": [
      "Enter no. of terms in the series: 10\n",
      "0 1 1 2 3 5 8 13 21 34 "
     ]
    }
   ],
   "source": [
    "n = int(input(\"Enter no. of terms in the series: \"))\n",
    "if n==1:\n",
    "    print(0)\n",
    "elif n==2:\n",
    "    print(\"0 1\")\n",
    "elif n>2:\n",
    "    term1 = 0\n",
    "    term2 = 1\n",
    "    s = 0\n",
    "    print(\"0 1\", end=\" \")\n",
    "    for i in range(2, n):\n",
    "        s = term1+ term2\n",
    "        term1 = term2\n",
    "        term2 = s\n",
    "        print(s, end=\" \")\n",
    "else:\n",
    "    print(\"Invalid\")"
   ]
  },
  {
   "cell_type": "markdown",
   "id": "c006d900",
   "metadata": {},
   "source": [
    "### 4. Write a Python Program to Check Armstrong Number"
   ]
  },
  {
   "cell_type": "code",
   "execution_count": 23,
   "id": "2b7a25f6",
   "metadata": {},
   "outputs": [
    {
     "name": "stdout",
     "output_type": "stream",
     "text": [
      "Enter number: 407\n",
      "Armstrong Number\n"
     ]
    }
   ],
   "source": [
    "n = int(input(\"Enter number: \"))\n",
    "if n>=0:\n",
    "    num = n\n",
    "    s = 0\n",
    "    while num!=0:\n",
    "        digit = num % 10\n",
    "        num = num//10\n",
    "        s = s + digit**3\n",
    "    if s == n:\n",
    "        print(\"Armstrong Number\")\n",
    "    else:\n",
    "        print(\"Not an armstrong number\")\n",
    "else:\n",
    "    print(\"Invalid\")"
   ]
  },
  {
   "cell_type": "markdown",
   "id": "fadbf777",
   "metadata": {},
   "source": [
    "### 5. Write a Python Program to Find Armstrong Number in an Interval."
   ]
  },
  {
   "cell_type": "code",
   "execution_count": 26,
   "id": "6df8b8ef",
   "metadata": {},
   "outputs": [
    {
     "name": "stdout",
     "output_type": "stream",
     "text": [
      "Enter lower bound: 1\n",
      "Enter upper bound: 500\n",
      "1 153 370 371 407 "
     ]
    }
   ],
   "source": [
    "def armstrong(n):\n",
    "    if n>=0:\n",
    "        num = n\n",
    "        s = 0\n",
    "        while num!=0:\n",
    "            digit = num % 10\n",
    "            num = num//10\n",
    "            s = s + digit**3\n",
    "        if s == n:\n",
    "            print(n, end=\" \")\n",
    "lb = int(input(\"Enter lower bound: \"))\n",
    "ub = int(input(\"Enter upper bound: \"))\n",
    "for i in range(lb, ub+1):\n",
    "    armstrong(i)\n",
    "    "
   ]
  },
  {
   "cell_type": "markdown",
   "id": "7284cc73",
   "metadata": {},
   "source": [
    "### 6. Write a Python Program to Find the Sum of Natural Numbers"
   ]
  },
  {
   "cell_type": "code",
   "execution_count": 27,
   "id": "823b2f36",
   "metadata": {},
   "outputs": [
    {
     "name": "stdout",
     "output_type": "stream",
     "text": [
      "Sum up till which number? 10\n",
      "55\n"
     ]
    }
   ],
   "source": [
    "n = int(input(\"Sum up till which number? \"))\n",
    "s = 0\n",
    "for i in range(1, n+1):\n",
    "    s = s+i\n",
    "print(s)"
   ]
  }
 ],
 "metadata": {
  "kernelspec": {
   "display_name": "Python 3",
   "language": "python",
   "name": "python3"
  },
  "language_info": {
   "codemirror_mode": {
    "name": "ipython",
    "version": 3
   },
   "file_extension": ".py",
   "mimetype": "text/x-python",
   "name": "python",
   "nbconvert_exporter": "python",
   "pygments_lexer": "ipython3",
   "version": "3.8.8"
  }
 },
 "nbformat": 4,
 "nbformat_minor": 5
}
