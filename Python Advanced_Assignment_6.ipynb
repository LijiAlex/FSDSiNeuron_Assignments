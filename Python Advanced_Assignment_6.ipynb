{
 "cells": [
  {
   "cell_type": "markdown",
   "id": "50d9f7ac",
   "metadata": {},
   "source": [
    "### Describe three applications for exception processing."
   ]
  },
  {
   "cell_type": "markdown",
   "id": "f4653da6",
   "metadata": {},
   "source": [
    "1. The code can be executed without any interruption. \n",
    "2. Something can eb done to handle the error and thus enable us to continue program execution.\n",
    "3. Sufficient message can be given to user without termination of program execution."
   ]
  },
  {
   "cell_type": "markdown",
   "id": "5a723852",
   "metadata": {},
   "source": [
    "### What happens if you don&#39;t do something extra to treat an exception?"
   ]
  },
  {
   "cell_type": "markdown",
   "id": "e8d2846e",
   "metadata": {},
   "source": [
    "Code execution will be interrupted."
   ]
  },
  {
   "cell_type": "markdown",
   "id": "b10bc813",
   "metadata": {},
   "source": [
    "### What are your options for recovering from an exception in your script?"
   ]
  },
  {
   "cell_type": "markdown",
   "id": "2a718be3",
   "metadata": {},
   "source": [
    "1. For anticipated exceptions, one may use try catch blocks.\n",
    "2. Recovery functions may be written to recover form exeptions and call it in the except block.\n",
    "3. A finally block which gets executed after the try block was successfully executed or a thrown exception was handled."
   ]
  },
  {
   "cell_type": "markdown",
   "id": "9558cdee",
   "metadata": {},
   "source": [
    "### Describe two methods for triggering exceptions in your script."
   ]
  },
  {
   "cell_type": "markdown",
   "id": "38d3dcf8",
   "metadata": {},
   "source": [
    "1. An exception gets raised automatically when the code is inside try catch block and an error occurs.\n",
    "2. As a Python developer we can also choose to throw an exception if a condition occurs by using the raise keyword."
   ]
  },
  {
   "cell_type": "markdown",
   "id": "38c1c850",
   "metadata": {},
   "source": [
    "### Identify two methods for specifying actions to be executed at termination time, regardless of whether or not an exception exists."
   ]
  },
  {
   "cell_type": "markdown",
   "id": "c638e34e",
   "metadata": {},
   "source": [
    "The optional else clause contains codes to be executed if no exception occurs. The optional finally block contains codes to be executed irrespective of whether an exception occurs or not."
   ]
  },
  {
   "cell_type": "code",
   "execution_count": null,
   "id": "dcd80e9f",
   "metadata": {},
   "outputs": [],
   "source": []
  }
 ],
 "metadata": {
  "kernelspec": {
   "display_name": "Python 3",
   "language": "python",
   "name": "python3"
  },
  "language_info": {
   "codemirror_mode": {
    "name": "ipython",
    "version": 3
   },
   "file_extension": ".py",
   "mimetype": "text/x-python",
   "name": "python",
   "nbconvert_exporter": "python",
   "pygments_lexer": "ipython3",
   "version": "3.8.8"
  }
 },
 "nbformat": 4,
 "nbformat_minor": 5
}
