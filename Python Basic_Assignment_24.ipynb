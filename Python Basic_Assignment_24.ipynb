{
 "cells": [
  {
   "cell_type": "markdown",
   "id": "988e8f2a",
   "metadata": {},
   "source": [
    "### 1. What is the relationship between def statements and lambda expressions ?"
   ]
  },
  {
   "cell_type": "markdown",
   "id": "bf6beb70",
   "metadata": {},
   "source": [
    "Lambda's body is a single expression. def refers to a block of statements. Lambda returns a value that can optionally be assigned a name. In contrast, the def statement always assigns the new function to the name in the header. "
   ]
  },
  {
   "cell_type": "markdown",
   "id": "60a3e229",
   "metadata": {},
   "source": [
    "### 2. What is the benefit of lambda?"
   ]
  },
  {
   "cell_type": "markdown",
   "id": "322b169e",
   "metadata": {},
   "source": [
    "Lambda reduces the number of lines of code and returns the result without an extra statement."
   ]
  },
  {
   "cell_type": "markdown",
   "id": "977794a2",
   "metadata": {},
   "source": [
    "### 3. Compare and contrast map, filter, and reduce."
   ]
  },
  {
   "cell_type": "markdown",
   "id": "b2a501ff",
   "metadata": {},
   "source": [
    "All the three functions takes a < func > and an < iterable > as arguments, but works in a totally different manner. map() and filter() are built-in Python functions but reduce() is a part of functools module.\n",
    "<pre>\n",
    "<u>Map</u>\n",
    "Syntax:\n",
    "   < map object >= map(< func >, < iterable >)\n",
    "map() executes the < func > with each and every item of < iterable > and returns a map object containing result of < func > on each element.\n",
    "\n",
    "<u>filter</u>\n",
    "Syntax:\n",
    "   < filter object >= filter(< func >, < iterable >)\n",
    "filter() applies the filter condition given by < func > to each and every item of < iterable > and returns a filter object containing elements which returned only True. Here the < func > should be a True or False function.\n",
    "\n",
    "<u>reduce</u>\n",
    "Syntax:\n",
    "  reduce(< func >, < iterable >)\n",
    "reduce() works by calling the < func > argument with 2 elements. Initially first two elements from the < iterable > is used, then the result of it and the third element is used and so on. Finally it returns a single output .i.e. it reduces the < iterable > to a single element based on the < func >."
   ]
  },
  {
   "cell_type": "markdown",
   "id": "3c5cfe47",
   "metadata": {},
   "source": [
    "### 4. What are function annotations, and how are they used?"
   ]
  },
  {
   "cell_type": "markdown",
   "id": "58a0828b",
   "metadata": {},
   "source": [
    "Function annotations are special elements added to functions which makes the code more understandable. For eg:- It can specify the type of input parameter and return type. These annotations are just for readability and has no meaning during run time."
   ]
  },
  {
   "cell_type": "markdown",
   "id": "96dc184b",
   "metadata": {},
   "source": [
    "### 5. What are recursive functions, and how are they used?"
   ]
  },
  {
   "cell_type": "markdown",
   "id": "899d9799",
   "metadata": {},
   "source": [
    "A function that calls itself is called a recursive functions. It is mainly used to repeat a particular task over and over again with different inputs. For example: factorial(n) is factorial(n-1) * n. Here same function is used with a different input.\n"
   ]
  },
  {
   "cell_type": "code",
   "execution_count": 7,
   "id": "13fa9001",
   "metadata": {},
   "outputs": [
    {
     "data": {
      "text/plain": [
       "24"
      ]
     },
     "execution_count": 7,
     "metadata": {},
     "output_type": "execute_result"
    }
   ],
   "source": [
    "def factorial(n):\n",
    "    if n == 1: \n",
    "        return 1\n",
    "    else:\n",
    "        return factorial(n-1) * n\n",
    "\n",
    "factorial(4)"
   ]
  },
  {
   "cell_type": "markdown",
   "id": "eb078f0b",
   "metadata": {},
   "source": [
    "### 6. What are some general design guidelines for coding functions?"
   ]
  },
  {
   "cell_type": "markdown",
   "id": "78074126",
   "metadata": {},
   "source": [
    "1. Only lower case letters in function names.\n",
    "2. _ can be used in between to seperate two words.\n",
    "3. Write docstrings."
   ]
  },
  {
   "cell_type": "markdown",
   "id": "c4bee94c",
   "metadata": {},
   "source": [
    "### 7. Name three or more ways that functions can communicate results to a caller."
   ]
  },
  {
   "cell_type": "markdown",
   "id": "689bca3b",
   "metadata": {},
   "source": [
    "1. Returning the results using keyword return.\n",
    "2. Updating a global variable.\n",
    "3. Writing to a file.\n"
   ]
  }
 ],
 "metadata": {
  "kernelspec": {
   "display_name": "Python 3",
   "language": "python",
   "name": "python3"
  },
  "language_info": {
   "codemirror_mode": {
    "name": "ipython",
    "version": 3
   },
   "file_extension": ".py",
   "mimetype": "text/x-python",
   "name": "python",
   "nbconvert_exporter": "python",
   "pygments_lexer": "ipython3",
   "version": "3.8.8"
  }
 },
 "nbformat": 4,
 "nbformat_minor": 5
}
