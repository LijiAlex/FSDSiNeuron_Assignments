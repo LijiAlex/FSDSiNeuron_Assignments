{
 "cells": [
  {
   "cell_type": "markdown",
   "id": "5e98edb0",
   "metadata": {},
   "source": [
    "### 1. Write a Python program to Extract Unique values dictionary values."
   ]
  },
  {
   "cell_type": "code",
   "execution_count": 5,
   "id": "ab402559",
   "metadata": {},
   "outputs": [
    {
     "data": {
      "text/plain": [
       "{1, 2, 3, 'a', 'b'}"
      ]
     },
     "execution_count": 5,
     "metadata": {},
     "output_type": "execute_result"
    }
   ],
   "source": [
    "d = {\n",
    "    'a': 1,\n",
    "    'b': 2,\n",
    "    'c': 3,\n",
    "    'd': 1,\n",
    "    'e': 2,\n",
    "    4: 'a',\n",
    "    5: 'b',\n",
    "    6: 'a'\n",
    "}\n",
    "unique_values = set(d.values())\n",
    "unique_values"
   ]
  },
  {
   "cell_type": "markdown",
   "id": "9816a055",
   "metadata": {},
   "source": [
    "### 2. Write a Python program to find the sum of all items in a dictionary."
   ]
  },
  {
   "cell_type": "code",
   "execution_count": 6,
   "id": "b22cb437",
   "metadata": {},
   "outputs": [
    {
     "data": {
      "text/plain": [
       "24"
      ]
     },
     "execution_count": 6,
     "metadata": {},
     "output_type": "execute_result"
    }
   ],
   "source": [
    "d = {\n",
    "    'a': 1,\n",
    "    'b': 2,\n",
    "    'c': 3,\n",
    "    'd': 1,\n",
    "    'e': 2,\n",
    "    4: 'a',\n",
    "    5: 'b',\n",
    "    6: 'a'\n",
    "}\n",
    "sum = 0\n",
    "for elem in d:\n",
    "    if type(elem)==int:\n",
    "        sum += elem\n",
    "    if type(d[elem])==int:\n",
    "        sum += d[elem]\n",
    "sum"
   ]
  },
  {
   "cell_type": "markdown",
   "id": "1477e3d5",
   "metadata": {},
   "source": [
    "### 3. Write a Python program to Merging two Dictionaries."
   ]
  },
  {
   "cell_type": "code",
   "execution_count": 8,
   "id": "ff901e1e",
   "metadata": {},
   "outputs": [
    {
     "data": {
      "text/plain": [
       "{'a': 4, 'b': 2, 'c': 4, 'd': 1}"
      ]
     },
     "execution_count": 8,
     "metadata": {},
     "output_type": "execute_result"
    }
   ],
   "source": [
    "d1 = {'a': 1,\n",
    "     'b': 2,\n",
    "     'c': 4}\n",
    "d2 = {'d': 1,\n",
    "     'b': 2,\n",
    "     'a': 4}\n",
    "d1.update(d2)\n",
    "d1"
   ]
  },
  {
   "cell_type": "markdown",
   "id": "bef00cd9",
   "metadata": {},
   "source": [
    "### 4. Write a Python program to convert key-values list to flat dictionary."
   ]
  },
  {
   "cell_type": "code",
   "execution_count": 10,
   "id": "82b3e11a",
   "metadata": {},
   "outputs": [
    {
     "data": {
      "text/plain": [
       "{1: 'a', 2: 'b', 3: 'c', 4: 'd'}"
      ]
     },
     "execution_count": 10,
     "metadata": {},
     "output_type": "execute_result"
    }
   ],
   "source": [
    "d = {'a': [1, 2, 3, 4],\n",
    "     'b': ['a', 'b', 'c', 'd']}\n",
    "flat_dict = {}\n",
    "t = zip(d['a'], d['b'])\n",
    "dict(t)"
   ]
  },
  {
   "cell_type": "markdown",
   "id": "77318aa3",
   "metadata": {},
   "source": [
    "### 5. Write a Python program to insertion at the beginning in OrderedDict."
   ]
  },
  {
   "cell_type": "code",
   "execution_count": 12,
   "id": "3edef14f",
   "metadata": {},
   "outputs": [
    {
     "data": {
      "text/plain": [
       "OrderedDict([('two', 2), ('zero', 0), ('one', 1)])"
      ]
     },
     "execution_count": 12,
     "metadata": {},
     "output_type": "execute_result"
    }
   ],
   "source": [
    "from collections import OrderedDict\n",
    "\n",
    "d = OrderedDict([('zero', 0), ('one', 1)])\n",
    "\n",
    "d.update({'two': 2})\n",
    "d.move_to_end('two', last=False)\n",
    "\n",
    "d"
   ]
  },
  {
   "cell_type": "markdown",
   "id": "6086f302",
   "metadata": {},
   "source": [
    "### 6. Write a Python program to check order of character in string using OrderedDict()."
   ]
  },
  {
   "cell_type": "code",
   "execution_count": 14,
   "id": "6a94a01c",
   "metadata": {},
   "outputs": [
    {
     "data": {
      "text/plain": [
       "OrderedDict([(0, 'P'), (1, 'y'), (2, 't'), (3, 'h'), (4, 'o'), (5, 'n')])"
      ]
     },
     "execution_count": 14,
     "metadata": {},
     "output_type": "execute_result"
    }
   ],
   "source": [
    "from collections import OrderedDict\n",
    "\n",
    "d = OrderedDict(enumerate(\"Python\"))\n",
    "d"
   ]
  },
  {
   "cell_type": "markdown",
   "id": "8b6862ba",
   "metadata": {},
   "source": [
    "### 7. Write a Python program to sort Python Dictionaries by Key or Value."
   ]
  },
  {
   "cell_type": "code",
   "execution_count": 20,
   "id": "aaab9489",
   "metadata": {},
   "outputs": [
    {
     "data": {
      "text/plain": [
       "OrderedDict([('a', 1), ('b', 3), ('c', 2), ('d', 2), ('e', 1)])"
      ]
     },
     "execution_count": 20,
     "metadata": {},
     "output_type": "execute_result"
    }
   ],
   "source": [
    "d = {\n",
    "    'a': 1,\n",
    "    'c': 2,\n",
    "    'b': 3,\n",
    "    'e': 1,\n",
    "    'd': 2\n",
    "}\n",
    "keys = list(d.keys())\n",
    "keys.sort()\n",
    "d1 = OrderedDict()\n",
    "for i in keys:\n",
    "    d1[i] = d[i]\n",
    "d1"
   ]
  },
  {
   "cell_type": "code",
   "execution_count": null,
   "id": "c884911f",
   "metadata": {},
   "outputs": [],
   "source": []
  }
 ],
 "metadata": {
  "kernelspec": {
   "display_name": "Python 3",
   "language": "python",
   "name": "python3"
  },
  "language_info": {
   "codemirror_mode": {
    "name": "ipython",
    "version": 3
   },
   "file_extension": ".py",
   "mimetype": "text/x-python",
   "name": "python",
   "nbconvert_exporter": "python",
   "pygments_lexer": "ipython3",
   "version": "3.8.8"
  }
 },
 "nbformat": 4,
 "nbformat_minor": 5
}
