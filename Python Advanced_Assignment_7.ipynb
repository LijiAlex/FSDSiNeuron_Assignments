{
 "cells": [
  {
   "cell_type": "markdown",
   "id": "612f9d4d",
   "metadata": {},
   "source": [
    "### What is the purpose of the try statement?"
   ]
  },
  {
   "cell_type": "markdown",
   "id": "a30eef5a",
   "metadata": {},
   "source": [
    "The try statement allows you to define a block of code to be tested for errors while it is being executed. "
   ]
  },
  {
   "cell_type": "markdown",
   "id": "a0628e2c",
   "metadata": {},
   "source": [
    "### What are the two most popular try statement variations?"
   ]
  },
  {
   "cell_type": "markdown",
   "id": "cb0a9f12",
   "metadata": {},
   "source": [
    "A try can have single except or multiple except.\n",
    "<pre>\n",
    "<u>version1</u>\n",
    "try:\n",
    "    < block >\n",
    "except < exception >:\n",
    "    < block >\n",
    "    \n",
    "<u>version2</u>\n",
    "try:\n",
    "    < block >\n",
    "except < specific_exception >:\n",
    "    < block >\n",
    "except Exception as e:\n",
    "    < block >"
   ]
  },
  {
   "cell_type": "markdown",
   "id": "a84b25f3",
   "metadata": {},
   "source": [
    "### What is the purpose of the raise statement?"
   ]
  },
  {
   "cell_type": "markdown",
   "id": "2f26377c",
   "metadata": {},
   "source": [
    "Python raise Keyword is used to raise exceptions or errors. The raise keyword raises an error and stops the control flow of the program. It is used to bring up the current exception in an exception handler so that it can be handled further up the call stack."
   ]
  },
  {
   "cell_type": "markdown",
   "id": "2d257adc",
   "metadata": {},
   "source": [
    "### What does the assert statement do, and what other statement is it like?"
   ]
  },
  {
   "cell_type": "markdown",
   "id": "9cafe6f7",
   "metadata": {},
   "source": [
    "Assert statement takes an expression and optional message. Assert statement is used to check types, values of argument and the output of the function. Assert statement is used as debugging tool as it halts the program at the point where an error occurs."
   ]
  },
  {
   "cell_type": "markdown",
   "id": "274fbab7",
   "metadata": {},
   "source": [
    "### What is the purpose of the with/as argument, and what other statement is it like?"
   ]
  },
  {
   "cell_type": "markdown",
   "id": "e3e26dcc",
   "metadata": {},
   "source": [
    "The with statement in Python is used for resource management and exception handling. We mostly use it when working with file streams. For example, the statement ensures that the file stream process doesn't block other processes if an exception is raised, but terminates properly."
   ]
  },
  {
   "cell_type": "code",
   "execution_count": null,
   "id": "846ddaae",
   "metadata": {},
   "outputs": [],
   "source": []
  }
 ],
 "metadata": {
  "kernelspec": {
   "display_name": "Python 3",
   "language": "python",
   "name": "python3"
  },
  "language_info": {
   "codemirror_mode": {
    "name": "ipython",
    "version": 3
   },
   "file_extension": ".py",
   "mimetype": "text/x-python",
   "name": "python",
   "nbconvert_exporter": "python",
   "pygments_lexer": "ipython3",
   "version": "3.8.8"
  }
 },
 "nbformat": 4,
 "nbformat_minor": 5
}
