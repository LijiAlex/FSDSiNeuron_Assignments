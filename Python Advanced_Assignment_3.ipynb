{
 "cells": [
  {
   "cell_type": "markdown",
   "id": "737f98d0",
   "metadata": {},
   "source": [
    "### What is the concept of an abstract superclass?"
   ]
  },
  {
   "cell_type": "markdown",
   "id": "6d429a3d",
   "metadata": {},
   "source": [
    "A class is called an Abstract class if it contains one or more abstract methods. An abstract method is a method that is declared, but contains no implementation. Abstract classes may not be instantiated, and its abstract methods must be implemented by its subclasses."
   ]
  },
  {
   "cell_type": "markdown",
   "id": "4868709b",
   "metadata": {},
   "source": [
    "### What happens when a class statement&#39;s top level contains a basic assignment statement?"
   ]
  },
  {
   "cell_type": "markdown",
   "id": "b7a77781",
   "metadata": {},
   "source": [
    "The variable that is assigned is considered as a class variable."
   ]
  },
  {
   "cell_type": "markdown",
   "id": "24b983b8",
   "metadata": {},
   "source": [
    "### Why does a class need to manually call a superclass&#39;s __init__ method?"
   ]
  },
  {
   "cell_type": "markdown",
   "id": "0b40f0f1",
   "metadata": {},
   "source": [
    "The main reason for always calling super class \\_\\_init\\_\\_ is that super class may typically create member variable and initialize them to defaults. So if we don't call super class init, none of that code would be executed and we would end up with super class that has no member variables."
   ]
  },
  {
   "cell_type": "markdown",
   "id": "380dd127",
   "metadata": {},
   "source": [
    "### How can you augment, instead of completely replacing, an inherited method?"
   ]
  },
  {
   "cell_type": "markdown",
   "id": "4d6da2be",
   "metadata": {},
   "source": [
    "The method can be called using super() or using base class name and then add extra features to the inherited method."
   ]
  },
  {
   "cell_type": "markdown",
   "id": "0ed3d178",
   "metadata": {},
   "source": [
    "### How is the local scope of a class different from that of a function?"
   ]
  },
  {
   "cell_type": "markdown",
   "id": "e83e2066",
   "metadata": {},
   "source": [
    "Declaring a variable in a class outside of all class methods amkes it a class varaible and all methods can access it. And since it is a class variable even it can be accessed outside the class using using class name.\n",
    "\n",
    "Declaring a variable inside a function inside a class; only that function can access it (it's in that function's scope)."
   ]
  },
  {
   "cell_type": "code",
   "execution_count": null,
   "id": "e4274c65",
   "metadata": {},
   "outputs": [],
   "source": []
  }
 ],
 "metadata": {
  "kernelspec": {
   "display_name": "Python 3",
   "language": "python",
   "name": "python3"
  },
  "language_info": {
   "codemirror_mode": {
    "name": "ipython",
    "version": 3
   },
   "file_extension": ".py",
   "mimetype": "text/x-python",
   "name": "python",
   "nbconvert_exporter": "python",
   "pygments_lexer": "ipython3",
   "version": "3.8.8"
  }
 },
 "nbformat": 4,
 "nbformat_minor": 5
}
