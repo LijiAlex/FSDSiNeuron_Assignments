{
 "cells": [
  {
   "cell_type": "markdown",
   "id": "193f2372",
   "metadata": {},
   "source": [
    "### 1. What does an empty dictionary's code look like?"
   ]
  },
  {
   "cell_type": "code",
   "execution_count": 1,
   "id": "242d681e",
   "metadata": {},
   "outputs": [],
   "source": [
    "empty_dictionary={}"
   ]
  },
  {
   "cell_type": "markdown",
   "id": "a1d99b6a",
   "metadata": {},
   "source": [
    "### 2. What is the value of a dictionary value with the key 'foo' and the value 42?"
   ]
  },
  {
   "cell_type": "code",
   "execution_count": 2,
   "id": "5c3bf580",
   "metadata": {},
   "outputs": [],
   "source": [
    "d = {'foo': 42}"
   ]
  },
  {
   "cell_type": "markdown",
   "id": "9c776b8a",
   "metadata": {},
   "source": [
    "### 3. What is the most significant distinction between a dictionary and a list?"
   ]
  },
  {
   "cell_type": "markdown",
   "id": "00f91dc8",
   "metadata": {},
   "source": [
    "In a dictionary items are in a key-value pair. List can have a series of elements; not necessarly it has to be in key-value format."
   ]
  },
  {
   "cell_type": "markdown",
   "id": "7d4aa5a4",
   "metadata": {},
   "source": [
    "### 4. What happens if you try to access spam['foo'] if spam is {'bar': 100}?"
   ]
  },
  {
   "cell_type": "markdown",
   "id": "4907421a",
   "metadata": {},
   "source": [
    "It will throw a 'key error' since the specified key 'foo' is not present in the dictionary."
   ]
  },
  {
   "cell_type": "markdown",
   "id": "df610834",
   "metadata": {},
   "source": [
    "### 5. If a dictionary is stored in spam, what is the difference between the expressions 'cat' in spam and 'cat' in spam.keys()?"
   ]
  },
  {
   "cell_type": "markdown",
   "id": "e20f9fe2",
   "metadata": {},
   "source": [
    "No difference; both the expression will give the same result."
   ]
  },
  {
   "cell_type": "markdown",
   "id": "919b309d",
   "metadata": {},
   "source": [
    "### 6. If a dictionary is stored in spam, what is the difference between the expressions 'cat' in spam and 'cat' in spam.values()?"
   ]
  },
  {
   "cell_type": "markdown",
   "id": "206bec2a",
   "metadata": {},
   "source": [
    "'cat' in spam checks for the value 'cat' in dictionary keys where 'cat' in spam.values() checks for 'cat' among dictionary values."
   ]
  },
  {
   "cell_type": "markdown",
   "id": "82dd2b80",
   "metadata": {},
   "source": [
    "### 7. What is a shortcut for the following code?\n",
    "<pre>\n",
    "if 'color' not in spam:\n",
    "  spam['color'] = 'black'\n",
    "</pre>"
   ]
  },
  {
   "cell_type": "markdown",
   "id": "2edeadf8",
   "metadata": {},
   "source": [
    "spam.setdefault('color', 'black')"
   ]
  },
  {
   "cell_type": "markdown",
   "id": "bc4d7e63",
   "metadata": {},
   "source": [
    "### 8. How do you pretty print dictionary values using which module and function?"
   ]
  },
  {
   "cell_type": "markdown",
   "id": "9a5bb2d8",
   "metadata": {},
   "source": [
    "pprint method of pprint module can be used to pretty print Python datastructures including dictionary.\n",
    "<br>eg:- \n",
    "<br>import pprint\n",
    "<br>pprint.pprint(\\<python_collection\\>)"
   ]
  },
  {
   "cell_type": "code",
   "execution_count": null,
   "id": "8d04f79a",
   "metadata": {},
   "outputs": [],
   "source": []
  }
 ],
 "metadata": {
  "kernelspec": {
   "display_name": "Python 3",
   "language": "python",
   "name": "python3"
  },
  "language_info": {
   "codemirror_mode": {
    "name": "ipython",
    "version": 3
   },
   "file_extension": ".py",
   "mimetype": "text/x-python",
   "name": "python",
   "nbconvert_exporter": "python",
   "pygments_lexer": "ipython3",
   "version": "3.8.8"
  }
 },
 "nbformat": 4,
 "nbformat_minor": 5
}
