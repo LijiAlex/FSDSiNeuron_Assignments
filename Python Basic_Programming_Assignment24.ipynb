{
 "cells": [
  {
   "cell_type": "markdown",
   "id": "8701a8a2",
   "metadata": {},
   "source": [
    "### Create a function that takes an integer and returns a list from 1 to the given number, where:\n",
    "1. If the number can be divided evenly by 4, amplify it by 10 (i.e. return 10 times the number).\n",
    "2. If the number cannot be divided evenly by 4, simply return the number."
   ]
  },
  {
   "cell_type": "code",
   "execution_count": 1,
   "id": "6c17b5a8",
   "metadata": {},
   "outputs": [
    {
     "data": {
      "text/plain": [
       "[1, 2, 3, 40]"
      ]
     },
     "execution_count": 1,
     "metadata": {},
     "output_type": "execute_result"
    }
   ],
   "source": [
    "def amplify(num):\n",
    "    \"\"\"\n",
    "    Returns a list from 1 to the given number where\n",
    "    1. If the number can be divided evenly by 4, amplify it by 10 (i.e. return 10 times the number).\n",
    "    2. If the number cannot be divided evenly by 4, simply return the number\n",
    "    \n",
    "    Input\n",
    "    num: the number \n",
    "    \"\"\"\n",
    "    return [i * 10 if i%4 == 0 else i for i in range(1, num+1)]\n",
    "amplify(4)"
   ]
  },
  {
   "cell_type": "code",
   "execution_count": 2,
   "id": "b9d48750",
   "metadata": {},
   "outputs": [
    {
     "data": {
      "text/plain": [
       "[1, 2, 3]"
      ]
     },
     "execution_count": 2,
     "metadata": {},
     "output_type": "execute_result"
    }
   ],
   "source": [
    "amplify(3)"
   ]
  },
  {
   "cell_type": "code",
   "execution_count": 3,
   "id": "1ee81bf6",
   "metadata": {},
   "outputs": [
    {
     "data": {
      "text/plain": [
       "[1,\n",
       " 2,\n",
       " 3,\n",
       " 40,\n",
       " 5,\n",
       " 6,\n",
       " 7,\n",
       " 80,\n",
       " 9,\n",
       " 10,\n",
       " 11,\n",
       " 120,\n",
       " 13,\n",
       " 14,\n",
       " 15,\n",
       " 160,\n",
       " 17,\n",
       " 18,\n",
       " 19,\n",
       " 200,\n",
       " 21,\n",
       " 22,\n",
       " 23,\n",
       " 240,\n",
       " 25]"
      ]
     },
     "execution_count": 3,
     "metadata": {},
     "output_type": "execute_result"
    }
   ],
   "source": [
    "amplify(25)"
   ]
  },
  {
   "cell_type": "markdown",
   "id": "fb20bd0d",
   "metadata": {},
   "source": [
    "### Create a function that takes a list of numbers and return the number that's unique."
   ]
  },
  {
   "cell_type": "code",
   "execution_count": 4,
   "id": "d469123a",
   "metadata": {},
   "outputs": [
    {
     "data": {
      "text/plain": [
       "7"
      ]
     },
     "execution_count": 4,
     "metadata": {},
     "output_type": "execute_result"
    }
   ],
   "source": [
    "def unique(l):\n",
    "    \"\"\"\n",
    "    Takes a list of numbers and return the number that's unique.\n",
    "    Input\n",
    "    l: a list\n",
    "    \"\"\"\n",
    "    s = set(l)\n",
    "    for n in s:\n",
    "        if l.count(n)==1:\n",
    "            return n\n",
    "unique([3, 3, 3, 7, 3, 3])"
   ]
  },
  {
   "cell_type": "code",
   "execution_count": 5,
   "id": "52d38b87",
   "metadata": {},
   "outputs": [
    {
     "data": {
      "text/plain": [
       "0.77"
      ]
     },
     "execution_count": 5,
     "metadata": {},
     "output_type": "execute_result"
    }
   ],
   "source": [
    "unique([0, 0, 0.77, 0, 0])"
   ]
  },
  {
   "cell_type": "code",
   "execution_count": 6,
   "id": "3554c48a",
   "metadata": {},
   "outputs": [
    {
     "data": {
      "text/plain": [
       "0"
      ]
     },
     "execution_count": 6,
     "metadata": {},
     "output_type": "execute_result"
    }
   ],
   "source": [
    "unique([0, 1, 1, 1, 1, 1, 1, 1])"
   ]
  },
  {
   "cell_type": "markdown",
   "id": "4966cb0f",
   "metadata": {},
   "source": [
    "### Your task is to create a Circle constructor that creates a circle with a radius provided by an argument. The circles constructed must have two getters getArea() (PIr^2) and getPerimeter() (2PI*r) which give both respective areas and perimeter (circumference)."
   ]
  },
  {
   "cell_type": "code",
   "execution_count": 7,
   "id": "8ecf97f6",
   "metadata": {},
   "outputs": [
    {
     "data": {
      "text/plain": [
       "380.132711084365"
      ]
     },
     "execution_count": 7,
     "metadata": {},
     "output_type": "execute_result"
    }
   ],
   "source": [
    "import math\n",
    "\n",
    "class Circle:\n",
    "    \"\"\"\n",
    "    A Circle class\n",
    "    \"\"\"\n",
    "    def __init__(self, r):\n",
    "        \"\"\"\n",
    "        Circle constructor\n",
    "        Input\n",
    "        r: radius\n",
    "        \"\"\"\n",
    "        self.radius = r\n",
    "        self.PI = math.pi\n",
    "        \n",
    "    def getArea(self):\n",
    "        \"\"\"\n",
    "        Returns area of circle\n",
    "        \"\"\"\n",
    "        return self.PI * self.radius**2\n",
    "    \n",
    "    def getPerimeter(self):\n",
    "        \"\"\"\n",
    "        Returns perimeter of circle\n",
    "        \"\"\"\n",
    "        return 2*self.PI*self.radius\n",
    "circy = Circle(11)\n",
    "circy.getArea()   "
   ]
  },
  {
   "cell_type": "code",
   "execution_count": 8,
   "id": "18a221ac",
   "metadata": {},
   "outputs": [
    {
     "data": {
      "text/plain": [
       "27.897342763877365"
      ]
     },
     "execution_count": 8,
     "metadata": {},
     "output_type": "execute_result"
    }
   ],
   "source": [
    "circy = Circle(4.44)\n",
    "circy.getPerimeter()"
   ]
  },
  {
   "cell_type": "markdown",
   "id": "5bb40ff9",
   "metadata": {},
   "source": [
    "### Create a function that takes a list of strings and return a list, sorted from shortest to longest."
   ]
  },
  {
   "cell_type": "code",
   "execution_count": 9,
   "id": "dbceb11e",
   "metadata": {},
   "outputs": [
    {
     "data": {
      "text/plain": [
       "['Apple', 'Google', 'Microsoft']"
      ]
     },
     "execution_count": 9,
     "metadata": {},
     "output_type": "execute_result"
    }
   ],
   "source": [
    "def sort_by_length(l):\n",
    "    \"\"\"\n",
    "    Return a list of strings, sorted from shortest to longest\n",
    "    Input\n",
    "    l: A list of strings\n",
    "    \"\"\"\n",
    "    # create a list of lengths\n",
    "    l2 = [len(word) for word in l]\n",
    "    sortedList = []\n",
    "    for i in range(len(l)):\n",
    "        # get minimum length\n",
    "        minlen = min(l2)\n",
    "        i = l2.index(minlen)\n",
    "        # get min length word corresponding to min length\n",
    "        minword = l[i]\n",
    "        # append to a new list\n",
    "        sortedList.append(minword)\n",
    "        # remove current minlength and minword\n",
    "        l2.remove(minlen)\n",
    "        l.remove(minword)\n",
    "    return sortedList\n",
    "sort_by_length([\"Google\", \"Apple\", \"Microsoft\"])"
   ]
  },
  {
   "cell_type": "code",
   "execution_count": 10,
   "id": "d6d0152c",
   "metadata": {},
   "outputs": [
    {
     "data": {
      "text/plain": [
       "['Raphael', 'Leonardo', 'Donatello', 'Michelangelo']"
      ]
     },
     "execution_count": 10,
     "metadata": {},
     "output_type": "execute_result"
    }
   ],
   "source": [
    "sort_by_length([\"Leonardo\", \"Michelangelo\", \"Raphael\", \"Donatello\"])"
   ]
  },
  {
   "cell_type": "code",
   "execution_count": 11,
   "id": "f22479d5",
   "metadata": {},
   "outputs": [
    {
     "data": {
      "text/plain": [
       "['Jung', 'Turing', 'Einstein']"
      ]
     },
     "execution_count": 11,
     "metadata": {},
     "output_type": "execute_result"
    }
   ],
   "source": [
    "sort_by_length([\"Turing\", \"Einstein\", \"Jung\"])"
   ]
  },
  {
   "cell_type": "markdown",
   "id": "bea211d9",
   "metadata": {},
   "source": [
    "### Create a function that validates whether three given integers form a Pythagorean triplet.\n"
   ]
  },
  {
   "cell_type": "code",
   "execution_count": 12,
   "id": "a2b871f0",
   "metadata": {},
   "outputs": [
    {
     "data": {
      "text/plain": [
       "True"
      ]
     },
     "execution_count": 12,
     "metadata": {},
     "output_type": "execute_result"
    }
   ],
   "source": [
    "def is_triplet(a, b, c):\n",
    "    \"\"\"\n",
    "    Checks whether three given integers form a Pythagorean triplet.\n",
    "    Input\n",
    "    a: an integer\n",
    "    b: an integer\n",
    "    c: an integer\n",
    "    \"\"\"\n",
    "    if a**2 + b**2 == c**2 or b**2 + c**2 == a**2 or c**2 + a**2 == b**2:\n",
    "        return True\n",
    "    else:\n",
    "        return False\n",
    "is_triplet(3, 4, 5)"
   ]
  },
  {
   "cell_type": "code",
   "execution_count": 13,
   "id": "9eead791",
   "metadata": {},
   "outputs": [
    {
     "data": {
      "text/plain": [
       "True"
      ]
     },
     "execution_count": 13,
     "metadata": {},
     "output_type": "execute_result"
    }
   ],
   "source": [
    "is_triplet(13, 5, 12)"
   ]
  },
  {
   "cell_type": "code",
   "execution_count": 14,
   "id": "f1e183ab",
   "metadata": {},
   "outputs": [
    {
     "data": {
      "text/plain": [
       "False"
      ]
     },
     "execution_count": 14,
     "metadata": {},
     "output_type": "execute_result"
    }
   ],
   "source": [
    "is_triplet(1, 2, 3)"
   ]
  },
  {
   "cell_type": "code",
   "execution_count": null,
   "id": "34cd41ae",
   "metadata": {},
   "outputs": [],
   "source": []
  }
 ],
 "metadata": {
  "kernelspec": {
   "display_name": "Python 3",
   "language": "python",
   "name": "python3"
  },
  "language_info": {
   "codemirror_mode": {
    "name": "ipython",
    "version": 3
   },
   "file_extension": ".py",
   "mimetype": "text/x-python",
   "name": "python",
   "nbconvert_exporter": "python",
   "pygments_lexer": "ipython3",
   "version": "3.8.8"
  }
 },
 "nbformat": 4,
 "nbformat_minor": 5
}
