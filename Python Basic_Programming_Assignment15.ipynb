{
 "cells": [
  {
   "cell_type": "markdown",
   "id": "1dee4935",
   "metadata": {},
   "source": [
    "### Please write a program using generator to print the numbers which can be divisible by 5 and 7 between 0 and n in comma separated form while n is input by console.\n",
    "Example:\n",
    "<br>If the following n is given as input to the program: 100\n",
    "<br>Then, the output of the program should be: 0,35,70"
   ]
  },
  {
   "cell_type": "code",
   "execution_count": 2,
   "id": "c4aa410b",
   "metadata": {},
   "outputs": [],
   "source": [
    "def divisible_by_5_7(n):\n",
    "    for i in range(0, n+1):\n",
    "        if i%5==0 and i%7==0:\n",
    "            yield(i)"
   ]
  },
  {
   "cell_type": "code",
   "execution_count": 8,
   "id": "268a8efe",
   "metadata": {},
   "outputs": [
    {
     "data": {
      "text/plain": [
       "(0, 35, 70)"
      ]
     },
     "execution_count": 8,
     "metadata": {},
     "output_type": "execute_result"
    }
   ],
   "source": [
    "l = tuple(divisible_by_5_7(100))\n",
    "l"
   ]
  },
  {
   "cell_type": "markdown",
   "id": "03f7dd8b",
   "metadata": {},
   "source": [
    "### Please write a program using generator to print the even numbers between 0 and n in comma separated form while n is input by console.\n",
    "Example:\n",
    "<br>If the following n is given as input to the program:10\n",
    "<br>Then, the output of the program should be:0,2,4,6,8,10"
   ]
  },
  {
   "cell_type": "code",
   "execution_count": 9,
   "id": "fbac2dc4",
   "metadata": {},
   "outputs": [],
   "source": [
    "def even_numbers(n):\n",
    "    for i in range(0, n+1):\n",
    "        if i%2==0:\n",
    "            yield(i)"
   ]
  },
  {
   "cell_type": "code",
   "execution_count": 10,
   "id": "4e5dc285",
   "metadata": {},
   "outputs": [
    {
     "data": {
      "text/plain": [
       "(0, 2, 4, 6, 8, 10)"
      ]
     },
     "execution_count": 10,
     "metadata": {},
     "output_type": "execute_result"
    }
   ],
   "source": [
    "l = tuple(even_numbers(10))\n",
    "l"
   ]
  },
  {
   "cell_type": "markdown",
   "id": "03019950",
   "metadata": {},
   "source": [
    "### The Fibonacci Sequence is computed based on the following formula:\n",
    "<pre>\n",
    "f(n)=0 if n=0\n",
    "f(n)=1 if n=1\n",
    "f(n)=f(n-1)+f(n-2) if n&gt;1\n",
    "</pre>\n",
    "### Please write a program using list comprehension to print the Fibonacci Sequence in comma separated form with a given n input by console.\n",
    "<pre>\n",
    "Example:\n",
    "If the following n is given as input to the program:7\n",
    "Then, the output of the program should be:0,1,1,2,3,5,8,13"
   ]
  },
  {
   "cell_type": "code",
   "execution_count": 29,
   "id": "060c3e04",
   "metadata": {},
   "outputs": [
    {
     "data": {
      "text/plain": [
       "[0, 1, 1, 2, 3, 5, 8]"
      ]
     },
     "execution_count": 29,
     "metadata": {},
     "output_type": "execute_result"
    }
   ],
   "source": [
    "n = 7\n",
    "mylist = []\n",
    "[mylist.append(mylist[-2]+mylist[-1]) if i>1 else mylist.append(i) for i in range(n)]\n",
    "mylist"
   ]
  },
  {
   "cell_type": "markdown",
   "id": "882f7d19",
   "metadata": {},
   "source": [
    "### Assuming that we have some email addresses in the &quot;username@companyname.com&quot; format, please write program to print the user name of a given email address. Both user names and company names are composed of letters only.\n",
    "Example:\n",
    "<br>If the following email address is given as input to the program:john@google.com\n",
    "<br>Then, the output of the program should be:john"
   ]
  },
  {
   "cell_type": "code",
   "execution_count": 30,
   "id": "d385da9a",
   "metadata": {},
   "outputs": [
    {
     "data": {
      "text/plain": [
       "'john'"
      ]
     },
     "execution_count": 30,
     "metadata": {},
     "output_type": "execute_result"
    }
   ],
   "source": [
    "def get_user(email):\n",
    "    return email.partition('@')[0]\n",
    "get_user(\"john@google.com\")"
   ]
  },
  {
   "cell_type": "markdown",
   "id": "9494e140",
   "metadata": {},
   "source": [
    "### Define a class named Shape and its subclass Square. The Square class has an init function which takes a length as argument. Both classes have a area function which can print the area of the shape where Shape&#39;s area is 0 by default."
   ]
  },
  {
   "cell_type": "code",
   "execution_count": 35,
   "id": "ae8ecda0",
   "metadata": {},
   "outputs": [],
   "source": [
    "class Shape:\n",
    "    def __init__(self):\n",
    "        self.area = 0\n",
    "    def area(self):\n",
    "        print(self.area)\n",
    "        \n",
    "class Square(Shape):\n",
    "    def __init__(self, l):\n",
    "        self.length = l\n",
    "    def area(self):\n",
    "        self.area = self.length**2\n",
    "        Shape.area(self)"
   ]
  },
  {
   "cell_type": "code",
   "execution_count": 36,
   "id": "008996c9",
   "metadata": {},
   "outputs": [
    {
     "name": "stdout",
     "output_type": "stream",
     "text": [
      "16\n"
     ]
    }
   ],
   "source": [
    "s = Square(4)\n",
    "s.area()"
   ]
  },
  {
   "cell_type": "code",
   "execution_count": null,
   "id": "b24ce2a6",
   "metadata": {},
   "outputs": [],
   "source": []
  }
 ],
 "metadata": {
  "kernelspec": {
   "display_name": "Python 3",
   "language": "python",
   "name": "python3"
  },
  "language_info": {
   "codemirror_mode": {
    "name": "ipython",
    "version": 3
   },
   "file_extension": ".py",
   "mimetype": "text/x-python",
   "name": "python",
   "nbconvert_exporter": "python",
   "pygments_lexer": "ipython3",
   "version": "3.8.8"
  }
 },
 "nbformat": 4,
 "nbformat_minor": 5
}
