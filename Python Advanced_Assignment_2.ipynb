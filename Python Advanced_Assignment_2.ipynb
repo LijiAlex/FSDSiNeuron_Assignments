{
 "cells": [
  {
   "cell_type": "markdown",
   "id": "34cabcd7",
   "metadata": {},
   "source": [
    "### What is the relationship between classes and modules?"
   ]
  },
  {
   "cell_type": "markdown",
   "id": "d0f675c4",
   "metadata": {},
   "source": [
    "Modules are collections of methods and constants. They cannot generate instances. A class is used to define a blueprint for a given object and can generate instances (objects), and have per-instance state (instance variables)."
   ]
  },
  {
   "cell_type": "markdown",
   "id": "890e46d0",
   "metadata": {},
   "source": [
    "### How do you make instances and classes?"
   ]
  },
  {
   "cell_type": "markdown",
   "id": "3b271403",
   "metadata": {},
   "source": [
    "<pre>\n",
    "A class is defined by the syntax,\n",
    "def < class_name >:\n",
    "    < method1 >\n",
    "    < method2 >\n",
    "    < method3 >\n",
    "    etc\n",
    "An instance is created by,\n",
    "< instance_name > = < class_name >(< arguments >)"
   ]
  },
  {
   "cell_type": "markdown",
   "id": "b6a1b066",
   "metadata": {},
   "source": [
    "### Where and how should be class attributes created?"
   ]
  },
  {
   "cell_type": "markdown",
   "id": "c1237ba6",
   "metadata": {},
   "source": [
    "Class attributes are attributes which are owned by the class itself. They will be shared by all the instances of the class. Therefore they have the same value for every instance. We define class attributes outside all the methods, usually they are placed at the top, right below the class header."
   ]
  },
  {
   "cell_type": "markdown",
   "id": "ed628ea5",
   "metadata": {},
   "source": [
    "### Where and how are instance attributes created?"
   ]
  },
  {
   "cell_type": "markdown",
   "id": "2014d0a7",
   "metadata": {},
   "source": [
    "Instance attributes are defined directly inside a class using the self parameter."
   ]
  },
  {
   "cell_type": "markdown",
   "id": "fc221086",
   "metadata": {},
   "source": [
    "### What does the term &quot;self&quot; in a Python class mean?"
   ]
  },
  {
   "cell_type": "markdown",
   "id": "752e18b9",
   "metadata": {},
   "source": [
    "The self parameter is a reference to the current instance of the class, and is used to access instance variables of the class."
   ]
  },
  {
   "cell_type": "markdown",
   "id": "8febb2e7",
   "metadata": {},
   "source": [
    "### How does a Python class handle operator overloading?"
   ]
  },
  {
   "cell_type": "markdown",
   "id": "d063c0be",
   "metadata": {},
   "source": [
    "To perform operator overloading, Python provides some special function or magic function that is automatically invoked when it is associated with that particular operator. For example, when we use + operator, the magic method \\_\\_add\\_\\_ is automatically invoked in which the operation for + operator is defined."
   ]
  },
  {
   "cell_type": "markdown",
   "id": "b903837e",
   "metadata": {},
   "source": [
    "### When do you consider allowing operator overloading of your classes?"
   ]
  },
  {
   "cell_type": "markdown",
   "id": "336d75e1",
   "metadata": {},
   "source": [
    "When we need our user defined classes to behave in a very flexible manner as in built-in classes we can do operator overloading."
   ]
  },
  {
   "cell_type": "markdown",
   "id": "5ffc3b3f",
   "metadata": {},
   "source": [
    "### What is the most popular form of operator overloading?"
   ]
  },
  {
   "cell_type": "markdown",
   "id": "feba8cd7",
   "metadata": {},
   "source": [
    "Operator overloading of +."
   ]
  },
  {
   "cell_type": "markdown",
   "id": "d481369f",
   "metadata": {},
   "source": [
    "### What are the two most important concepts to grasp in order to comprehend Python OOP code?"
   ]
  },
  {
   "cell_type": "markdown",
   "id": "40dfb9ea",
   "metadata": {},
   "source": [
    "The concept of classes and objects."
   ]
  },
  {
   "cell_type": "code",
   "execution_count": null,
   "id": "5c1e1f13",
   "metadata": {},
   "outputs": [],
   "source": []
  }
 ],
 "metadata": {
  "kernelspec": {
   "display_name": "Python 3",
   "language": "python",
   "name": "python3"
  },
  "language_info": {
   "codemirror_mode": {
    "name": "ipython",
    "version": 3
   },
   "file_extension": ".py",
   "mimetype": "text/x-python",
   "name": "python",
   "nbconvert_exporter": "python",
   "pygments_lexer": "ipython3",
   "version": "3.8.8"
  }
 },
 "nbformat": 4,
 "nbformat_minor": 5
}
