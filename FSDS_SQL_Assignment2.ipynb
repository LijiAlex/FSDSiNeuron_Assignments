{
 "cells": [
  {
   "cell_type": "markdown",
   "id": "0dcc7a3b",
   "metadata": {},
   "source": [
    "<pre>\n",
    "\n",
    "Q-1. Write an SQL query to print the first three characters of  FIRST_NAME from Worker table.\n",
    "\n",
    "SELECT SUBSTRING(FIRST_NAME, 1, 3)\n",
    "FROM Worker;\n",
    "\n",
    " Q-2. Write an SQL query to find the position of the alphabet (‘a’) in the first name column ‘Amitabh’ from Worker table.\n",
    " \n",
    "SELECT CHARINDEX(FIRST_NAME, ’a’)\n",
    "FROM Worker \n",
    "WHERE FIRST_NAME=’Amitabh’;\n",
    "\n",
    "Q-3. Write an SQL query to print the name of employees having the highest salary in each department.\n",
    "\n",
    "SELECT FIRST_NAME, DEPARTMENT, SALARY\n",
    "FROM Worker\n",
    "WHERE SALARY = (SELECT MAX(SALARY) FROM Worker GROUP BY DEPARTMENT);"
   ]
  },
  {
   "cell_type": "code",
   "execution_count": null,
   "id": "703de421",
   "metadata": {},
   "outputs": [],
   "source": []
  }
 ],
 "metadata": {
  "kernelspec": {
   "display_name": "Python 3",
   "language": "python",
   "name": "python3"
  },
  "language_info": {
   "codemirror_mode": {
    "name": "ipython",
    "version": 3
   },
   "file_extension": ".py",
   "mimetype": "text/x-python",
   "name": "python",
   "nbconvert_exporter": "python",
   "pygments_lexer": "ipython3",
   "version": "3.8.8"
  }
 },
 "nbformat": 4,
 "nbformat_minor": 5
}
