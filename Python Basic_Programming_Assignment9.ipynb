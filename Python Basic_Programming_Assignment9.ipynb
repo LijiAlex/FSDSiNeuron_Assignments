{
 "cells": [
  {
   "cell_type": "markdown",
   "id": "0473c47c",
   "metadata": {},
   "source": [
    "### 1. Write a Python program to check if the given number is a Disarium Number?"
   ]
  },
  {
   "cell_type": "code",
   "execution_count": 12,
   "id": "57ec3c00",
   "metadata": {},
   "outputs": [
    {
     "name": "stdout",
     "output_type": "stream",
     "text": [
      "Enter number: 175\n",
      "Number is a disarium number\n"
     ]
    }
   ],
   "source": [
    "def disarium(num):\n",
    "    pos = 1\n",
    "    summ = 0\n",
    "    for d in num:\n",
    "        summ += int(d)**pos\n",
    "        pos += 1\n",
    "    if summ == int(num):\n",
    "        return True\n",
    "    else:\n",
    "        return False\n",
    "        \n",
    "num = input(\"Enter number: \")\n",
    "if(disarium(num)):\n",
    "    print(\"Number is a disarium number\")\n",
    "else:\n",
    "    print(\"Number is not a disarium number\")"
   ]
  },
  {
   "cell_type": "markdown",
   "id": "0660be65",
   "metadata": {},
   "source": [
    "### 2. Write a Python program to print all disarium numbers between 1 to 100?"
   ]
  },
  {
   "cell_type": "code",
   "execution_count": 10,
   "id": "700a3256",
   "metadata": {},
   "outputs": [
    {
     "name": "stdout",
     "output_type": "stream",
     "text": [
      "1 2 3 4 5 6 7 8 9 89 "
     ]
    }
   ],
   "source": [
    "for num in filter(disarium,map(str,range(1,101))):\n",
    "    print(num, end=\" \")\n",
    "    "
   ]
  },
  {
   "cell_type": "markdown",
   "id": "64efb82f",
   "metadata": {},
   "source": [
    "### 3. Write a Python program to check if the given number is Happy Number?"
   ]
  },
  {
   "cell_type": "code",
   "execution_count": 28,
   "id": "2132addd",
   "metadata": {},
   "outputs": [
    {
     "name": "stdout",
     "output_type": "stream",
     "text": [
      "Enter number: 68\n",
      "Number is a happy number\n"
     ]
    }
   ],
   "source": [
    "def is_happy(num):    \n",
    "    while True:\n",
    "        pos = 1\n",
    "        summ = 0\n",
    "        for d in num:\n",
    "            summ += int(d)**2\n",
    "            pos += 1  \n",
    "        if summ == 1:\n",
    "            return True            \n",
    "        elif summ == 4:\n",
    "            return False\n",
    "        else:\n",
    "            num = str(summ)\n",
    "        \n",
    "num = input(\"Enter number: \")\n",
    "if(is_happy(num)):\n",
    "    print(\"Number is a happy number\")\n",
    "else:\n",
    "    print(\"Number is not a happy number\")"
   ]
  },
  {
   "cell_type": "markdown",
   "id": "2d22cb92",
   "metadata": {},
   "source": [
    "### 4. Write a Python program to print all happy numbers between 1 and 100."
   ]
  },
  {
   "cell_type": "code",
   "execution_count": 25,
   "id": "96c0286f",
   "metadata": {},
   "outputs": [
    {
     "name": "stdout",
     "output_type": "stream",
     "text": [
      "1 7 10 13 19 23 28 31 32 44 49 68 70 79 82 86 91 94 97 100 "
     ]
    }
   ],
   "source": [
    "for num in filter(is_happy,map(str,range(1,101))):\n",
    "    print(num, end=\" \")"
   ]
  },
  {
   "cell_type": "markdown",
   "id": "cd77da14",
   "metadata": {},
   "source": [
    "### 5. Write a Python program to determine whether the given number is a Harshad Number."
   ]
  },
  {
   "cell_type": "code",
   "execution_count": 35,
   "id": "75e4ac9d",
   "metadata": {},
   "outputs": [
    {
     "name": "stdout",
     "output_type": "stream",
     "text": [
      "Enter number: 195\n",
      "Number is a Harshad number\n"
     ]
    }
   ],
   "source": [
    "def is_harshad(num): \n",
    "    summ = 0\n",
    "    for d in num:\n",
    "        summ += int(d)\n",
    "    if int(num)%summ == 0:\n",
    "        return True\n",
    "    else:\n",
    "        return False\n",
    "        \n",
    "num = input(\"Enter number: \")\n",
    "if(is_harshad(num)):\n",
    "    print(\"Number is a Harshad number\")\n",
    "else:\n",
    "    print(\"Number is not a Harshad number\")"
   ]
  },
  {
   "cell_type": "markdown",
   "id": "0c9e7df8",
   "metadata": {},
   "source": [
    "### 6. Write a Python program to print all pronic numbers between 1 and 100."
   ]
  },
  {
   "cell_type": "code",
   "execution_count": 41,
   "id": "045dac0c",
   "metadata": {},
   "outputs": [
    {
     "name": "stdout",
     "output_type": "stream",
     "text": [
      "2 6 12 20 30 42 56 72 90 "
     ]
    }
   ],
   "source": [
    "def is_pronic(num): \n",
    "    if num == 2:\n",
    "        return True\n",
    "    for i in range(1, num//2):        \n",
    "        if i*(i+1) == num:\n",
    "            return True\n",
    "    return False\n",
    "        \n",
    "for num in filter(is_pronic,range(1,101)):\n",
    "    print(num, end=\" \")"
   ]
  },
  {
   "cell_type": "code",
   "execution_count": null,
   "id": "428dc73c",
   "metadata": {},
   "outputs": [],
   "source": []
  }
 ],
 "metadata": {
  "kernelspec": {
   "display_name": "Python 3",
   "language": "python",
   "name": "python3"
  },
  "language_info": {
   "codemirror_mode": {
    "name": "ipython",
    "version": 3
   },
   "file_extension": ".py",
   "mimetype": "text/x-python",
   "name": "python",
   "nbconvert_exporter": "python",
   "pygments_lexer": "ipython3",
   "version": "3.8.8"
  }
 },
 "nbformat": 4,
 "nbformat_minor": 5
}
