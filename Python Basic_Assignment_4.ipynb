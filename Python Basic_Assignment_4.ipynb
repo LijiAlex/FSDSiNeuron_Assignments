{
 "cells": [
  {
   "cell_type": "markdown",
   "id": "15f38225",
   "metadata": {},
   "source": [
    "### 1. What exactly is []?"
   ]
  },
  {
   "cell_type": "markdown",
   "id": "0cc17806",
   "metadata": {},
   "source": [
    "It is an empty list."
   ]
  },
  {
   "cell_type": "markdown",
   "id": "0fc60e33",
   "metadata": {},
   "source": [
    "### 2. In a list of values stored in a variable called spam, how would you assign the value 'hello' as the third value? (Assume [2, 4, 6, 8, 10] are in spam.)\n"
   ]
  },
  {
   "cell_type": "code",
   "execution_count": 1,
   "id": "c27fa564",
   "metadata": {},
   "outputs": [],
   "source": [
    "spam = [2, 4, 6, 8, 10]\n",
    "spam[2] = \"hello\""
   ]
  },
  {
   "cell_type": "markdown",
   "id": "cf179cc2",
   "metadata": {},
   "source": [
    "### Let's pretend the spam includes the list ['a', 'b', 'c', 'd'] for the next three queries."
   ]
  },
  {
   "cell_type": "code",
   "execution_count": 5,
   "id": "c6ba1e55",
   "metadata": {},
   "outputs": [],
   "source": [
    "spam = ['a', 'b', 'c', 'd']"
   ]
  },
  {
   "cell_type": "markdown",
   "id": "146f2ead",
   "metadata": {},
   "source": [
    "### 3. What is the value of spam[int(int('3' * 2) / 11)]?"
   ]
  },
  {
   "cell_type": "markdown",
   "id": "9354835e",
   "metadata": {},
   "source": [
    "spam[int(int('3' * 2) / 11)]\n",
    "<br> = spam[int(int(33)/11)]\n",
    "<br> = spam[int(3)]\n",
    "<br> = spam[3]\n",
    "<br> ='d'"
   ]
  },
  {
   "cell_type": "markdown",
   "id": "2bdda4fd",
   "metadata": {},
   "source": [
    "### 4. What is the value of spam[-1]?"
   ]
  },
  {
   "cell_type": "markdown",
   "id": "68982336",
   "metadata": {},
   "source": [
    "'d'"
   ]
  },
  {
   "cell_type": "markdown",
   "id": "cd900ae7",
   "metadata": {},
   "source": [
    "### 5. What is the value of spam[:2]?"
   ]
  },
  {
   "cell_type": "markdown",
   "id": "eff988e2",
   "metadata": {},
   "source": [
    "['a', 'b']"
   ]
  },
  {
   "cell_type": "markdown",
   "id": "5462d1be",
   "metadata": {},
   "source": [
    "### Let's pretend bacon has the list [3.14, 'cat,' 11, 'cat,' True] for the next three questions."
   ]
  },
  {
   "cell_type": "code",
   "execution_count": 10,
   "id": "c3bc3e05",
   "metadata": {},
   "outputs": [],
   "source": [
    "bacon = [3.14, 'cat', 11, 'cat', True]"
   ]
  },
  {
   "cell_type": "markdown",
   "id": "fe5727f0",
   "metadata": {},
   "source": [
    "### 6. What is the value of bacon.index('cat')?"
   ]
  },
  {
   "cell_type": "markdown",
   "id": "6722644b",
   "metadata": {},
   "source": [
    "1"
   ]
  },
  {
   "cell_type": "markdown",
   "id": "6516ad78",
   "metadata": {},
   "source": [
    "### 7. How does bacon.append(99) change the look of the list value in bacon?"
   ]
  },
  {
   "cell_type": "markdown",
   "id": "293ea361",
   "metadata": {},
   "source": [
    "bacon will become [3.14, 'cat', 11, 'cat', True, 99]"
   ]
  },
  {
   "cell_type": "markdown",
   "id": "78695ec8",
   "metadata": {},
   "source": [
    "### 8. How does bacon.remove('cat') change the look of the list in bacon?"
   ]
  },
  {
   "cell_type": "markdown",
   "id": "4679adb0",
   "metadata": {},
   "source": [
    "bacon wil become [3.14, 11, 'cat', True, 99]"
   ]
  },
  {
   "cell_type": "markdown",
   "id": "e45bf86b",
   "metadata": {},
   "source": [
    "### 9. What are the list concatenation and list replication operators?"
   ]
  },
  {
   "cell_type": "markdown",
   "id": "79f873ce",
   "metadata": {},
   "source": [
    "List concatenation operator is +. It appends two lists.\n",
    "<br> List replication operator is *. It duplicates a list, the specified number of times."
   ]
  },
  {
   "cell_type": "markdown",
   "id": "d02b821b",
   "metadata": {},
   "source": [
    "### 10. What is difference between the list methods append() and insert()?"
   ]
  },
  {
   "cell_type": "markdown",
   "id": "3f5b4efd",
   "metadata": {},
   "source": [
    "append() appends an item to the end of the list.<br> insert() inserts an item at the index specified."
   ]
  },
  {
   "cell_type": "markdown",
   "id": "182d479b",
   "metadata": {},
   "source": [
    "### 11. What are the two methods for removing items from a list?"
   ]
  },
  {
   "cell_type": "markdown",
   "id": "4bc24d29",
   "metadata": {},
   "source": [
    "The two methods are pop() and remove()."
   ]
  },
  {
   "cell_type": "markdown",
   "id": "b3bf20ba",
   "metadata": {},
   "source": [
    "### 12. Describe how list values and string values are identical."
   ]
  },
  {
   "cell_type": "markdown",
   "id": "46b20f54",
   "metadata": {},
   "source": [
    "1. Items in a list and characters in a string can be accessed using an index.\n",
    "2. Slicing operations works the same way in both.\n",
    "3. Append(+) and replicate(*) operators have the same effect in both."
   ]
  },
  {
   "cell_type": "markdown",
   "id": "bd187011",
   "metadata": {},
   "source": [
    "### 13. What's the difference between tuples and lists?"
   ]
  },
  {
   "cell_type": "markdown",
   "id": "1d771529",
   "metadata": {},
   "source": [
    "1. Lists are mutable where as tuples are not mutable.\n",
    "2. Lists are represented using [] where as tuples using ().\n",
    "3. A sequence of items seperated by comma(,) is also considered a tuple. Eg:- 2,3,4 is also considered as a tuple.\n",
    "4. Mutable operations are not allowed on a tuple where as it is allowed in a list."
   ]
  },
  {
   "cell_type": "markdown",
   "id": "1a1965f2",
   "metadata": {},
   "source": [
    "### 14. How do you type a tuple value that only contains the integer 42?"
   ]
  },
  {
   "cell_type": "markdown",
   "id": "ba8a21b6",
   "metadata": {},
   "source": [
    "42,"
   ]
  },
  {
   "cell_type": "markdown",
   "id": "1ec0d1d0",
   "metadata": {},
   "source": [
    "### 15. How do you get a list value's tuple form? How do you get a tuple value's list form?"
   ]
  },
  {
   "cell_type": "markdown",
   "id": "c10ca5da",
   "metadata": {},
   "source": [
    "list() coverts a sequence to a list and tuple() converts a sequence to a tuple."
   ]
  },
  {
   "cell_type": "markdown",
   "id": "70a3d167",
   "metadata": {},
   "source": [
    "### 16. Variables that \"contain\" list values are not necessarily lists themselves. Instead, what do they contain?"
   ]
  },
  {
   "cell_type": "markdown",
   "id": "1b8971ca",
   "metadata": {},
   "source": [
    "Variables will contain references to list values rather than list values themselves."
   ]
  },
  {
   "cell_type": "markdown",
   "id": "1fa11894",
   "metadata": {},
   "source": [
    "### 17. How do you distinguish between copy.copy() and copy.deepcopy()?"
   ]
  },
  {
   "cell_type": "markdown",
   "id": "45374faa",
   "metadata": {},
   "source": [
    "1. Difference between copy() and deepcopy() is visible only when the structure is a nested structure.\n",
    "2. copy() creates a new object and then inserts references of the items found in the original.So a change in the original will be reflected in the copied object also.\n",
    "3. A deepcopy() creates a new object and also creates new items recursively. The new references to the items are then inserted to the copied object. Hence any change in new object won't affect the original.\n"
   ]
  },
  {
   "cell_type": "code",
   "execution_count": 49,
   "id": "1cfa542d",
   "metadata": {},
   "outputs": [
    {
     "data": {
      "text/plain": [
       "[['old'], 3, 4, 5]"
      ]
     },
     "execution_count": 49,
     "metadata": {},
     "output_type": "execute_result"
    }
   ],
   "source": [
    "import copy\n",
    "l1 = [[\"old\"], 3, 4, 5]\n",
    "l2 = copy.copy(l1) #shallow copy\n",
    "l2"
   ]
  },
  {
   "cell_type": "code",
   "execution_count": 50,
   "id": "628cd78e",
   "metadata": {},
   "outputs": [
    {
     "data": {
      "text/plain": [
       "[['old'], 3, 4, 5]"
      ]
     },
     "execution_count": 50,
     "metadata": {},
     "output_type": "execute_result"
    }
   ],
   "source": [
    "l3 = copy.deepcopy(l1) #deep copy\n",
    "l3"
   ]
  },
  {
   "cell_type": "code",
   "execution_count": 51,
   "id": "f99061e8",
   "metadata": {},
   "outputs": [
    {
     "data": {
      "text/plain": [
       "[['changed'], 3, 4, 5]"
      ]
     },
     "execution_count": 51,
     "metadata": {},
     "output_type": "execute_result"
    }
   ],
   "source": [
    "l2[0][0] = \"changed\"\n",
    "l2 # made changes in l2"
   ]
  },
  {
   "cell_type": "code",
   "execution_count": 52,
   "id": "55ba780f",
   "metadata": {},
   "outputs": [
    {
     "data": {
      "text/plain": [
       "[['changed'], 3, 4, 5]"
      ]
     },
     "execution_count": 52,
     "metadata": {},
     "output_type": "execute_result"
    }
   ],
   "source": [
    "l1 # changes made got reflected in l1 also."
   ]
  },
  {
   "cell_type": "code",
   "execution_count": 53,
   "id": "f5dc3fbe",
   "metadata": {},
   "outputs": [
    {
     "data": {
      "text/plain": [
       "[['old'], 3, 4, 5]"
      ]
     },
     "execution_count": 53,
     "metadata": {},
     "output_type": "execute_result"
    }
   ],
   "source": [
    "l3 # no change"
   ]
  }
 ],
 "metadata": {
  "kernelspec": {
   "display_name": "Python 3",
   "language": "python",
   "name": "python3"
  },
  "language_info": {
   "codemirror_mode": {
    "name": "ipython",
    "version": 3
   },
   "file_extension": ".py",
   "mimetype": "text/x-python",
   "name": "python",
   "nbconvert_exporter": "python",
   "pygments_lexer": "ipython3",
   "version": "3.8.8"
  }
 },
 "nbformat": 4,
 "nbformat_minor": 5
}
