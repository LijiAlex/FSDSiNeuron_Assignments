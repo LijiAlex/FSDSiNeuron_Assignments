{
 "cells": [
  {
   "cell_type": "markdown",
   "id": "18c9fbfd",
   "metadata": {},
   "source": [
    "1. What does one mean by the term &quot;machine learning&quot;?\n",
    "\n",
    "Machine learning is a branch of artificial intelligence (AI) which focuses on the use of data and algorithms to imitate the way that humans learn, gradually improving its accuracy. "
   ]
  },
  {
   "cell_type": "markdown",
   "id": "6887b290",
   "metadata": {},
   "source": [
    "2. Can you think of 4 distinct types of issues where it shines?\n",
    "\n",
    "* Fraud Detection for Secure Transactions.\n",
    "* Image Recognition\n",
    "* Spam Classification\n",
    "* Recommender System"
   ]
  },
  {
   "cell_type": "markdown",
   "id": "e9ebf19c",
   "metadata": {},
   "source": [
    "3. What is a labeled training set, and how does it work?\n",
    "\n",
    "Labeled training data is used in supervised learning. It enables ML models to learn the characteristics associated with specific labels, which can be used to classify newer data points."
   ]
  },
  {
   "cell_type": "markdown",
   "id": "1db7a2d9",
   "metadata": {},
   "source": [
    "4. What are the two most important tasks that are supervised?\n",
    "\n",
    "Regresstion and Classification"
   ]
  },
  {
   "cell_type": "markdown",
   "id": "d11c6019",
   "metadata": {},
   "source": [
    "5. Can you think of four examples of unsupervised tasks?\n",
    "\n",
    "* Dimensionality Reduction — the task of reducing the number of input features in a dataset\n",
    "* Anomaly Detection — the task of detecting instances that are very different from the norm\n",
    "* Clustering — the task of grouping similar instances into clusters\n",
    "* Association rule learning - Find some interesting relations or associations among the variables of dataset.\n",
    "\n"
   ]
  },
  {
   "cell_type": "markdown",
   "id": "6946bfcf",
   "metadata": {},
   "source": [
    "6. State the machine learning model that would be best to make a robot walk through various unfamiliar terrains?\n",
    "\n",
    "The best Machine Learning algorithm to allow a Robot to walk in unfamiliar terrains is Reinforced Learning."
   ]
  },
  {
   "cell_type": "markdown",
   "id": "32e820e6",
   "metadata": {},
   "source": [
    "7. Which algorithm will you use to divide your customers into different groups?\n",
    "\n",
    "Clustering algorithm is a technique that assists customer segmentation which is a process of classifying similar customers into the same segment."
   ]
  },
  {
   "cell_type": "markdown",
   "id": "7fb71652",
   "metadata": {},
   "source": [
    "8. Will you consider the problem of spam detection to be a supervised or unsupervised learning problem?\n",
    "\n",
    "Spam detection is a Supervised Machine Learning problem because the labels are known (spam or no spam)."
   ]
  },
  {
   "cell_type": "markdown",
   "id": "b87d37d7",
   "metadata": {},
   "source": [
    "9. What is the concept of an online learning system?\n",
    "\n",
    "Online learning system is a learning system in which the machine learns continously, as data is given in small streams continuously instead of giving in a bulk."
   ]
  },
  {
   "cell_type": "markdown",
   "id": "2a021203",
   "metadata": {},
   "source": [
    "10. What is out-of-core learning, and how does it differ from core learning?\n",
    "\n",
    "Out-of-core (or “external memory”) learning is a technique used to learn from data that cannot fit in a computer's main memory (RAM)."
   ]
  },
  {
   "cell_type": "markdown",
   "id": "b02cf417",
   "metadata": {},
   "source": [
    "11. What kind of learning algorithm makes predictions using a similarity measure?\n",
    "\n",
    "Learning algorithm that relies on a similarity measure to make predictions is instance-based algorithm."
   ]
  },
  {
   "cell_type": "markdown",
   "id": "c8d0b6f4",
   "metadata": {},
   "source": [
    "12. What&#39;s the difference between a model parameter and a hyperparameter in a learning algorithm?\n",
    "\n",
    "Model Parameters are the parameters in the model that must be determined using the training data set. These are the fitted parameters. \n",
    "Hyperparameters are adjustable parameters that must be tuned in order to obtain a model with optimal performance."
   ]
  },
  {
   "cell_type": "markdown",
   "id": "44bb568d",
   "metadata": {},
   "source": [
    "13. What are the criteria that model-based learning algorithms look for? What is the most popular method they use to achieve success? What method do they use to make predictions?\n",
    "\n",
    "Model based learning algorithm search for the optimal value of parameters in a model that will give the best results for the new instances. We often use a cost function or similar to determine what the parameter value has to be in order to minimize the cost function. The model makes prediction by using the value of the new instance and the parameters determined using the training set based on the cost function."
   ]
  },
  {
   "cell_type": "markdown",
   "id": "fec3dcaf",
   "metadata": {},
   "source": [
    "14. Can you name four of the most important Machine Learning challenges?\n",
    "\n",
    "Four main challenges in Machine Learning include \n",
    "* overfitting the data (using a model too complicated), \n",
    "* underfitting the data (using a simple model), \n",
    "* lacking in data and \n",
    "* nonrepresentative data."
   ]
  },
  {
   "cell_type": "markdown",
   "id": "1fa1170b",
   "metadata": {},
   "source": [
    "15. What happens if the model performs well on the training data but fails to generalize the results to new situations? Can you think of three different options?\n",
    "\n",
    "If the model performs poorly to new instances, then it has overfit on the training data. To solve this, we can do any of the following three: \n",
    "* get more data, \n",
    "* implement a simpler model, or \n",
    "* eliminate outliers or noise from the existing data set."
   ]
  },
  {
   "cell_type": "markdown",
   "id": "27bf9269",
   "metadata": {},
   "source": [
    "16. What exactly is a test set, and why would you need one?\n",
    "\n",
    "Test set is a set to test your model (fit using training data) to see how it performs.Test set is necessary to determine how good (or bad) a model performs."
   ]
  },
  {
   "cell_type": "markdown",
   "id": "271eda16",
   "metadata": {},
   "source": [
    "17. What is a validation set&#39;s purpose?\n",
    "\n",
    "Validation set is a set used to compare between different training models."
   ]
  },
  {
   "cell_type": "markdown",
   "id": "70825ced",
   "metadata": {},
   "source": [
    "18. What precisely is the train-dev kit, when will you need it, how do you put it to use?\n",
    "\n",
    "If the training set and dev sets have different distributions, it is good practice to introduce a train-dev set that has the same distribution as the training set. This train-dev set will be used to measure how much the model is overfitting."
   ]
  },
  {
   "cell_type": "markdown",
   "id": "44b25390",
   "metadata": {},
   "source": [
    "19. What could go wrong if you use the test set to tune hyperparameters?\n",
    "\n",
    "If you use this data to choose hyperparameters, you actually give the model a chance to \"see\" the test data and to develop a bias towards this test data. Therefore, you actually lose the possibility to find out how good your model would actually be on unseen data"
   ]
  },
  {
   "cell_type": "code",
   "execution_count": null,
   "id": "fe0b5fb0",
   "metadata": {},
   "outputs": [],
   "source": []
  }
 ],
 "metadata": {
  "kernelspec": {
   "display_name": "Python 3 (ipykernel)",
   "language": "python",
   "name": "python3"
  },
  "language_info": {
   "codemirror_mode": {
    "name": "ipython",
    "version": 3
   },
   "file_extension": ".py",
   "mimetype": "text/x-python",
   "name": "python",
   "nbconvert_exporter": "python",
   "pygments_lexer": "ipython3",
   "version": "3.9.12"
  }
 },
 "nbformat": 4,
 "nbformat_minor": 5
}
