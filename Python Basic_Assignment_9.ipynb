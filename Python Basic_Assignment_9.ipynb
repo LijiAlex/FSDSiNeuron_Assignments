{
 "cells": [
  {
   "cell_type": "markdown",
   "id": "fc4dfdd4",
   "metadata": {},
   "source": [
    "### 1. To what does a relative path refer?"
   ]
  },
  {
   "cell_type": "markdown",
   "id": "d4dd2c1b",
   "metadata": {},
   "source": [
    "Relative path refers to the path of a particular file with respect to the current folder."
   ]
  },
  {
   "cell_type": "markdown",
   "id": "ebd8f342",
   "metadata": {},
   "source": [
    "### 2. What does an absolute path start with your operating system?"
   ]
  },
  {
   "cell_type": "markdown",
   "id": "3b1d2762",
   "metadata": {},
   "source": [
    "An absolute path refers to the path of a file with respect to the root directory"
   ]
  },
  {
   "cell_type": "markdown",
   "id": "9359b31e",
   "metadata": {},
   "source": [
    "### 3. What do the functions os.getcwd() and os.chdir() do?"
   ]
  },
  {
   "cell_type": "markdown",
   "id": "e2d098f8",
   "metadata": {},
   "source": [
    "The method getcwd() returns current working directory.\n",
    "<br>The method chdir() changes the current working directory to the given path."
   ]
  },
  {
   "cell_type": "markdown",
   "id": "8e400c57",
   "metadata": {},
   "source": [
    "### 4. What are the . and .. folders?"
   ]
  },
  {
   "cell_type": "markdown",
   "id": "999b96aa",
   "metadata": {},
   "source": [
    ". -> refers to the current directory.\n",
    "<br>.. -> refers to the previous directory."
   ]
  },
  {
   "cell_type": "markdown",
   "id": "e71dda63",
   "metadata": {},
   "source": [
    "### 5. In C:\\bacon\\eggs\\spam.txt, which part is the dir name, and which part is the base name?"
   ]
  },
  {
   "cell_type": "markdown",
   "id": "0e7b1d3a",
   "metadata": {},
   "source": [
    "dir name: C:\\bacon\\eggs\\\n",
    "base name: spam.txt"
   ]
  },
  {
   "cell_type": "markdown",
   "id": "67763716",
   "metadata": {},
   "source": [
    "### 6. What are the three “mode” arguments that can be passed to the open() function?"
   ]
  },
  {
   "cell_type": "markdown",
   "id": "0dd67f3e",
   "metadata": {},
   "source": [
    "read(r), write(w) and append(a)"
   ]
  },
  {
   "cell_type": "markdown",
   "id": "b3f9228c",
   "metadata": {},
   "source": [
    "### 7. What happens if an existing file is opened in write mode?"
   ]
  },
  {
   "cell_type": "markdown",
   "id": "6fcbb0b6",
   "metadata": {},
   "source": [
    "Entire content of the file will be erased/truncated."
   ]
  },
  {
   "cell_type": "markdown",
   "id": "6c06529d",
   "metadata": {},
   "source": [
    "### 8. How do you tell the difference between read() and readlines()?"
   ]
  },
  {
   "cell_type": "markdown",
   "id": "ffc506f4",
   "metadata": {},
   "source": [
    "read() reads the entire file content and returns as a single chunk.\n",
    "<br>readlines() returns a list of lines in the file."
   ]
  },
  {
   "cell_type": "markdown",
   "id": "3c4ff10a",
   "metadata": {},
   "source": [
    "### 9. What data structure does a shelf value resemble?"
   ]
  },
  {
   "cell_type": "markdown",
   "id": "f7d74e1d",
   "metadata": {},
   "source": [
    "dictionary"
   ]
  },
  {
   "cell_type": "code",
   "execution_count": null,
   "id": "fdd5d0dc",
   "metadata": {},
   "outputs": [],
   "source": []
  }
 ],
 "metadata": {
  "kernelspec": {
   "display_name": "Python 3",
   "language": "python",
   "name": "python3"
  },
  "language_info": {
   "codemirror_mode": {
    "name": "ipython",
    "version": 3
   },
   "file_extension": ".py",
   "mimetype": "text/x-python",
   "name": "python",
   "nbconvert_exporter": "python",
   "pygments_lexer": "ipython3",
   "version": "3.8.8"
  }
 },
 "nbformat": 4,
 "nbformat_minor": 5
}
