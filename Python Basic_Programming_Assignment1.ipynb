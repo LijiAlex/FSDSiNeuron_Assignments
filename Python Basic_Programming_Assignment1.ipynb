{
 "cells": [
  {
   "cell_type": "markdown",
   "id": "dfbea6e6-3356-4998-958d-a8f1334ef3a8",
   "metadata": {},
   "source": [
    "### Write a Python program to print \"Hello Python\"?"
   ]
  },
  {
   "cell_type": "code",
   "execution_count": 1,
   "id": "921ed887-620e-4d7a-9038-3e120a316599",
   "metadata": {},
   "outputs": [
    {
     "name": "stdout",
     "output_type": "stream",
     "text": [
      "Hello Python\n"
     ]
    }
   ],
   "source": [
    "print(\"Hello Python.\")"
   ]
  },
  {
   "cell_type": "markdown",
   "id": "e05e707b-cb58-4cff-8d83-e397fe127f3a",
   "metadata": {},
   "source": [
    "### Write a Python program to do arithmetical operations addition and division.?"
   ]
  },
  {
   "cell_type": "code",
   "execution_count": 4,
   "id": "01fc9223-fb06-4f29-b479-61164acf471f",
   "metadata": {},
   "outputs": [
    {
     "name": "stdin",
     "output_type": "stream",
     "text": [
      "Enter num 45\n",
      "Enter num 9\n"
     ]
    },
    {
     "name": "stdout",
     "output_type": "stream",
     "text": [
      "Addition operation of 45, 9 gives 54\n",
      "Division operation of 45, 9 gives 5.0\n"
     ]
    }
   ],
   "source": [
    "num1 = int(input(\"Enter num: \"))\n",
    "num2 = int(input(\"Enter num: \"))\n",
    "add = num1 + num2\n",
    "sol = num1 / num2\n",
    "print(\"Addition operation of {}, {} gives {}\".format(num1, num2, add))\n",
    "print(\"Division operation of {}, {} gives {}\".format(num1, num2, sol))"
   ]
  },
  {
   "cell_type": "markdown",
   "id": "ccb9910d-9488-41a6-a8a1-30cf14f4cc51",
   "metadata": {},
   "source": [
    "### Write a Python program to find the area of a triangle?"
   ]
  },
  {
   "cell_type": "code",
   "execution_count": 5,
   "id": "ab5a7515-d7cc-40a5-8a65-e3f568606199",
   "metadata": {},
   "outputs": [
    {
     "name": "stdin",
     "output_type": "stream",
     "text": [
      "Enter base of triangle:  10\n",
      "Enter altitude of triangle:  2\n"
     ]
    },
    {
     "name": "stdout",
     "output_type": "stream",
     "text": [
      "Area of triangle= 10.0\n"
     ]
    }
   ],
   "source": [
    "b = int(input(\"Enter base of triangle: \"))\n",
    "h = int(input(\"Enter altitude of triangle: \"))\n",
    "area = (b * h)/2\n",
    "print(\"Area of triangle= {}\".format(area))"
   ]
  },
  {
   "cell_type": "markdown",
   "id": "e7146e3a-c794-4543-b797-2879bf0b6f6e",
   "metadata": {},
   "source": [
    "### Write a Python program to swap two variables?"
   ]
  },
  {
   "cell_type": "code",
   "execution_count": 8,
   "id": "aaa7f512-e9a3-4ec8-998b-f45753b33d1f",
   "metadata": {},
   "outputs": [
    {
     "name": "stdin",
     "output_type": "stream",
     "text": [
      "Enter num:  6\n",
      "Enter num:  7\n"
     ]
    },
    {
     "name": "stdout",
     "output_type": "stream",
     "text": [
      "Swapped numbers:7, 6\n"
     ]
    }
   ],
   "source": [
    "num1 = int(input(\"Enter num: \"))\n",
    "num2 = int(input(\"Enter num: \"))\n",
    "num2, num1 = num1, num2\n",
    "print(\"Swapped numbers:{}, {}\".format(num1, num2))"
   ]
  },
  {
   "cell_type": "markdown",
   "id": "6cb668b2-c76e-4442-8de2-85aa9ddfabef",
   "metadata": {},
   "source": [
    "### Write a Python program to generate a random number?"
   ]
  },
  {
   "cell_type": "code",
   "execution_count": 9,
   "id": "a730991a-7e8a-44e7-9259-def6e35ce4ce",
   "metadata": {},
   "outputs": [
    {
     "ename": "TypeError",
     "evalue": "randint() missing 2 required positional arguments: 'a' and 'b'",
     "output_type": "error",
     "traceback": [
      "\u001b[1;31m---------------------------------------------------------------------------\u001b[0m",
      "\u001b[1;31mTypeError\u001b[0m                                 Traceback (most recent call last)",
      "\u001b[1;32m<ipython-input-9-2805f8a3b2f2>\u001b[0m in \u001b[0;36m<module>\u001b[1;34m\u001b[0m\n\u001b[0;32m      1\u001b[0m \u001b[1;32mimport\u001b[0m \u001b[0mrandom\u001b[0m\u001b[1;33m\u001b[0m\u001b[1;33m\u001b[0m\u001b[0m\n\u001b[1;32m----> 2\u001b[1;33m \u001b[0mrandNum\u001b[0m \u001b[1;33m=\u001b[0m \u001b[0mrandom\u001b[0m\u001b[1;33m.\u001b[0m\u001b[0mrandint\u001b[0m\u001b[1;33m(\u001b[0m\u001b[1;33m)\u001b[0m\u001b[1;33m\u001b[0m\u001b[1;33m\u001b[0m\u001b[0m\n\u001b[0m\u001b[0;32m      3\u001b[0m \u001b[0mprint\u001b[0m\u001b[1;33m(\u001b[0m\u001b[0mrandNum\u001b[0m\u001b[1;33m)\u001b[0m\u001b[1;33m\u001b[0m\u001b[1;33m\u001b[0m\u001b[0m\n",
      "\u001b[1;31mTypeError\u001b[0m: randint() missing 2 required positional arguments: 'a' and 'b'"
     ]
    }
   ],
   "source": [
    "import random\n",
    "randNum = random.randint(1,999)\n",
    "print(randNum)"
   ]
  },
  {
   "cell_type": "code",
   "execution_count": null,
   "id": "b466d100-049d-4e40-a417-bf5a3f18600f",
   "metadata": {},
   "outputs": [],
   "source": []
  },
  {
   "cell_type": "code",
   "execution_count": null,
   "id": "f466df1f-f85e-4492-87e2-4cb6de576f96",
   "metadata": {},
   "outputs": [],
   "source": []
  },
  {
   "cell_type": "code",
   "execution_count": null,
   "id": "6804af47-9045-40bd-822e-f050888fa677",
   "metadata": {},
   "outputs": [],
   "source": []
  },
  {
   "cell_type": "code",
   "execution_count": null,
   "id": "47963579-3b18-4ea2-93c7-dc8209f3635a",
   "metadata": {},
   "outputs": [],
   "source": []
  },
  {
   "cell_type": "code",
   "execution_count": null,
   "id": "a8fe8f60-f7be-4444-abd7-cc5843553df4",
   "metadata": {},
   "outputs": [],
   "source": []
  }
 ],
 "metadata": {
  "kernelspec": {
   "display_name": "Python 3",
   "language": "python",
   "name": "python3"
  },
  "language_info": {
   "codemirror_mode": {
    "name": "ipython",
    "version": 3
   },
   "file_extension": ".py",
   "mimetype": "text/x-python",
   "name": "python",
   "nbconvert_exporter": "python",
   "pygments_lexer": "ipython3",
   "version": "3.8.8"
  }
 },
 "nbformat": 4,
 "nbformat_minor": 5
}
